{
 "cells": [
  {
   "cell_type": "markdown",
   "id": "6125ab44",
   "metadata": {},
   "source": [
    "__Knapsack Problem Greedy Approach__"
   ]
  },
  {
   "cell_type": "code",
   "execution_count": 100,
   "id": "b3b07e48",
   "metadata": {},
   "outputs": [],
   "source": [
    "def knapSack(capacity, weight, profit, size):\n",
    "    stack = [f'knapSack({capacity} {weight} {profit} {size})']\n",
    "    \n",
    "    # Base Case\n",
    "    if size == 0 or capacity == 0:\n",
    "        print(stack.pop())\n",
    "        return 0\n",
    "\n",
    "    # If weight of the nth item is\n",
    "    # more than the knapSack capacity,\n",
    "    # then this item cannot be included\n",
    "    # in the optimal solution\n",
    "    if weight[size - 1] > capacity:\n",
    "        print(stack.pop())\n",
    "        return knapSack(capacity, weight, profit, size - 1)\n",
    "\n",
    "    # return the maximum of two cases:\n",
    "    # (1) nth item included\n",
    "    # (2) not included\n",
    "    else:\n",
    "        print(stack.pop())\n",
    "        left = profit[size - 1] + knapSack(capacity - weight[size - 1], weight, profit, size - 1)\n",
    "        right = knapSack(capacity, weight, profit, size - 1)\n",
    "        return max(left, right)"
   ]
  },
  {
   "cell_type": "code",
   "execution_count": 101,
   "id": "ffb78817",
   "metadata": {},
   "outputs": [],
   "source": [
    "pt = [15, 7, 6]\n",
    "wt = [5, 7, 1]\n",
    "C = 10\n",
    "n = len(pt)"
   ]
  },
  {
   "cell_type": "code",
   "execution_count": 102,
   "id": "bdb61c72",
   "metadata": {},
   "outputs": [
    {
     "name": "stdout",
     "output_type": "stream",
     "text": [
      "knapSack(10 [5, 7, 1] [15, 7, 6] 3)\n",
      "knapSack(9 [5, 7, 1] [15, 7, 6] 2)\n",
      "knapSack(2 [5, 7, 1] [15, 7, 6] 1)\n",
      "knapSack(2 [5, 7, 1] [15, 7, 6] 0)\n",
      "knapSack(9 [5, 7, 1] [15, 7, 6] 1)\n",
      "knapSack(4 [5, 7, 1] [15, 7, 6] 0)\n",
      "knapSack(9 [5, 7, 1] [15, 7, 6] 0)\n",
      "knapSack(10 [5, 7, 1] [15, 7, 6] 2)\n",
      "knapSack(3 [5, 7, 1] [15, 7, 6] 1)\n",
      "knapSack(3 [5, 7, 1] [15, 7, 6] 0)\n",
      "knapSack(10 [5, 7, 1] [15, 7, 6] 1)\n",
      "knapSack(5 [5, 7, 1] [15, 7, 6] 0)\n",
      "knapSack(10 [5, 7, 1] [15, 7, 6] 0)\n"
     ]
    },
    {
     "data": {
      "text/plain": [
       "21"
      ]
     },
     "execution_count": 102,
     "metadata": {},
     "output_type": "execute_result"
    }
   ],
   "source": [
    "knapSack(capacity=C, weight=wt, profit=pt, size=n)"
   ]
  },
  {
   "cell_type": "code",
   "execution_count": 173,
   "id": "b88bbcb1",
   "metadata": {},
   "outputs": [],
   "source": [
    "seq = [None] * 3"
   ]
  },
  {
   "cell_type": "code",
   "execution_count": 165,
   "id": "c7245682",
   "metadata": {},
   "outputs": [],
   "source": [
    "JP = {}"
   ]
  },
  {
   "cell_type": "code",
   "execution_count": 166,
   "id": "751763f1",
   "metadata": {},
   "outputs": [],
   "source": [
    "    id_ = \n",
    "  "
   ]
  }
 ],
 "metadata": {
  "kernelspec": {
   "display_name": "Python 3 (ipykernel)",
   "language": "python",
   "name": "python3"
  },
  "language_info": {
   "codemirror_mode": {
    "name": "ipython",
    "version": 3
   },
   "file_extension": ".py",
   "mimetype": "text/x-python",
   "name": "python",
   "nbconvert_exporter": "python",
   "pygments_lexer": "ipython3",
   "version": "3.9.7"
  }
 },
 "nbformat": 4,
 "nbformat_minor": 5
}

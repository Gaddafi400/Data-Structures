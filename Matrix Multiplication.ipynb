{
 "cells": [
  {
   "attachments": {},
   "cell_type": "markdown",
   "id": "909f5a24",
   "metadata": {},
   "source": [
    "### Multiplying a Matrix by Another Matrix\n",
    "\n",
    "\n",
    "To multiply a matrix by another matrix we need to do the \"dot product\" of rows and columns ... what does that mean? Let us see with an example:\n",
    "\n",
    "![](https://www.mathsisfun.com/algebra/images/matrix-multiply-a.svg)\n",
    "\n",
    "\n",
    "__Final result__\n",
    "\n",
    "![](https://www.mathsisfun.com/algebra/images/matrix-multiply-c.svg)\n",
    "\n",
    "`https://www.mathsisfun.com/algebra/matrix-multiplying.html`"
   ]
  },
  {
   "cell_type": "code",
   "execution_count": 68,
   "id": "12d787b4",
   "metadata": {},
   "outputs": [],
   "source": [
    "def matrixMul(a, b):\n",
    "    result = []\n",
    "    for i in range(len(a)):\n",
    "        for j in range(len(a)):\n",
    "            temp = 0 # for adding row and column element\n",
    "            for k in range(len(a[i])):\n",
    "                temp += a[i][k] * b[k][j]\n",
    "            result.append(temp)\n",
    "    return result"
   ]
  },
  {
   "cell_type": "code",
   "execution_count": null,
   "id": "887aa29d",
   "metadata": {},
   "outputs": [],
   "source": [
    " "
   ]
  },
  {
   "cell_type": "code",
   "execution_count": 71,
   "id": "09c8c4f5",
   "metadata": {},
   "outputs": [],
   "source": [
    "a = [[1, 2, 3], [4, 5, 6]]\n",
    "b = [[7, 8], [9, 10], [11, 12]]"
   ]
  },
  {
   "cell_type": "code",
   "execution_count": 72,
   "id": "67cb1b64",
   "metadata": {},
   "outputs": [
    {
     "data": {
      "text/plain": [
       "[58, 64, 139, 154]"
      ]
     },
     "execution_count": 72,
     "metadata": {},
     "output_type": "execute_result"
    }
   ],
   "source": [
    "matrixMul(a, b)"
   ]
  },
  {
   "cell_type": "code",
   "execution_count": null,
   "id": "81c4b172",
   "metadata": {},
   "outputs": [],
   "source": []
  },
  {
   "cell_type": "code",
   "execution_count": null,
   "id": "1722d7ce",
   "metadata": {},
   "outputs": [],
   "source": []
  }
 ],
 "metadata": {
  "kernelspec": {
   "display_name": "Python 3 (ipykernel)",
   "language": "python",
   "name": "python3"
  },
  "language_info": {
   "codemirror_mode": {
    "name": "ipython",
    "version": 3
   },
   "file_extension": ".py",
   "mimetype": "text/x-python",
   "name": "python",
   "nbconvert_exporter": "python",
   "pygments_lexer": "ipython3",
   "version": "3.9.7"
  }
 },
 "nbformat": 4,
 "nbformat_minor": 5
}

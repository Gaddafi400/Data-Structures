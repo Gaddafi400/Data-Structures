{
 "cells": [
  {
   "cell_type": "markdown",
   "id": "e95437d7",
   "metadata": {},
   "source": [
    "Types of recursion \n",
    "https://www.geeksforgeeks.org/types-of-recursions/"
   ]
  },
  {
   "cell_type": "code",
   "execution_count": null,
   "id": "6ab35ff0",
   "metadata": {},
   "outputs": [],
   "source": [
    "def A():\n",
    "    \"\"\"\n",
    "    This funtion is going return stackover flow \n",
    "    as the function will keep calling it self\n",
    "    maximum recursion depth exceeded\n",
    "    \"\"\"\n",
    "    return A()"
   ]
  },
  {
   "cell_type": "markdown",
   "id": "1c70ff5d",
   "metadata": {},
   "source": [
    "Base Case\n",
    "* When can i no loger continue\n",
    "Things to consider \n",
    "* What is the smallest input i can pass to the funtion\n",
    "* What is the smallest amount of work can i do in each iteration\n",
    "* What is the smallest amount of work can i do to contribute to the goal"
   ]
  },
  {
   "cell_type": "code",
   "execution_count": null,
   "id": "c1f57feb",
   "metadata": {},
   "outputs": [],
   "source": [
    "# reverse string\n",
    "# we cannot pop out the callstack untill the recursive call is comleted \n",
    "def reverseString(string):\n",
    "    if string == '':\n",
    "        return ''\n",
    "    # the smallest amount of work i can do \n",
    "    return reverseString(string[1:]) + string[0]"
   ]
  },
  {
   "cell_type": "code",
   "execution_count": null,
   "id": "e7d4df83",
   "metadata": {},
   "outputs": [],
   "source": [
    "reverseString('hello')"
   ]
  },
  {
   "cell_type": "code",
   "execution_count": null,
   "id": "799dc78c",
   "metadata": {},
   "outputs": [],
   "source": [
    "# number to binary using recursion\n",
    "def numberToBinary(decimal, result=''):  \n",
    "    if decimal == 0:\n",
    "        return result\n",
    "    result = str(decimal % 2) + result\n",
    "    \n",
    "    return numberToBinary(decimal // 2, result) \n",
    "\n",
    "numberToBinary(233)"
   ]
  },
  {
   "cell_type": "code",
   "execution_count": null,
   "id": "c36f1126",
   "metadata": {},
   "outputs": [],
   "source": [
    "def test(value=None):\n",
    "    return value if value else None"
   ]
  },
  {
   "cell_type": "code",
   "execution_count": null,
   "id": "4f2957ea",
   "metadata": {},
   "outputs": [],
   "source": [
    "test(\"Gaddafi\")"
   ]
  },
  {
   "cell_type": "code",
   "execution_count": null,
   "id": "86005f4a",
   "metadata": {},
   "outputs": [],
   "source": []
  },
  {
   "cell_type": "markdown",
   "id": "b88a63ed",
   "metadata": {},
   "source": [
    "__Backtracking In Recursion__"
   ]
  },
  {
   "cell_type": "code",
   "execution_count": null,
   "id": "42ce91d0",
   "metadata": {},
   "outputs": [],
   "source": [
    "# print number from 1-10\n",
    "# two function doing the same thing one using backtrack\n",
    "def num(start, stop):\n",
    "    if start > stop:\n",
    "        return \n",
    "    print(start)\n",
    "    num(start+1, stop)\n",
    "    \n",
    "\n",
    "def num(start, stop):\n",
    "    if stop < start:\n",
    "        return \n",
    "    num(start, stop-1)\n",
    "    # backtraking\n",
    "    print(stop)\n",
    "    \n",
    "# reverse order stop to start using backtracking\n",
    "def num(start, stop):\n",
    "    if start > stop:\n",
    "        return \n",
    "    num(start+1, stop)\n",
    "    # backtraking\n",
    "    print(start)"
   ]
  },
  {
   "cell_type": "code",
   "execution_count": null,
   "id": "a1761c22",
   "metadata": {},
   "outputs": [],
   "source": [
    "num(1, 10)"
   ]
  },
  {
   "cell_type": "code",
   "execution_count": null,
   "id": "b0a4e3b1",
   "metadata": {},
   "outputs": [],
   "source": [
    "# Factorial loop vs recursion \n",
    "\n",
    "def factorial(n):\n",
    "    fac = 1\n",
    "    for i in range(1, n+1):\n",
    "        fac *= i\n",
    "    return fac\n",
    "\n",
    "def factorial(n):\n",
    "    if n == 1:\n",
    "        return 1\n",
    "    return n * factorial(n-1)"
   ]
  },
  {
   "cell_type": "code",
   "execution_count": null,
   "id": "17416ee5",
   "metadata": {},
   "outputs": [],
   "source": [
    "factorial(4)"
   ]
  },
  {
   "cell_type": "code",
   "execution_count": 75,
   "id": "deab6e3d",
   "metadata": {},
   "outputs": [],
   "source": [
    "# sum of all natural numbers using Parameterised and Functional Recursion\n",
    "\n",
    "# Parameterised Recursion print the value of the perimeter\n",
    "def sumOfNumbers(number, total=0):\n",
    "    if number == 0:\n",
    "        print(total)\n",
    "        return total\n",
    "    total += number\n",
    "    sumOfNumbers(number-1, total=total)\n",
    "    \n",
    "# Funtional Recursion return something \n",
    "def sumOfNumbers(number):\n",
    "    if number == 1:\n",
    "        return 1\n",
    "    return number + sumOfNumbers(number-1)"
   ]
  },
  {
   "cell_type": "code",
   "execution_count": 76,
   "id": "e25bd2ac",
   "metadata": {},
   "outputs": [
    {
     "data": {
      "text/plain": [
       "10"
      ]
     },
     "execution_count": 76,
     "metadata": {},
     "output_type": "execute_result"
    }
   ],
   "source": [
    "sumOfNumbers(4)"
   ]
  },
  {
   "cell_type": "code",
   "execution_count": null,
   "id": "ceaa4471",
   "metadata": {},
   "outputs": [],
   "source": [
    "# using loop \n",
    "def reverseList(a):\n",
    "    i, j = 0, len(a)-1\n",
    "    while i < j:\n",
    "        a[i], a[j] = a[j], a[i]\n",
    "        i += 1\n",
    "        j -= 1\n",
    "    return a\n",
    "\n",
    "\n",
    "# using recursion \n",
    "def reverseList(a, i, j):\n",
    "    if i >= j:\n",
    "        return \n",
    "    a[i], a[j] = a[j], a[i]\n",
    "    reverseList(a, i+1, j-1)\n",
    "    return a\n",
    "\n",
    "# using recursion and one pointer formular (n-i-1)\n",
    "def reverseList(a, i, n):\n",
    "    if i >= n / 2:\n",
    "        return\n",
    "    \n",
    "    a[i], a[n-i-1] = a[n-i-1], a[i]\n",
    "    reverseList(a, i+1, n)\n",
    "    return a"
   ]
  },
  {
   "cell_type": "code",
   "execution_count": null,
   "id": "7f604711",
   "metadata": {},
   "outputs": [],
   "source": [
    "a = [1, 2, 3, 4, 5, 6]\n",
    "reverseList(a, 0, len(a))"
   ]
  },
  {
   "cell_type": "code",
   "execution_count": null,
   "id": "26205f1f",
   "metadata": {},
   "outputs": [],
   "source": []
  },
  {
   "cell_type": "code",
   "execution_count": 67,
   "id": "99beb728",
   "metadata": {},
   "outputs": [],
   "source": [
    "\"\"\"A palindrome is a word, number, phrase, or other sequence of characters which reads the same \n",
    "   backward as forward, such as madam or racecar\n",
    "\"\"\"\n",
    "# Solution using Parameterised and Functional Recursion\n",
    "def palindrome(word, i, n):\n",
    "    if i >= n / 2:\n",
    "        print(True)\n",
    "        return\n",
    "    if word[i] != word[n-i-1]:\n",
    "        print(False)\n",
    "        return \n",
    "    palindrome(word, i+1, n)\n",
    "    \n",
    "\n",
    "def palindrome(word, i, n):\n",
    "    if i >= n / 2:\n",
    "        return True\n",
    "    if word[i] != word[n-i-1]:\n",
    "        return False\n",
    "    return palindrome(word, i+1, n)\n",
    "\n",
    "# space and time compelexity is n/2 "
   ]
  },
  {
   "cell_type": "code",
   "execution_count": 68,
   "id": "c07ed647",
   "metadata": {},
   "outputs": [
    {
     "data": {
      "text/plain": [
       "True"
      ]
     },
     "execution_count": 68,
     "metadata": {},
     "output_type": "execute_result"
    }
   ],
   "source": [
    "word = 'madam'\n",
    "palindrome(word, 0, len(word))"
   ]
  },
  {
   "cell_type": "markdown",
   "id": "ddda01ea",
   "metadata": {},
   "source": [
    "__Multiple Recursion Calls__"
   ]
  },
  {
   "cell_type": "code",
   "execution_count": null,
   "id": "62f108ea",
   "metadata": {},
   "outputs": [],
   "source": [
    "\"\"\"\n",
    "In mathematics, the Fibonacci numbers, commonly denoted Fn , form a sequence, the Fibonacci sequence, \n",
    "in which each number is the sum of the two preceding ones.The sequence commonly starts from 0 and 1.\n",
    "0, 1, 1, 2, 3, 5, 8, 13, 21, 34, 55, 89, 144, ...\n",
    "\"\"\"\n",
    "\n",
    "def fibonacci(n):\n",
    "    if n == 1 or n == 0:\n",
    "        return n\n",
    "    a = 0\n",
    "    b = 1\n",
    "    c = None\n",
    "    for i in range(2, n+1):\n",
    "        c = a + b\n",
    "        a = b\n",
    "        b = c\n",
    "    return c\n",
    "\n",
    "# using recursion \n",
    "\n",
    "def fibonacci(n):\n",
    "    if n == 1 or n == 0:\n",
    "        return n\n",
    "    left = fibonacci(n-1)\n",
    "    right = fibonacci(n -2)\n",
    "    return left + right"
   ]
  },
  {
   "cell_type": "code",
   "execution_count": null,
   "id": "847a9c00",
   "metadata": {},
   "outputs": [],
   "source": [
    "fibonacci(4)"
   ]
  },
  {
   "cell_type": "code",
   "execution_count": null,
   "id": "df60f1f5",
   "metadata": {},
   "outputs": [],
   "source": []
  },
  {
   "cell_type": "markdown",
   "id": "b837b3ba",
   "metadata": {},
   "source": [
    "__Subsequences__\n",
    "\n",
    "- Print All \n",
    "    - parameterised recursion\n",
    "- Print one answer\n",
    "    - return True and False & avoid further recursion call if you get True as return value\n",
    "- Count\n",
    "    - return 1 || return 0, Add all the f() and then return "
   ]
  },
  {
   "cell_type": "code",
   "execution_count": 145,
   "id": "600f5891",
   "metadata": {},
   "outputs": [],
   "source": [
    "def subsequences(seq, index, array):\n",
    "    if index >= len(seq):\n",
    "        print(array)\n",
    "        return\n",
    "    \n",
    "    array.append(seq[index])\n",
    "    subsequences(seq, index+1, array)\n",
    "    array.pop()\n",
    "    subsequences(seq, index+1, array)"
   ]
  },
  {
   "cell_type": "code",
   "execution_count": null,
   "id": "d883e7c6",
   "metadata": {},
   "outputs": [],
   "source": [
    "seq = [3, 1, 2]\n",
    "subsequences(seq, 0, [])"
   ]
  },
  {
   "cell_type": "markdown",
   "id": "fd27180c",
   "metadata": {},
   "source": [
    "__Print count of  Subsequence__ "
   ]
  },
  {
   "cell_type": "code",
   "execution_count": null,
   "id": "ae73e398",
   "metadata": {},
   "outputs": [],
   "source": [
    "def subsequences(seq, index, array):\n",
    "    if index >= len(seq):\n",
    "        return 1\n",
    "\n",
    "    array.append(seq[index])\n",
    "    left = subsequences(seq, index + 1, array)\n",
    "    array.pop()\n",
    "    right = subsequences(seq, index + 1, array)\n",
    "    return left + right"
   ]
  },
  {
   "cell_type": "code",
   "execution_count": null,
   "id": "1beccac6",
   "metadata": {},
   "outputs": [],
   "source": [
    "seq = [3, 1, 2]\n",
    "subsequences(seq, 0, [])"
   ]
  },
  {
   "cell_type": "markdown",
   "id": "d52133c5",
   "metadata": {},
   "source": [
    "__Printing Subsequence whose Summation is == K__"
   ]
  },
  {
   "cell_type": "code",
   "execution_count": null,
   "id": "ec5fa81f",
   "metadata": {},
   "outputs": [],
   "source": [
    "def subsequences(seq, index, array, s, summation=2):\n",
    "    if index >= len(seq):\n",
    "        if s == summation:\n",
    "            print(array)\n",
    "        return \n",
    "\n",
    "    array.append(seq[index])\n",
    "    s = sum(array)\n",
    "    subsequences(seq, index+1, array, s, summation=2)\n",
    "    array.pop()\n",
    "    s = sum(array)\n",
    "    subsequences(seq, index+1, array, s, summation=2)"
   ]
  },
  {
   "cell_type": "code",
   "execution_count": null,
   "id": "0d692cb5",
   "metadata": {},
   "outputs": [],
   "source": [
    "seq = [1, 2, 1]\n",
    "subsequences(seq, 0, [], 0)"
   ]
  },
  {
   "cell_type": "markdown",
   "id": "55654dc8",
   "metadata": {},
   "source": [
    "__Printing One Subsequence of whose Summation is == K__"
   ]
  },
  {
   "cell_type": "code",
   "execution_count": 158,
   "id": "6b854950",
   "metadata": {},
   "outputs": [],
   "source": [
    "# using global variable \n",
    "\n",
    "flag = True\n",
    "def subsequences(seq, index, array, s, summation=2):\n",
    "    global flag\n",
    "    if index >= len(seq):\n",
    "        if flag and s == summation:\n",
    "            flag = False\n",
    "            print(array)\n",
    "        return\n",
    "    array.append(seq[index])\n",
    "    s = sum(array)\n",
    "    subsequences(seq, index + 1, array, s, summation=2)\n",
    "    array.pop()\n",
    "    s = sum(array)\n",
    "    subsequences(seq, index + 1, array, s, summation=2)\n",
    "    \n",
    "# using function\n",
    "def subsequences(seq, index, array, s, summation=2):\n",
    "    if index >= len(seq):\n",
    "        if s == summation:\n",
    "            print(array)\n",
    "            return True\n",
    "        return False\n",
    "\n",
    "    array.append(seq[index])\n",
    "    # s = sum(array)\n",
    "    s += seq[index]\n",
    "    if subsequences(seq, index+1, array, s, summation=2):\n",
    "        return True\n",
    "    array.pop()\n",
    "    # s = sum(array)\n",
    "    s -= seq[index]\n",
    "    if subsequences(seq, index+1, array, s, summation=2):\n",
    "        return True\n",
    "    return False"
   ]
  },
  {
   "cell_type": "code",
   "execution_count": 159,
   "id": "1d33f7cf",
   "metadata": {},
   "outputs": [
    {
     "name": "stdout",
     "output_type": "stream",
     "text": [
      "[1, 1]\n"
     ]
    },
    {
     "data": {
      "text/plain": [
       "True"
      ]
     },
     "execution_count": 159,
     "metadata": {},
     "output_type": "execute_result"
    }
   ],
   "source": [
    "seq = [1, 2, 1]\n",
    "subsequences(seq, 0, [], 0)"
   ]
  },
  {
   "cell_type": "markdown",
   "id": "6471b920",
   "metadata": {},
   "source": [
    " "
   ]
  },
  {
   "cell_type": "markdown",
   "id": "40b5a828",
   "metadata": {},
   "source": [
    "__Print count of Subsequence whose Summation is == 2__"
   ]
  },
  {
   "cell_type": "code",
   "execution_count": 150,
   "id": "e3797c1e",
   "metadata": {},
   "outputs": [],
   "source": [
    "def subsequences(seq, index, s, summation=2):\n",
    "    if s > summation: return 0\n",
    "    if index >= len(seq):\n",
    "        if s == summation:\n",
    "            return 1\n",
    "        return 0\n",
    "    s += seq[index]\n",
    "    left = subsequences(seq, index+1, s, summation=2)\n",
    "    s -= seq[index]\n",
    "    right = subsequences(seq, index+1, s, summation=2)\n",
    "    return left + right"
   ]
  },
  {
   "cell_type": "code",
   "execution_count": 151,
   "id": "a8d663c3",
   "metadata": {},
   "outputs": [
    {
     "data": {
      "text/plain": [
       "2"
      ]
     },
     "execution_count": 151,
     "metadata": {},
     "output_type": "execute_result"
    }
   ],
   "source": [
    "seq = [1, 2, 1]\n",
    "subsequences(seq, 0,  0)"
   ]
  },
  {
   "cell_type": "code",
   "execution_count": null,
   "id": "0e0821fb",
   "metadata": {},
   "outputs": [],
   "source": []
  },
  {
   "cell_type": "markdown",
   "id": "cbfc7e82",
   "metadata": {},
   "source": [
    "`Note` \n",
    "\n",
    "* Printing parameter wise\n",
    "* Printing one answer\n",
    "> return True of False and avoid further recurtion calls if you get True\n",
    "\n",
    "* Count Return 0 and 1 and add all the function and return "
   ]
  },
  {
   "cell_type": "code",
   "execution_count": null,
   "id": "c23fb847",
   "metadata": {},
   "outputs": [],
   "source": []
  },
  {
   "cell_type": "markdown",
   "id": "758d32b5",
   "metadata": {},
   "source": [
    "__Combination Sum | Recursion | Leetcode__"
   ]
  },
  {
   "cell_type": "code",
   "execution_count": 160,
   "id": "31c15633",
   "metadata": {},
   "outputs": [],
   "source": [
    "\"\"\"\n",
    "Given an array of distinct integers candidates and a target integer target, return a list of all unique combinations\n",
    "of candidates where the chosen numbers sum == target. You may return the combinations in any order.\n",
    "The same number may be chosen from candidates an unlimited number of times. Two combinations are unique if the frequency\n",
    "of at least one of the chosen numbers is different. It is guaranteed that the number of unique combinations that sum up\n",
    "to target is less than 150 combinations for the given input.\n",
    "\"\"\"\n",
    "def combinationSum(array, index, target, emptyList, answer):\n",
    "    stack = []\n",
    "    stack.append(f'{array} - {target} - {emptyList} - {index}')\n",
    " \n",
    "    # If target is zero no need for further recursion \n",
    "    if index == len(array) or target == 0:\n",
    "        if target == 0:\n",
    "            answer.append(list(emptyList))\n",
    "        print(stack.pop())\n",
    "        return \n",
    "    \n",
    "     \n",
    "    if array[index] <= target:\n",
    "        emptyList.append(array[index])\n",
    "        combinationSum(array, index, target - array[index], emptyList, answer)\n",
    "        emptyList.pop()\n",
    "    combinationSum(array, index + 1, target, emptyList, answer)\n",
    "    print(stack.pop())\n",
    "    return answer"
   ]
  },
  {
   "cell_type": "code",
   "execution_count": 161,
   "id": "c1448111",
   "metadata": {},
   "outputs": [
    {
     "name": "stdout",
     "output_type": "stream",
     "text": [
      "[2, 3, 6, 7] - 1 - [2, 2, 2] - 4\n",
      "[2, 3, 6, 7] - 1 - [2, 2, 2] - 3\n",
      "[2, 3, 6, 7] - 1 - [2, 2, 2] - 2\n",
      "[2, 3, 6, 7] - 1 - [2, 2, 2] - 1\n",
      "[2, 3, 6, 7] - 1 - [2, 2, 2] - 0\n",
      "[2, 3, 6, 7] - 0 - [2, 2, 3] - 1\n",
      "[2, 3, 6, 7] - 3 - [2, 2] - 4\n",
      "[2, 3, 6, 7] - 3 - [2, 2] - 3\n",
      "[2, 3, 6, 7] - 3 - [2, 2] - 2\n",
      "[2, 3, 6, 7] - 3 - [2, 2] - 1\n",
      "[2, 3, 6, 7] - 3 - [2, 2] - 0\n",
      "[2, 3, 6, 7] - 2 - [2, 3] - 4\n",
      "[2, 3, 6, 7] - 2 - [2, 3] - 3\n",
      "[2, 3, 6, 7] - 2 - [2, 3] - 2\n",
      "[2, 3, 6, 7] - 2 - [2, 3] - 1\n",
      "[2, 3, 6, 7] - 5 - [2] - 4\n",
      "[2, 3, 6, 7] - 5 - [2] - 3\n",
      "[2, 3, 6, 7] - 5 - [2] - 2\n",
      "[2, 3, 6, 7] - 5 - [2] - 1\n",
      "[2, 3, 6, 7] - 5 - [2] - 0\n",
      "[2, 3, 6, 7] - 1 - [3, 3] - 4\n",
      "[2, 3, 6, 7] - 1 - [3, 3] - 3\n",
      "[2, 3, 6, 7] - 1 - [3, 3] - 2\n",
      "[2, 3, 6, 7] - 1 - [3, 3] - 1\n",
      "[2, 3, 6, 7] - 4 - [3] - 4\n",
      "[2, 3, 6, 7] - 4 - [3] - 3\n",
      "[2, 3, 6, 7] - 4 - [3] - 2\n",
      "[2, 3, 6, 7] - 4 - [3] - 1\n",
      "[2, 3, 6, 7] - 1 - [6] - 4\n",
      "[2, 3, 6, 7] - 1 - [6] - 3\n",
      "[2, 3, 6, 7] - 1 - [6] - 2\n",
      "[2, 3, 6, 7] - 0 - [7] - 3\n",
      "[2, 3, 6, 7] - 7 - [] - 4\n",
      "[2, 3, 6, 7] - 7 - [] - 3\n",
      "[2, 3, 6, 7] - 7 - [] - 2\n",
      "[2, 3, 6, 7] - 7 - [] - 1\n",
      "[2, 3, 6, 7] - 7 - [] - 0\n"
     ]
    },
    {
     "data": {
      "text/plain": [
       "[[2, 2, 3], [7]]"
      ]
     },
     "execution_count": 161,
     "metadata": {},
     "output_type": "execute_result"
    }
   ],
   "source": [
    "index = 0\n",
    "array = [2, 3, 6, 7]\n",
    "target = 7\n",
    "answer = []\n",
    "emptyList = []\n",
    "combinationSum(array, index, target, emptyList, answer)"
   ]
  },
  {
   "cell_type": "code",
   "execution_count": null,
   "id": "334065cb",
   "metadata": {},
   "outputs": [],
   "source": []
  },
  {
   "cell_type": "code",
   "execution_count": null,
   "id": "677b1bc4",
   "metadata": {},
   "outputs": [],
   "source": [
    "\"\"\"\n",
    "Given a collection of candidate numbers ( candidates ) and a target number ( target ), find all unique combinations \n",
    "in candidates where the candidate numbers sum to target Each number in candidates may only be used once in the \n",
    "combination.\n",
    "Note: The solution set must not contain duplicate combinations.\n",
    "\"\"\"\n",
    "def combinationSum(array, index, target, emptyList, answer):\n",
    "    array.sort()\n",
    "    if index == len(array):\n",
    "        if target == 0:\n",
    "            answer.add(tuple(emptyList))\n",
    "        return\n",
    "\n",
    "    if array[index] <= target:\n",
    "        emptyList.append(array[index])\n",
    "        combinationSum(array, index + 1, target - array[index], emptyList, answer)\n",
    "        emptyList.pop()\n",
    "    combinationSum(array, index + 1, target, emptyList, answer)\n",
    "    \n",
    "    return answer"
   ]
  },
  {
   "cell_type": "code",
   "execution_count": null,
   "id": "322e51c0",
   "metadata": {},
   "outputs": [],
   "source": [
    "index = 0\n",
    "array = [10, 1, 2, 7, 6, 1, 5] # [1, 1, 1, 2, 2]\n",
    "target = 8\n",
    "answer = set()\n",
    "emptyList = []"
   ]
  },
  {
   "cell_type": "code",
   "execution_count": null,
   "id": "5f7a7e04",
   "metadata": {},
   "outputs": [],
   "source": [
    "re = combinationSum(array, index, target, emptyList, answer)"
   ]
  },
  {
   "cell_type": "code",
   "execution_count": null,
   "id": "7ffaa017",
   "metadata": {},
   "outputs": [],
   "source": [
    "a = [list(i) for i in re]\n",
    "a.sort()"
   ]
  },
  {
   "cell_type": "code",
   "execution_count": null,
   "id": "49e78b67",
   "metadata": {},
   "outputs": [],
   "source": [
    "a"
   ]
  },
  {
   "cell_type": "code",
   "execution_count": null,
   "id": "744959b5",
   "metadata": {},
   "outputs": [],
   "source": []
  },
  {
   "cell_type": "code",
   "execution_count": 17,
   "id": "bb2e0898",
   "metadata": {},
   "outputs": [],
   "source": [
    "\"\"\"\n",
    "Given a collection of candidate numbers ( candidates ) and a target number ( target ), find all unique combinations in\n",
    "candidates where the candidate numbers sum to target\n",
    "Each number in candidates may only be used once in the combination.\n",
    "Note: The solution set must not contain duplicate combinations.\n",
    "\"\"\"\n",
    "\n",
    "def combinationSum(array, index, target, emptyList, answer):\n",
    "    array.sort()\n",
    "    if target == 0:\n",
    "        answer.append(list(emptyList))\n",
    "        return\n",
    "\n",
    "    for i in range(index, len(array)):\n",
    "        if i > index and array[i] == array[i - 1]:\n",
    "            continue\n",
    "        # optimazation\n",
    "        if array[i] > target:\n",
    "            break\n",
    "        emptyList.append(array[i])\n",
    "        combinationSum(array, i + 1, target - array[i], emptyList, answer)\n",
    "        emptyList.pop()\n",
    "        \n",
    "    return answer  "
   ]
  },
  {
   "cell_type": "code",
   "execution_count": 18,
   "id": "c2c3f360",
   "metadata": {},
   "outputs": [
    {
     "data": {
      "text/plain": [
       "[[1, 1, 6], [1, 2, 5], [1, 7], [2, 6]]"
      ]
     },
     "execution_count": 18,
     "metadata": {},
     "output_type": "execute_result"
    }
   ],
   "source": [
    "idx = 0\n",
    "a = [10, 1, 2, 7, 6, 1, 5]\n",
    "t = 8\n",
    "ans = []\n",
    "e = []\n",
    "combinationSum(a, idx, t, e, ans)"
   ]
  },
  {
   "cell_type": "code",
   "execution_count": null,
   "id": "bf85ca53",
   "metadata": {},
   "outputs": [],
   "source": []
  },
  {
   "cell_type": "markdown",
   "id": "eeafc5b3",
   "metadata": {},
   "source": [
    "__Subset Sum__"
   ]
  },
  {
   "cell_type": "code",
   "execution_count": 162,
   "id": "4453ee7e",
   "metadata": {},
   "outputs": [],
   "source": [
    "\"\"\"\n",
    "Given a list (Arr) of N integers, print sums of all subsets in it. \n",
    "Output should be printed in increasing order of sums.\n",
    "\"\"\"\n",
    "def subsetSum(seq, index, array, sumSubset):\n",
    "    def _subsetSum(seq, index, array, sumSubset):\n",
    "        if index >= len(seq):\n",
    "            sumSubset.append(sum(array))\n",
    "            return\n",
    "        array.append(seq[index])\n",
    "        _subsetSum(seq, index + 1, array, sumSubset)\n",
    "        array.pop()\n",
    "        _subsetSum(seq, index + 1, array, sumSubset)\n",
    "        return sumSubset\n",
    "    output = _subsetSum(seq, index, array, sumSubset)\n",
    "    output.sort()\n",
    "    return output"
   ]
  },
  {
   "cell_type": "code",
   "execution_count": 163,
   "id": "e49d0864",
   "metadata": {},
   "outputs": [
    {
     "data": {
      "text/plain": [
       "[0, 1, 2, 3, 5, 6, 7, 8]"
      ]
     },
     "execution_count": 163,
     "metadata": {},
     "output_type": "execute_result"
    }
   ],
   "source": [
    "seq = [5, 2, 1]\n",
    "subsetSum(seq, 0, [], []) "
   ]
  },
  {
   "cell_type": "markdown",
   "id": "c625aa8c",
   "metadata": {},
   "source": [
    "__Subset Sum (II)__ "
   ]
  },
  {
   "cell_type": "code",
   "execution_count": null,
   "id": "f5ce1b61",
   "metadata": {},
   "outputs": [],
   "source": [
    "\"\"\"\n",
    "Given an integer array num that may contain duplicates, return all possible subsets (the power set),\n",
    "the solution set must not contain duplicate subsets! Return the solution in any order.\n",
    "\"\"\"\n",
    "def subsetNoDuplicate(seq, index, emptyList, ans):\n",
    "    seq.sort()\n",
    "\n",
    "    ans.append(list(emptyList))\n",
    "    for i in range(index, len(seq)):\n",
    "        if i != index and seq[i] == seq[i - 1]:\n",
    "            continue\n",
    "        emptyList.append(seq[i])\n",
    "        subsetNoDuplicate(seq, i + 1, emptyList, ans)\n",
    "        emptyList.pop()\n",
    "    return ans"
   ]
  },
  {
   "cell_type": "code",
   "execution_count": null,
   "id": "d5a3b70a",
   "metadata": {},
   "outputs": [],
   "source": [
    "seq = [1, 2, 2]\n",
    "subsetNoDuplicate(seq, 0, [], [])"
   ]
  },
  {
   "cell_type": "code",
   "execution_count": null,
   "id": "7250954a",
   "metadata": {},
   "outputs": [],
   "source": []
  },
  {
   "cell_type": "code",
   "execution_count": 41,
   "id": "a33f562f",
   "metadata": {},
   "outputs": [],
   "source": [
    "from typing import Union, Optional\n",
    "\n",
    "\"\"\" Given an array nums of distinct integers, return all the possible permutations. You can return the answer in any \n",
    "order.\"\"\"\n",
    "def permutations(seq: Union[list, str, int], freq: dict, emptyList: list, ans: list) -> Optional[list]:\n",
    "    \n",
    "    \n",
    "    if len(emptyList) == len(seq):\n",
    "        return ans.append(list(emptyList))\n",
    "\n",
    "    for i in range(len(seq)):\n",
    "        if not freq.get(i):\n",
    "            freq[i] = True\n",
    "            emptyList.append(seq[i])\n",
    "            permutations(seq, freq, emptyList, ans)\n",
    "            emptyList.pop()\n",
    "            freq[i] = False\n",
    "            \n",
    "    return ans"
   ]
  },
  {
   "cell_type": "code",
   "execution_count": 43,
   "id": "adc9c00f",
   "metadata": {},
   "outputs": [
    {
     "data": {
      "text/plain": [
       "[[1, 2, 3]]"
      ]
     },
     "execution_count": 43,
     "metadata": {},
     "output_type": "execute_result"
    }
   ],
   "source": [
    "s = [1, 2, 3]\n",
    "permutations(s, {}, [], [])"
   ]
  },
  {
   "cell_type": "code",
   "execution_count": null,
   "id": "8ab921d2",
   "metadata": {},
   "outputs": [],
   "source": []
  },
  {
   "cell_type": "code",
   "execution_count": 52,
   "id": "0b81a08d",
   "metadata": {},
   "outputs": [],
   "source": [
    "# no extra data structure \n",
    "def swap(array, a, b):\n",
    "    array[a], array[b] = array[b], array[a]\n",
    "    return array\n",
    "\n",
    "def permutation(array, index, ans):\n",
    "    if index == len(array):\n",
    "        ans.append(list(array))\n",
    "        return\n",
    "\n",
    "    for i in range(index, len(array)):\n",
    "        swap(array, i, index)\n",
    "        permutation(array, index + 1, ans)\n",
    "        swap(array, i, index)\n",
    "\n",
    "    return ans"
   ]
  },
  {
   "cell_type": "code",
   "execution_count": 55,
   "id": "1ba4c2b2",
   "metadata": {},
   "outputs": [
    {
     "name": "stdout",
     "output_type": "stream",
     "text": [
      "[[1, 2, 3], [1, 3, 2], [2, 1, 3], [2, 3, 1], [3, 2, 1], [3, 1, 2]]\n"
     ]
    }
   ],
   "source": [
    "s = [1, 2, 3]\n",
    "print(permutation(s, 0, []))"
   ]
  },
  {
   "cell_type": "code",
   "execution_count": null,
   "id": "581b5485",
   "metadata": {},
   "outputs": [],
   "source": []
  },
  {
   "cell_type": "code",
   "execution_count": null,
   "id": "055124d5",
   "metadata": {},
   "outputs": [],
   "source": [
    "\"\"\"\n",
    "The n_queens puzzle is the problem of placing n queens on an n x n chessboard such that no two queens attack each other.\n",
    "Given an integer n, return all distinct solutions to the n-queens puzzle.\n",
    "Each solution contains a distinct board configuration of the n-queens' placement, where \"Q\" and\n",
    "\".\" both indicate a queen and an empty space, respectively.\n",
    "\"\"\"\n",
    "from copy import deepcopy\n",
    "\n",
    "\n",
    "def is_safe(board, row, column):\n",
    "    n = len(board)\n",
    "    column_left = column\n",
    "    column_right = column\n",
    "    while row >= 0:\n",
    "        if (column_left >= 0 and board[row][column_left] == 'Q') \\\n",
    "                or board[row][column] == 'Q' \\\n",
    "                or (column_right < n and board[row][column_right] == 'Q'):\n",
    "            return False\n",
    "        row -= 1\n",
    "        column_left -= 1\n",
    "        column_right += 1\n",
    "    return True\n",
    "\n",
    "\n",
    "def rec(board, row, ans):\n",
    "    n = len(board)\n",
    "\n",
    "    if row == n:\n",
    "        ans.append(deepcopy(board))\n",
    "        return\n",
    "\n",
    "    for column in range(n):\n",
    "        if is_safe(board, row, column):\n",
    "            board[row][column] = \"Q\"\n",
    "            rec(board, row + 1, ans)\n",
    "            board[row][column] = '.'\n",
    "    return ans\n",
    "\n",
    "\n",
    "def n_queens(n):\n",
    "    board = [['.'] * n for _ in range(n)]\n",
    "    return rec(board=board, row=0, ans=[])\n",
    "\n",
    "\n",
    "if __name__ == '__main__':\n",
    "    for i in n_queens(4):\n",
    "        print(i)"
   ]
  },
  {
   "cell_type": "code",
   "execution_count": null,
   "id": "4aebd1d8",
   "metadata": {},
   "outputs": [],
   "source": []
  },
  {
   "cell_type": "code",
   "execution_count": null,
   "id": "c17938c4",
   "metadata": {},
   "outputs": [],
   "source": [
    "def isValid(grid, row, column, number):\n",
    "    # Is the number appearing in the given row? or is the number appearing in the given column? or\n",
    "    # Is the number appearing in the given square?\n",
    "    for i in range(0, 9):\n",
    "        if (grid[row][i] == number) or (grid[i][column] == number) or \\\n",
    "                (grid[3 * (row // 3) + i // 3][3 * (column // 3) + i % 3] == number):\n",
    "            return False\n",
    "    return True\n",
    "\n",
    "\n",
    "def solveSudoku(grid):\n",
    "    for row in range(0, 9):\n",
    "        for column in range(0, 9):\n",
    "            if grid[row][column] == 0:\n",
    "                for number in range(1, 10):\n",
    "                    if isValid(grid, row, column, number):\n",
    "                        grid[row][column] = number\n",
    "                        solveSudoku(grid)\n",
    "                        grid[row][column] = 0\n",
    "                return\n",
    "    print(*grid, sep='\\n')\n",
    "\n",
    "\n",
    "if __name__ == '__main__':\n",
    "    grid = [\n",
    "        [0, 0, 4, 0, 5, 0, 0, 0, 0],\n",
    "        [9, 0, 0, 7, 3, 4, 6, 0, 0],\n",
    "        [0, 0, 3, 0, 2, 1, 0, 4, 9],\n",
    "        [0, 3, 5, 0, 9, 0, 4, 8, 0],\n",
    "        [0, 9, 0, 0, 0, 0, 0, 3, 0],\n",
    "        [0, 7, 6, 0, 1, 0, 9, 2, 0],\n",
    "        [3, 1, 0, 9, 7, 0, 2, 0, 0],\n",
    "        [0, 0, 9, 1, 8, 2, 0, 0, 3],\n",
    "        [0, 0, 0, 0, 6, 0, 1, 0, 0]\n",
    "    ]\n",
    "    solveSudoku(grid)"
   ]
  },
  {
   "cell_type": "code",
   "execution_count": 44,
   "id": "9e956a05",
   "metadata": {},
   "outputs": [],
   "source": []
  },
  {
   "cell_type": "code",
   "execution_count": 46,
   "id": "c84eb117",
   "metadata": {},
   "outputs": [],
   "source": [
    "\"\"\"\n",
    "Given a string s, partition s such that every substring of the partition is a palindrome. Return all possible\n",
    "palindrome partitioning of s.\n",
    "A palindrome string is a string that reads the same backward as forward.\n",
    "\"\"\"\n",
    "\n",
    "def isPalindrome(txt, start, end):\n",
    "    while start <= end:\n",
    "        if txt[start] != txt[end]:\n",
    "            return False\n",
    "        start += 1\n",
    "        end -= 1\n",
    "    return True\n",
    "\n",
    "\n",
    "def palindromePartitioning(txt, start, path, result):\n",
    "    if start == len(txt):\n",
    "        return result.append(list(path))\n",
    "\n",
    "    for end in range(start, len(txt)):\n",
    "        if isPalindrome(txt, start, end):\n",
    "            path.append(txt[start:end + 1])\n",
    "            palindromePartitioning(txt, end + 1, path, result)\n",
    "            path.pop()\n",
    "    return result"
   ]
  },
  {
   "cell_type": "code",
   "execution_count": 47,
   "id": "93f2ad94",
   "metadata": {},
   "outputs": [
    {
     "name": "stdout",
     "output_type": "stream",
     "text": [
      "[['a', 'a', 'b'], ['aa', 'b']]\n"
     ]
    }
   ],
   "source": [
    "ss = 'aab'\n",
    "print(palindromePartitioning(ss, 0, [], []))"
   ]
  },
  {
   "cell_type": "code",
   "execution_count": null,
   "id": "d2720bd6",
   "metadata": {},
   "outputs": [],
   "source": []
  },
  {
   "cell_type": "code",
   "execution_count": null,
   "id": "e1b5079f",
   "metadata": {},
   "outputs": [],
   "source": [
    "# if (not (i >= 0 and i < n and j >= 0 and j < n and not visited[i][j] and m[i][j] == 1)):\n",
    "\n",
    "def isValid(maze, x, y, n, visited):\n",
    "    if not (0 <= x < n and 0 <= y < n and not visited[x][y] and maze[x][y] == 1):\n",
    "        return False\n",
    "    return True\n",
    "\n",
    "\n",
    "def findPath(maze, n):\n",
    "    visited = [[0] * n for _ in range(n)]\n",
    "    result = []\n",
    "\n",
    "    def recur(x, y, d):\n",
    "        if x == n - 1 and y == n - 1:\n",
    "            result.append(d)\n",
    "            return\n",
    "\n",
    "        if isValid(maze, x, y, n, visited):\n",
    "            visited[x][y] = 1\n",
    "            directions = [[x + 1, y, 'D'], [x, y + 1, 'R'], [x - 1, y, 'U'], [x, y - 1, 'L']]\n",
    "            for moveX, moveY, direction in directions:\n",
    "                recur(moveX, moveY, d + direction)\n",
    "            visited[x][y] = 0\n",
    "\n",
    "    recur(0, 0, \"\")\n",
    "    return result\n",
    "\n",
    "\n",
    "if __name__ == '__main__':\n",
    "    movement = []\n",
    "    m = [\n",
    "        [1, 0, 0, 0],\n",
    "        [1, 1, 0, 1],\n",
    "        [1, 1, 0, 0],\n",
    "        [0, 1, 1, 1],\n",
    "    ]\n",
    "    print(findPath(m, len(m)))"
   ]
  },
  {
   "cell_type": "code",
   "execution_count": null,
   "id": "b2158dba",
   "metadata": {},
   "outputs": [],
   "source": []
  },
  {
   "cell_type": "code",
   "execution_count": 79,
   "id": "a0bab748",
   "metadata": {},
   "outputs": [
    {
     "name": "stdout",
     "output_type": "stream",
     "text": [
      "011111101010100001011001111010110110000001111\n"
     ]
    }
   ],
   "source": [
    "import heapq\n",
    "from collections import Counter\n",
    "\n",
    "\n",
    "class Tree:\n",
    "    def __init__(self, ch, freq, left=None, right=None):\n",
    "        self.ch = ch\n",
    "        self.freq = freq\n",
    "        self.left = left\n",
    "        self.right = right\n",
    "\n",
    "    def __lt__(self, other):\n",
    "        return self.freq < other.freq\n",
    "\n",
    "\n",
    "def build_tree(text):\n",
    "    # Create a dictionary/hash table to store text and its frequency\n",
    "    counter = Counter(text)\n",
    "    # Create a list of Trees with its character and its frequency\n",
    "    pq = [Tree(ch, counter[ch]) for ch in counter]\n",
    "\n",
    "    # Convert our list into min heapq data structure\n",
    "    heapq.heapify(pq)\n",
    "    # After heapify all our nodes are sorted from min to max\n",
    "    # We perform optimal (2way) merging on our list until we left with one element\n",
    "    while len(pq) > 1:\n",
    "        # two min node extracted from our heapq\n",
    "        left = heapq.heappop(pq)\n",
    "        right = heapq.heappop(pq)\n",
    "        # character is None, we merge our two frequency\n",
    "        parent = Tree(None, left.freq + right.freq, left, right)\n",
    "        # We return our merge node into our priority queue\n",
    "        heapq.heappush(pq, parent)\n",
    "    # We return the last element from our priority queue as it represent the root of the tree\n",
    "    return heapq.heappop(pq)\n",
    "\n",
    "\n",
    "def build_map(root):\n",
    "    def dfs(root, code, encoding_map):\n",
    "        if root.ch:\n",
    "            encoding_map[root.ch] = ''.join(code)\n",
    "        else:\n",
    "            code.append('0')\n",
    "            dfs(root.left, code, encoding_map)\n",
    "            code.pop()\n",
    "            code.append('1')\n",
    "            dfs(root.right, code, encoding_map)\n",
    "            code.pop()\n",
    "\n",
    "    encoding_map = {}\n",
    "    dfs(root, [], encoding_map)\n",
    "    return encoding_map\n",
    "\n",
    "\n",
    "def encode(text):\n",
    "    root = build_tree(text)\n",
    "    encoding_map = build_map(root)\n",
    "    return ''.join([encoding_map[ch] for ch in text])\n",
    "\n",
    "\n",
    "def decode(encoded, root):\n",
    "    if root.ch:\n",
    "        return root.ch * root.freq\n",
    "    decoded = []\n",
    "    node = root\n",
    "    for bit in encoded:\n",
    "        if bit == \"0\":\n",
    "            node = node.left\n",
    "        else:\n",
    "            node = node.right\n",
    "        if node.ch:\n",
    "            decoded.append(node.ch)\n",
    "            node = root\n",
    "    return ''.join(decoded)\n",
    "\n",
    "\n",
    " \n",
    "\n",
    "\n",
    "if __name__ == '__main__':\n",
    "    # sleeplessness, BCCABBDDAECCBBAEDDCC\n",
    "    txt = 'BCCABBDDAECCBBAEDDCC'\n",
    "    root = build_tree(txt)\n",
    "    map = build_map(root)\n",
    "    encode = encode(txt)\n",
    "    decode = decode(encode, root)\n",
    "    print(encode)"
   ]
  },
  {
   "cell_type": "code",
   "execution_count": null,
   "id": "932e644c",
   "metadata": {},
   "outputs": [],
   "source": []
  },
  {
   "cell_type": "code",
   "execution_count": null,
   "id": "a53c9f7b",
   "metadata": {},
   "outputs": [],
   "source": [
    "def kthPermutation(n, k):\n",
    "    ans = ''\n",
    "    \"\"\"get a list of nth number with factorial of nth - 1\"\"\"\n",
    "    fact = 1\n",
    "    numbers = list()\n",
    "    for i in range(1, n):\n",
    "        fact *= i\n",
    "        numbers.append(i)\n",
    "    numbers.append(n)\n",
    "\n",
    "    k = k - 1\n",
    "    while True:\n",
    "        ans += str(numbers[k // fact])\n",
    "        numbers.pop(k // fact)\n",
    "        if len(numbers) == 0:\n",
    "            break\n",
    "        k = k % fact\n",
    "        fact = fact // len(numbers)\n",
    "    return ans\n",
    "\n",
    "if __name__ == '__main__':\n",
    "    n_ = 4\n",
    "    k_ = 17\n",
    "    print(kthPermutation(n_, k_))"
   ]
  }
 ],
 "metadata": {
  "kernelspec": {
   "display_name": "Python 3 (ipykernel)",
   "language": "python",
   "name": "python3"
  },
  "language_info": {
   "codemirror_mode": {
    "name": "ipython",
    "version": 3
   },
   "file_extension": ".py",
   "mimetype": "text/x-python",
   "name": "python",
   "nbconvert_exporter": "python",
   "pygments_lexer": "ipython3",
   "version": "3.9.7"
  }
 },
 "nbformat": 4,
 "nbformat_minor": 5
}

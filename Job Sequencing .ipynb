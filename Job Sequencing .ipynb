{
 "cells": [
  {
   "cell_type": "markdown",
   "id": "5e127676",
   "metadata": {},
   "source": [
    "### Job Sequencing with Deadlines - Greedy Method"
   ]
  },
  {
   "cell_type": "code",
   "execution_count": 1,
   "id": "04dffaa8",
   "metadata": {},
   "outputs": [],
   "source": [
    "def jobSequencing(jobs, profits, datelines):\n",
    "    sequence = [None] * max(datelines)\n",
    "\n",
    "    for i in range(len(profits)):\n",
    "        index = datelines[i]\n",
    "        while 1 <= index <= len(sequence):\n",
    "            if sequence[index - 1] is None:\n",
    "                sequence[index - 1] = jobs[i]\n",
    "                break\n",
    "            else:\n",
    "                index -= 1\n",
    "    return sequence"
   ]
  },
  {
   "cell_type": "code",
   "execution_count": 2,
   "id": "37d5627e",
   "metadata": {},
   "outputs": [],
   "source": [
    "jobs_ = ['j1', 'j2', 'j3', 'j4', 'j5']\n",
    "profits_ = [20, 15, 10, 5, 1]\n",
    "datelines_ = [2, 2, 1, 3, 3]"
   ]
  },
  {
   "cell_type": "code",
   "execution_count": 3,
   "id": "40cd7ba9",
   "metadata": {},
   "outputs": [
    {
     "data": {
      "text/plain": [
       "['j2', 'j1', 'j4']"
      ]
     },
     "execution_count": 3,
     "metadata": {},
     "output_type": "execute_result"
    }
   ],
   "source": [
    "jobSequencing(jobs_, profits_, datelines_)"
   ]
  },
  {
   "cell_type": "code",
   "execution_count": 4,
   "id": "96d6caf6",
   "metadata": {},
   "outputs": [],
   "source": [
    "jobs_ = ['j1', 'j2', 'j3', 'j4', 'j5', 'j5', 'j6', 'j7']\n",
    "profits_ = [35, 30, 25, 20, 15, 12, 5]\n",
    "datelines_ = [3, 4, 4, 2, 3, 1, 2]"
   ]
  },
  {
   "cell_type": "code",
   "execution_count": 5,
   "id": "fc32570b",
   "metadata": {},
   "outputs": [
    {
     "data": {
      "text/plain": [
       "['j4', 'j3', 'j1', 'j2']"
      ]
     },
     "execution_count": 5,
     "metadata": {},
     "output_type": "execute_result"
    }
   ],
   "source": [
    "jobSequencing(jobs_, profits_, datelines_)"
   ]
  },
  {
   "cell_type": "code",
   "execution_count": null,
   "id": "c49af1de",
   "metadata": {},
   "outputs": [],
   "source": []
  }
 ],
 "metadata": {
  "kernelspec": {
   "display_name": "Python 3 (ipykernel)",
   "language": "python",
   "name": "python3"
  },
  "language_info": {
   "codemirror_mode": {
    "name": "ipython",
    "version": 3
   },
   "file_extension": ".py",
   "mimetype": "text/x-python",
   "name": "python",
   "nbconvert_exporter": "python",
   "pygments_lexer": "ipython3",
   "version": "3.9.7"
  }
 },
 "nbformat": 4,
 "nbformat_minor": 5
}

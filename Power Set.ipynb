{
 "cells": [
  {
   "cell_type": "markdown",
   "id": "d4501fc4",
   "metadata": {},
   "source": [
    "set  = {a,b,c}\n",
    "\n",
    "setSize = 3\n",
    "\n",
    "powerSetSize = pow(2, setSize) = 8\n",
    "\n",
    "Run for binary counter = 000 to 111\n",
    "\n",
    " \n",
    "                     \n",
    "<table>\n",
    "    <tr>\n",
    "        <th>Value of Counter <th>\n",
    "        <th>Subset<th>\n",
    "    <tr>\n",
    "    <tr>\n",
    "        <td> 000 <td>\n",
    "        <td> Empty set <td>\n",
    "    <tr>\n",
    "    <tr>\n",
    "        <td> 001 <td>\n",
    "        <td> a <td>\n",
    "    <tr>\n",
    "    <tr>\n",
    "        <td> 010 <td>\n",
    "        <td> b <td>\n",
    "    <tr>\n",
    "    <tr>\n",
    "        <td> 011  <td>\n",
    "        <td> ab <td>\n",
    "    <tr>    <tr>\n",
    "        <td> 100 <td>\n",
    "        <td> c <td>\n",
    "    <tr>\n",
    "    <tr>\n",
    "        <td> 101 <td>\n",
    "        <td> ac <td>\n",
    "    <tr>    <tr>\n",
    "        <td> 110 <td>\n",
    "        <td> bc <td>\n",
    "    <tr>    <tr>\n",
    "        <td> 111 <td>\n",
    "        <td> abc <td>\n",
    "    <tr>    \n",
    "<table>"
   ]
  },
  {
   "cell_type": "markdown",
   "id": "72606568",
   "metadata": {},
   "source": [
    "__Finding sub set string using power set__"
   ]
  },
  {
   "cell_type": "code",
   "execution_count": 1,
   "id": "3d382b67",
   "metadata": {},
   "outputs": [],
   "source": [
    "import math\n",
    "\n",
    "def findSubstring(text):\n",
    "    size = len(text)\n",
    "    powerSet = int(math.pow(2, size))\n",
    "    subset = set()\n",
    "    for i in range(powerSet):\n",
    "        sub = ''\n",
    "        for j in range(size):\n",
    "            if (i & (1 << j)) > 0:\n",
    "                sub += text[j]\n",
    "        subset.add(sub)\n",
    "    return subset"
   ]
  },
  {
   "cell_type": "code",
   "execution_count": 2,
   "id": "9c68d7a4",
   "metadata": {},
   "outputs": [
    {
     "data": {
      "text/plain": [
       "{'', 'a', 'ab', 'abc', 'ac', 'b', 'bc', 'c'}"
      ]
     },
     "execution_count": 2,
     "metadata": {},
     "output_type": "execute_result"
    }
   ],
   "source": [
    "string = 'abc'\n",
    "findSubstring(string)"
   ]
  },
  {
   "cell_type": "code",
   "execution_count": null,
   "id": "e4b0c073",
   "metadata": {},
   "outputs": [],
   "source": []
  }
 ],
 "metadata": {
  "kernelspec": {
   "display_name": "Python 3 (ipykernel)",
   "language": "python",
   "name": "python3"
  },
  "language_info": {
   "codemirror_mode": {
    "name": "ipython",
    "version": 3
   },
   "file_extension": ".py",
   "mimetype": "text/x-python",
   "name": "python",
   "nbconvert_exporter": "python",
   "pygments_lexer": "ipython3",
   "version": "3.9.7"
  }
 },
 "nbformat": 4,
 "nbformat_minor": 5
}

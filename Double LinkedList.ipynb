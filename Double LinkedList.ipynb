{
 "cells": [
  {
   "cell_type": "markdown",
   "id": "0a942953",
   "metadata": {},
   "source": [
    "![](https://sebhastian.com/doubly-linked-list-javascript/doubly-linked-list-example.png)"
   ]
  },
  {
   "cell_type": "code",
   "execution_count": 22,
   "id": "eac4e45c",
   "metadata": {},
   "outputs": [],
   "source": [
    "class Node:\n",
    "    def __init__(self, data=None, nextNode=None, prevNode=None):\n",
    "        self.data = data\n",
    "        self.nextNode = nextNode\n",
    "        self.prevNode = prevNode"
   ]
  },
  {
   "cell_type": "code",
   "execution_count": 1,
   "id": "6a5bc8cc",
   "metadata": {},
   "outputs": [],
   "source": [
    "class DoubleLinkList:\n",
    "    def __init__(self, head=None):\n",
    "        self.head = head\n",
    "        \n",
    "    def __repr__(self):\n",
    "        return f'{self.head}'"
   ]
  },
  {
   "cell_type": "code",
   "execution_count": null,
   "id": "dd71c500",
   "metadata": {},
   "outputs": [],
   "source": [
    "list0 = DoubleLinkList()"
   ]
  },
  {
   "cell_type": "code",
   "execution_count": null,
   "id": "786ebb51",
   "metadata": {},
   "outputs": [],
   "source": [
    "list0.head = Node(1, None, None)"
   ]
  },
  {
   "cell_type": "code",
   "execution_count": null,
   "id": "931b7ab6",
   "metadata": {},
   "outputs": [],
   "source": [
    "list0.head.nextNode = Node(2, None, list0.head)"
   ]
  },
  {
   "cell_type": "code",
   "execution_count": null,
   "id": "60a7a3e2",
   "metadata": {},
   "outputs": [],
   "source": [
    "list0.head.data, list0.head.nextNode.data"
   ]
  },
  {
   "cell_type": "code",
   "execution_count": null,
   "id": "7286b6d0",
   "metadata": {},
   "outputs": [],
   "source": []
  },
  {
   "cell_type": "code",
   "execution_count": 876,
   "id": "6ef932f8",
   "metadata": {},
   "outputs": [],
   "source": [
    "class DoubleLinkList:\n",
    "    \n",
    "    def __init__(self, head=None):\n",
    "        self.head = head\n",
    "        \n",
    "        \n",
    "    def insertAtBeggining(self, value):\n",
    "        if self.head is None:\n",
    "            node = Node(value, None, None)\n",
    "            self.head = node\n",
    "        else:\n",
    "            self.head.prevNode = self.head\n",
    "            node = Node(value, self.head, None)\n",
    "            self.head = node\n",
    "            \n",
    "    def insertBeforeNode(self, refNode, value):\n",
    "        if self.head is None:\n",
    "            return\n",
    "        \n",
    "        currentNode = self.head\n",
    "        if currentNode.data == refNode:\n",
    "            return self.insertAtBeggining(value)\n",
    "        else:\n",
    "            count = 0\n",
    "            index = self.getIndex(refNode)\n",
    "            if index is None:\n",
    "                return f\"refNode {refNode} doesn't exist\"\n",
    "            while currentNode.nextNode is not None:\n",
    "                if count == index -1:\n",
    "                    currentNode.nextNode = Node(value, currentNode.nextNode, currentNode)\n",
    "                currentNode = currentNode.nextNode\n",
    "                count += 1\n",
    "                \n",
    "    def insertAfterNode(self, refNode, value):\n",
    "        if self.head is None:\n",
    "            return\n",
    "        \n",
    "        currentNode = self.head\n",
    "        if currentNode.data == refNode:\n",
    "            return self.append(value)\n",
    "        else:\n",
    "            count = 0\n",
    "            index = self.getIndex(refNode)\n",
    "            if index is None:\n",
    "                return f\"refNode {refNode} doesn't exist\"\n",
    "            while currentNode.nextNode is not None:\n",
    "                if count == index:\n",
    "                    node = Node(value, currentNode.nextNode, currentNode)\n",
    "                    currentNode.nextNode = node\n",
    "                currentNode = currentNode.nextNode\n",
    "                count += 1\n",
    "                \n",
    "            \n",
    "    def append(self, value):\n",
    "        if self.head is None:\n",
    "            self.head = Node(value, None, None)     \n",
    "        else:\n",
    "            currentNode = self.head\n",
    "            while currentNode.nextNode is not None:\n",
    "                currentNode = currentNode.nextNode\n",
    "            currentNode.nextNode = Node(value, None, currentNode)\n",
    "            \n",
    "    def traverse(self):\n",
    "        if self.head is None:\n",
    "            return\n",
    "        currentNode = self.head\n",
    "        while currentNode is not None:\n",
    "            print(f'{currentNode.data} ->', end=' ')\n",
    "            currentNode = currentNode.nextNode\n",
    "            \n",
    "    def getSize(self):\n",
    "        if self.head is None:\n",
    "            return   \n",
    "        count = 0\n",
    "        currentNode = self.head\n",
    "        while currentNode is not None:\n",
    "            count += 1\n",
    "            currentNode = currentNode.nextNode\n",
    "        return count\n",
    "    \n",
    "    def getIndex(self, value):\n",
    "        if self.head is None:\n",
    "            return \n",
    "        index = 0\n",
    "        currentNode = self.head\n",
    "        while currentNode is not None:\n",
    "            if currentNode.data == value:\n",
    "                return index\n",
    "            else:\n",
    "                currentNode = currentNode.nextNode\n",
    "                index += 1\n",
    "        return None\n",
    "    \n",
    "    def reverse(self):\n",
    "        if self.head is None:\n",
    "            return\n",
    "        lastNode = self.getLastNode()\n",
    "        currentNode = lastNode\n",
    "        while currentNode is not None:\n",
    "            print(f'{currentNode.data} ->', end=' ')\n",
    "            currentNode = currentNode.prevNode\n",
    "        \n",
    "    def getLastNode(self):\n",
    "        if self.head is None:\n",
    "            return \n",
    "        currentNode = self.head\n",
    "        while currentNode.nextNode is not None:\n",
    "            currentNode = currentNode.nextNode\n",
    "        return currentNode\n",
    "        \n",
    "    def deleteNode(self, value):\n",
    "        if self.head is None:\n",
    "            return    \n",
    "        \n",
    "        currentNode = self.head      \n",
    "        if currentNode.data == value:\n",
    "            self.head = currentNode.nextNode\n",
    "            self.head.prevNode = None \n",
    "            return\n",
    "\n",
    "        while currentNode.nextNode is not None:\n",
    "            if currentNode.nextNode.data == value:\n",
    "                currentNode.nextNode = currentNode.nextNode.nextNode\n",
    "                currentNode.prevNode = None\n",
    "                break\n",
    "            currentNode = currentNode.nextNode\n",
    "        return None\n",
    "    \n",
    "    def removeDublicate(self):\n",
    "        if self.head is None:\n",
    "            return\n",
    "        \n",
    "        newList = set()\n",
    "        currentNode = self.head\n",
    "        while currentNode is not None:\n",
    "            newList.add(currentNode.data)\n",
    "            currentNode = currentNode.nextNode\n",
    "        self.head = None\n",
    "        for i in newList:\n",
    "            self.append(i)"
   ]
  },
  {
   "cell_type": "code",
   "execution_count": 877,
   "id": "37d4b0d4",
   "metadata": {},
   "outputs": [],
   "source": [
    "list1 = DoubleLinkList()"
   ]
  },
  {
   "cell_type": "code",
   "execution_count": null,
   "id": "96837fc5",
   "metadata": {},
   "outputs": [],
   "source": [
    "list1.append(16)\n",
    "list1.append(15)\n",
    "list1.append(14)\n",
    "list1.append(15)\n",
    "list1.append(13)"
   ]
  },
  {
   "cell_type": "code",
   "execution_count": 879,
   "id": "de4b6332",
   "metadata": {},
   "outputs": [],
   "source": [
    "list1.removeDublicate()"
   ]
  }
 ],
 "metadata": {
  "kernelspec": {
   "display_name": "Python 3 (ipykernel)",
   "language": "python",
   "name": "python3"
  },
  "language_info": {
   "codemirror_mode": {
    "name": "ipython",
    "version": 3
   },
   "file_extension": ".py",
   "mimetype": "text/x-python",
   "name": "python",
   "nbconvert_exporter": "python",
   "pygments_lexer": "ipython3",
   "version": "3.9.7"
  }
 },
 "nbformat": 4,
 "nbformat_minor": 5
}

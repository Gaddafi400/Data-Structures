{
 "cells": [
  {
   "cell_type": "markdown",
   "id": "b374ff99",
   "metadata": {},
   "source": [
    "## Problem \n",
    "\n",
    "\n",
    "In this notebook, we'll focus on solving the following problem:\n",
    "\n",
    "> **QUESTION 1**: As a senior backend engineer, you are tasked with developing a fast in-memory data structure to manage profile information (username, name and email) for 100 million users. It should allow the following operations to be performed efficiently:\n",
    "> \n",
    "> 1. **Insert** the profile information for a new user.\n",
    "> 2. **Find** the profile information of a user, given their username\n",
    "> 3. **Update** the profile information of a user, given their usrname\n",
    "> 5. **List** all the users of the platform, sorted by username\n",
    ">\n",
    "> You can assume that usernames are unique. \n",
    "\n"
   ]
  },
  {
   "cell_type": "code",
   "execution_count": 1,
   "id": "2bfe8398",
   "metadata": {},
   "outputs": [],
   "source": [
    "class User:\n",
    "    def __init__(self, name, username, email):\n",
    "        self.name = name\n",
    "        self.username = username\n",
    "        self.email = email\n",
    "        print('User created!')"
   ]
  },
  {
   "cell_type": "code",
   "execution_count": 2,
   "id": "6b980028",
   "metadata": {},
   "outputs": [
    {
     "name": "stdout",
     "output_type": "stream",
     "text": [
      "User created!\n"
     ]
    }
   ],
   "source": [
    "user = User('Gaddaf Adamu', 'gaddafi', 'gaddafi@gmail.com')"
   ]
  },
  {
   "cell_type": "markdown",
   "id": "cf2b0770",
   "metadata": {},
   "source": [
    "You can also define custom methods inside a class "
   ]
  },
  {
   "cell_type": "code",
   "execution_count": 178,
   "id": "8c646107",
   "metadata": {},
   "outputs": [
    {
     "data": {
      "text/plain": [
       "<__main__.User at 0x7fc52e966ac0>"
      ]
     },
     "execution_count": 178,
     "metadata": {},
     "output_type": "execute_result"
    }
   ],
   "source": [
    "user"
   ]
  },
  {
   "cell_type": "markdown",
   "id": "07061731",
   "metadata": {},
   "source": [
    "Here's what's happening above (conceptually):\n",
    "\n",
    "- Python creates an empty object of the type user and stores in the variable `user`\n",
    "- Python then invokes the function `User.___init__` with the arguments `user`, `\"Gaddafi\"`, `\"Gaddafi Adamu\"` and `\"gaddafi@doe.com\"`\n",
    "- As the `__init__` function is executed, the properties `username`, `name` and `email` are set on the object `user`"
   ]
  },
  {
   "cell_type": "code",
   "execution_count": 3,
   "id": "50c76239",
   "metadata": {},
   "outputs": [],
   "source": [
    "class User:\n",
    "    def __init__(self, name, username, email):\n",
    "        self.name = name\n",
    "        self.username = username\n",
    "        self.email = email\n",
    "        print('User created!')\n",
    "        \n",
    "    def introduceYourSelf(self, guestName):\n",
    "        print(f\"Hi {guestName}, I'm {self.name}! Contact me at {self.email}\")"
   ]
  },
  {
   "cell_type": "code",
   "execution_count": 4,
   "id": "69189d35",
   "metadata": {},
   "outputs": [
    {
     "name": "stdout",
     "output_type": "stream",
     "text": [
      "User created!\n"
     ]
    }
   ],
   "source": [
    "user1 = User('Gaddaf Adamu', 'gaddafi', 'gaddafi@gmail.com')"
   ]
  },
  {
   "cell_type": "code",
   "execution_count": 5,
   "id": "35d1e442",
   "metadata": {},
   "outputs": [
    {
     "name": "stdout",
     "output_type": "stream",
     "text": [
      "Hi John, I'm Gaddaf Adamu! Contact me at gaddafi@gmail.com\n"
     ]
    }
   ],
   "source": [
    "user1.introduceYourSelf('John')"
   ]
  },
  {
   "cell_type": "markdown",
   "id": "ef4b3060",
   "metadata": {},
   "source": [
    "When we try to invoke the method `user3.introduce_yourself`, the object `user3` is automatically passed as the first argument `self`. Indeed, the following statement is equivalent to the above statement."
   ]
  },
  {
   "cell_type": "code",
   "execution_count": 6,
   "id": "ae8dfc4f",
   "metadata": {},
   "outputs": [
    {
     "name": "stdout",
     "output_type": "stream",
     "text": [
      "Hi Aliyu, I'm Gaddaf Adamu! Contact me at gaddafi@gmail.com\n"
     ]
    }
   ],
   "source": [
    "User.introduceYourSelf(user, 'Aliyu')"
   ]
  },
  {
   "cell_type": "markdown",
   "id": "84d6d990",
   "metadata": {},
   "source": [
    "Helper Funtion"
   ]
  },
  {
   "cell_type": "code",
   "execution_count": 7,
   "id": "5dcb33d7",
   "metadata": {},
   "outputs": [],
   "source": [
    "class User:\n",
    "    def __init__(self, name, username, email):\n",
    "        self.name = name\n",
    "        self.username = username\n",
    "        self.email = email\n",
    "        print('User created!')\n",
    "        \n",
    "    def introduceYourSelf(self, guestName):\n",
    "        print(f\"Hi {guestName}, I'm {self.name}! Contact me at {self.email}\")\n",
    "        \n",
    "    def __repr__(self):\n",
    "        return f\"User(username={self.username}, name={self.name}, email={self.email})\"\n",
    "    \n",
    "    def __str__(self):\n",
    "        return self.__repr__()\n",
    "    "
   ]
  },
  {
   "cell_type": "code",
   "execution_count": 8,
   "id": "59839c5a",
   "metadata": {},
   "outputs": [
    {
     "name": "stdout",
     "output_type": "stream",
     "text": [
      "User created!\n"
     ]
    }
   ],
   "source": [
    "user2 = User('Auwal Ronaldo', 'ronaldo', 'ronaldo@gmail.com')"
   ]
  },
  {
   "cell_type": "code",
   "execution_count": 9,
   "id": "9c62eb0c",
   "metadata": {},
   "outputs": [
    {
     "name": "stdout",
     "output_type": "stream",
     "text": [
      "User(username=ronaldo, name=Auwal Ronaldo, email=ronaldo@gmail.com)\n"
     ]
    }
   ],
   "source": [
    "print(user2)"
   ]
  },
  {
   "cell_type": "markdown",
   "id": "adb97c08",
   "metadata": {},
   "source": [
    "#### Output\n",
    "\n",
    "We can also express our desired data structure as a Python class `UserDatabase` with four methods: `insert`, `find`, `update` and `list_all`. "
   ]
  },
  {
   "cell_type": "code",
   "execution_count": 10,
   "id": "d90d1cbe",
   "metadata": {},
   "outputs": [],
   "source": [
    "class UserDatabase:\n",
    "    \n",
    "    def insert(self, user):\n",
    "        pass\n",
    "    \n",
    "    def find(self, user):\n",
    "        pass\n",
    "    \n",
    "    def update(self, user):\n",
    "        pass\n",
    "    \n",
    "    def listAll(self):\n",
    "        pass\n",
    "    \n",
    "        "
   ]
  },
  {
   "cell_type": "markdown",
   "id": "0f6c5b9e",
   "metadata": {},
   "source": [
    "It's good programming practice to list out the signatures of different class functions before we actually implement the class."
   ]
  },
  {
   "cell_type": "markdown",
   "id": "35a6a987",
   "metadata": {},
   "source": [
    "## 2. Come up with some example inputs & outputs. \n",
    "\n",
    "Let's create some sample user profiles that we can use to test our functions once we implement them."
   ]
  },
  {
   "cell_type": "code",
   "execution_count": 11,
   "id": "f5124536",
   "metadata": {},
   "outputs": [
    {
     "name": "stdout",
     "output_type": "stream",
     "text": [
      "User created!\n",
      "User created!\n",
      "User created!\n",
      "User created!\n",
      "User created!\n",
      "User created!\n",
      "User created!\n"
     ]
    }
   ],
   "source": [
    "aakash = User('aakash', 'Aakash Rai', 'aakash@example.com')\n",
    "biraj = User('biraj', 'Biraj Das', 'biraj@example.com')\n",
    "hemanth = User('hemanth', 'Hemanth Jain', 'hemanth@example.com')\n",
    "jadhesh = User('jadhesh', 'Jadhesh Verma', 'jadhesh@example.com')\n",
    "siddhant = User('siddhant', 'Siddhant Sinha', 'siddhant@example.com')\n",
    "sonaksh = User('sonaksh', 'Sonaksh Kumar', 'sonaksh@example.com')\n",
    "vishal = User('vishal', 'Vishal Goel', 'vishal@example.com')"
   ]
  },
  {
   "cell_type": "code",
   "execution_count": 12,
   "id": "6271029e",
   "metadata": {},
   "outputs": [],
   "source": [
    "users = [aakash, biraj, hemanth, jadhesh, siddhant, sonaksh, vishal]"
   ]
  },
  {
   "cell_type": "markdown",
   "id": "416ed775",
   "metadata": {},
   "source": [
    "## 3. Come up with a correct solution. State it in plain English.\n",
    "\n",
    "Here's a simple and easy solution to the problem: we store the `User` objects in a list sorted by usernames. \n",
    "\n",
    "The various functions can be implemented as follows:\n",
    "\n",
    "1. **Insert**: Loop through the list and add the new user at a position that keeps the list sorted.\n",
    "2. **Find**: Loop through the list and find the user object with the username matching the query.\n",
    "3. **Update**: Loop through the list, find the user object matching the query and update the details\n",
    "4. **List**: Return the list of user objects.\n",
    "\n",
    "We can use the fact usernames, which are are strings can be compared using the `<`, `>` and `==` operators in Python."
   ]
  },
  {
   "cell_type": "code",
   "execution_count": null,
   "id": "797de81e",
   "metadata": {},
   "outputs": [],
   "source": []
  },
  {
   "cell_type": "markdown",
   "id": "9f3a6f4b",
   "metadata": {},
   "source": [
    "## 4. Implement the solution and test it using example inputs.\n",
    "\n",
    "The code for implementing the above solution is also fairly straightfoward."
   ]
  },
  {
   "cell_type": "code",
   "execution_count": 13,
   "id": "f7fe8693",
   "metadata": {},
   "outputs": [],
   "source": [
    "class UserDatabase:\n",
    "    \n",
    "    def __init__(self, users):\n",
    "        self.users = users\n",
    "    \n",
    "    def insert(self, user):\n",
    "        index = 0\n",
    "        for i in range(len(self.users)):\n",
    "            if len(users[i].username) > len(user.username):\n",
    "                break\n",
    "            index += 1\n",
    "        self.users.insert(index, user)\n",
    "\n",
    "    def find(self, username):\n",
    "        for user in self.users:\n",
    "            if user.username == username:\n",
    "                return user\n",
    "        return -1\n",
    "    \n",
    "    def update(self, user):\n",
    "        target = self.find(user.username)\n",
    "        target.name, target.email = user.name, user.email\n",
    "        return self.find(user.username)\n",
    "    \n",
    "    def listAll(self):\n",
    "        return self.users"
   ]
  },
  {
   "cell_type": "code",
   "execution_count": 14,
   "id": "27b44ae5",
   "metadata": {},
   "outputs": [],
   "source": [
    "database = UserDatabase(users)"
   ]
  },
  {
   "cell_type": "code",
   "execution_count": 15,
   "id": "c063bece",
   "metadata": {},
   "outputs": [
    {
     "name": "stdout",
     "output_type": "stream",
     "text": [
      "User created!\n"
     ]
    }
   ],
   "source": [
    "gas = User('gas', 'ronaldinho', 'ronaldo@gmail.com')"
   ]
  },
  {
   "cell_type": "code",
   "execution_count": 16,
   "id": "4ebd86bb",
   "metadata": {},
   "outputs": [],
   "source": [
    "database.insert(gas)"
   ]
  },
  {
   "cell_type": "code",
   "execution_count": 17,
   "id": "9d731138",
   "metadata": {},
   "outputs": [
    {
     "data": {
      "text/plain": [
       "User(username=ronaldinho, name=gas, email=ronaldo@gmail.com)"
      ]
     },
     "execution_count": 17,
     "metadata": {},
     "output_type": "execute_result"
    }
   ],
   "source": [
    "database.find('ronaldinho')"
   ]
  },
  {
   "cell_type": "code",
   "execution_count": 18,
   "id": "5cb3d408",
   "metadata": {},
   "outputs": [
    {
     "name": "stdout",
     "output_type": "stream",
     "text": [
      "User created!\n"
     ]
    },
    {
     "data": {
      "text/plain": [
       "User(username=ronaldinho, name=ronaldinho, email=ronaldinho@gmail.com)"
      ]
     },
     "execution_count": 18,
     "metadata": {},
     "output_type": "execute_result"
    }
   ],
   "source": [
    "gas = User('ronaldinho', 'ronaldinho', 'ronaldinho@gmail.com')\n",
    "database.update(gas)"
   ]
  },
  {
   "cell_type": "code",
   "execution_count": 19,
   "id": "165d6d11",
   "metadata": {},
   "outputs": [
    {
     "data": {
      "text/plain": [
       "[User(username=Aakash Rai, name=aakash, email=aakash@example.com),\n",
       " User(username=Biraj Das, name=biraj, email=biraj@example.com),\n",
       " User(username=ronaldinho, name=ronaldinho, email=ronaldinho@gmail.com),\n",
       " User(username=Hemanth Jain, name=hemanth, email=hemanth@example.com),\n",
       " User(username=Jadhesh Verma, name=jadhesh, email=jadhesh@example.com),\n",
       " User(username=Siddhant Sinha, name=siddhant, email=siddhant@example.com),\n",
       " User(username=Sonaksh Kumar, name=sonaksh, email=sonaksh@example.com),\n",
       " User(username=Vishal Goel, name=vishal, email=vishal@example.com)]"
      ]
     },
     "execution_count": 19,
     "metadata": {},
     "output_type": "execute_result"
    }
   ],
   "source": [
    "database.listAll()"
   ]
  },
  {
   "cell_type": "code",
   "execution_count": null,
   "id": "4c8be9e6",
   "metadata": {},
   "outputs": [],
   "source": []
  },
  {
   "cell_type": "markdown",
   "id": "71dc3e3f",
   "metadata": {},
   "source": [
    "## 5. Analyze the algorithm's complexity and identify inefficiencies\n",
    "\n",
    "The operations `insert`, `find`, `update` involves iterating over a list of users, in the worst case, they may take up to `N` iterations to return a result, where `N` is the total number of users. `list_all` however, simply returns the existing internal list of users. \n",
    "\n",
    "Thus, the time complexities of the various operations are:\n",
    "\n",
    "1. Insert: **O(N)**\n",
    "2. Find: **O(N)**\n",
    "3. Update: **O(N)**\n",
    "4. List: **O(1)**\n",
    "\n",
    "**Exercise:** Verify that the space complexity of each operation is **O(1)**.\n",
    "\n",
    "Is this good enough? To get a sense how long each function might take if there are 100 million users on the platform, we can simply run an `for` or `while` loop on 10 million numbers."
   ]
  },
  {
   "cell_type": "markdown",
   "id": "d24dccc8",
   "metadata": {},
   "source": [
    "## 6. Apply the right technique to overcome the inefficiency\n",
    "\n",
    "We can limit the number of iterations required for common operations like find, insert and update by organizing our data in the following structure, called a **binary tree**:\n",
    "\n",
    "<img src=\"https://i.imgur.com/lVqP63n.png\" width=\"520\">\n",
    "\n",
    "\n",
    "\n",
    "It's called a tree because it vaguely like an inverted tree trunk with branches. \n",
    "* The word \"binary\" indicates that each \"node\" in the tree can have at most 2 children (left or right). \n",
    "* Nodes can have 0, 1 or 2 children. Nodes that do not have any children are sometimes also called \"leaves\".\n",
    "* The single node at the top is called the \"root\" node, and it typically where operations like search, insertion etc. begin.\n",
    "\n",
    "<img src=\"https://i.imgur.com/TZHMKJr.png\" width=\"400\">"
   ]
  },
  {
   "cell_type": "markdown",
   "id": "07c78eee",
   "metadata": {},
   "source": [
    "## Balanced Binary Search Trees\n",
    "\n",
    "<img src=\"https://i.imgur.com/Mqef5b3.png\" width=\"520\">\n",
    "\n",
    "For our use case, we require the binary tree to have some additional properties:\n",
    "\n",
    "1. **Keys and Values**: Each node of the tree stores a key (a username) and a value (a `User` object). Only keys are shown in the picture above for brevity. A binary tree where nodes have both a key and a value is often referred to as a **map** or **treemap** (because it maps keys to values).\n",
    "2. **Binary Search Tree**: The *left subtree* of any node only contains nodes with keys that are lexicographically smaller than the node's key, and the *right subtree* of any node only contains nodes with keys that lexicographically larger than the node's key. A tree that satisfies this property is called a **binary search trees**, and it's easy to locate a specific key by traversing a single path down from the root note.\n",
    "3. **Balanced Tree**: The tree is **balanced** i.e. it does not skew too heavily to one side or the other. The left and right subtrees of any node shouldn't differ in height/depth by more than 1 level.\n",
    "\n",
    "\n",
    "### Height of a Binary Tree\n",
    "\n",
    "The number of levels in a tree is called its height. As you can tell from the picture above, each level of a tree contains twice as many nodes as the previous level. \n",
    "\n",
    "For a tree of height `k`, here's a list of the number of nodes at each level:\n",
    "\n",
    "Level 0: `1`\n",
    "\n",
    "Level 1: `2`\n",
    "\n",
    "Level 2: `4` i.e. `2^2`\n",
    "\n",
    "Level 3: `8` i.e. `2^3`\n",
    "\n",
    "...\n",
    "\n",
    "Level k-1: `2^(k-1)`\n",
    "\n",
    "If the total number of nodes in the tree is `N`, then it follows that\n",
    "\n",
    "```\n",
    "N = 1 + 2^1 + 2^2 + 2^3 + ... + 2^(k-1)\n",
    "```\n",
    "\n",
    "\n",
    "We can simplify this equation by adding `1` on each side:\n",
    "\n",
    "```\n",
    "N + 1 = 1 + 1 + 2^1 + 2^2 + 2^3 + ... + 2^(k-1) \n",
    "\n",
    "N + 1 = 2^1 + 2^1 + 2^2+ 2^3 + ... + 2^(k-1) \n",
    "\n",
    "N + 1 = = 2^2 + 2^2 + 2^3 + ... + 2^(k-1)\n",
    "\n",
    "N + 1 = = 2^3 + 2^3 + ... + 2^(k-1)\n",
    "\n",
    "...\n",
    "\n",
    "N + 1 = 2^(k-1) + 2^(k-1)\n",
    "\n",
    "N + 1 = 2^k\n",
    "\n",
    "k = log(N + 1) <= log(N) + 1 \n",
    "\n",
    "```\n",
    "\n",
    "Thus, to store `N` records we require a balanced binary search tree (BST) of height no larger than `log(N) + 1`. This is a very useful property, in combination with the fact that nodes are arranged in a way that makes it easy to find a specific key by following a single path down from the root. \n",
    "\n",
    "As we'll see soon, the `insert`, `find` and `update` operations in a balanced BST have time complexity `O(log N)` since they all involve traversing a single path down from the root of the tree."
   ]
  },
  {
   "cell_type": "markdown",
   "id": "48e68ceb",
   "metadata": {},
   "source": [
    "## Binary Tree\n",
    "\n",
    "> **QUESTION 2**: Implement a binary tree using Python, and show its usage with some examples.\n",
    "\n",
    "To begin, we'll create simple binary tree (without any of the additional properties) containing numbers as keys within nodes. Here's an example:\n",
    "\n",
    "<img src=\"https://i.imgur.com/hg2ZG5h.png\" width=\"240\">\n",
    "\n",
    "Here's a simple class representing a node within a binary tree."
   ]
  },
  {
   "cell_type": "code",
   "execution_count": 20,
   "id": "a7464fa5",
   "metadata": {},
   "outputs": [],
   "source": [
    "class TreeNode:\n",
    "    def __init__(self, key):\n",
    "        self.key = key\n",
    "        self.left = None\n",
    "        self.right = None"
   ]
  },
  {
   "cell_type": "markdown",
   "id": "4dabfd10",
   "metadata": {},
   "source": [
    "Let's create objects representing each node of the above tree"
   ]
  },
  {
   "cell_type": "code",
   "execution_count": 21,
   "id": "69ba8e9e",
   "metadata": {},
   "outputs": [],
   "source": [
    "root = TreeNode(3)"
   ]
  },
  {
   "cell_type": "code",
   "execution_count": 22,
   "id": "426d75e9",
   "metadata": {},
   "outputs": [],
   "source": [
    "node0 = TreeNode(4) \n",
    "node1 = TreeNode(5)"
   ]
  },
  {
   "cell_type": "markdown",
   "id": "1a10fc4d",
   "metadata": {},
   "source": [
    "We can *connect* the nodes by setting the `.left` and `.right` properties of the root node."
   ]
  },
  {
   "cell_type": "code",
   "execution_count": 23,
   "id": "0dd6c24e",
   "metadata": {},
   "outputs": [],
   "source": [
    "root.left  = node0\n",
    "root.right = node1"
   ]
  },
  {
   "cell_type": "markdown",
   "id": "49527e18",
   "metadata": {},
   "source": [
    "And we're done! We can create a new variable *tree* which simply points to the root node, and use it to access all the nodes within the tree.\n",
    "\n",
    "<img src=\"https://i.imgur.com/hg2ZG5h.png\" width=\"240\">"
   ]
  },
  {
   "cell_type": "code",
   "execution_count": 24,
   "id": "82635a10",
   "metadata": {},
   "outputs": [
    {
     "data": {
      "text/plain": [
       "(3, 4, 5)"
      ]
     },
     "execution_count": 24,
     "metadata": {},
     "output_type": "execute_result"
    }
   ],
   "source": [
    "(root.key, root.left.key, root.right.key)"
   ]
  },
  {
   "cell_type": "markdown",
   "id": "ea6e340f",
   "metadata": {},
   "source": [
    "Going forward, we'll use the term \"tree\" to refer to the root node. The term \"node\" can refer to any node in a tree, not necessarily the root.\n",
    "\n",
    "**Exercise:** Create the following binary tree using the `TreeNode` class defined above.\n",
    "\n",
    "<img src=\"https://i.imgur.com/d7djJAf.png\" width=\"540\">"
   ]
  },
  {
   "cell_type": "code",
   "execution_count": 25,
   "id": "06ea0312",
   "metadata": {},
   "outputs": [],
   "source": [
    "tree = TreeNode(2)"
   ]
  },
  {
   "cell_type": "code",
   "execution_count": 26,
   "id": "84fef70d",
   "metadata": {},
   "outputs": [],
   "source": [
    "node1 = TreeNode(3)\n",
    "node2 = TreeNode(1)\n",
    "node3 = TreeNode(5)\n",
    "node4 = TreeNode(3)\n",
    "node5 = TreeNode(4)\n",
    "node6 = TreeNode(7)\n",
    "node7 = TreeNode(6)\n",
    "node8 = TreeNode(8)"
   ]
  },
  {
   "cell_type": "code",
   "execution_count": 27,
   "id": "73a9dfbe",
   "metadata": {},
   "outputs": [],
   "source": [
    "tree.left = node1\n",
    "tree.left.left = node2"
   ]
  },
  {
   "cell_type": "code",
   "execution_count": 28,
   "id": "dfc9a48d",
   "metadata": {},
   "outputs": [],
   "source": [
    "tree.right = node3\n",
    "tree.right.left = node4\n",
    "tree.right.left.right = node5"
   ]
  },
  {
   "cell_type": "code",
   "execution_count": 29,
   "id": "b110c7a7",
   "metadata": {},
   "outputs": [],
   "source": [
    "tree.right.right = node6\n",
    "tree.right.right.left = node7\n",
    "tree.right.right.right = node8"
   ]
  },
  {
   "cell_type": "code",
   "execution_count": 30,
   "id": "aebb77cf",
   "metadata": {},
   "outputs": [
    {
     "data": {
      "text/plain": [
       "2"
      ]
     },
     "execution_count": 30,
     "metadata": {},
     "output_type": "execute_result"
    }
   ],
   "source": [
    "(tree.key)"
   ]
  },
  {
   "cell_type": "code",
   "execution_count": 31,
   "id": "fba265b2",
   "metadata": {},
   "outputs": [
    {
     "data": {
      "text/plain": [
       "(3, 5)"
      ]
     },
     "execution_count": 31,
     "metadata": {},
     "output_type": "execute_result"
    }
   ],
   "source": [
    "(tree.left.key, tree.right.key)"
   ]
  },
  {
   "cell_type": "code",
   "execution_count": 32,
   "id": "3f2b2217",
   "metadata": {},
   "outputs": [
    {
     "data": {
      "text/plain": [
       "(1, None, 3, 7)"
      ]
     },
     "execution_count": 32,
     "metadata": {},
     "output_type": "execute_result"
    }
   ],
   "source": [
    "(tree.left.left.key, tree.left.right, tree.right.left.key, tree.right.right.key)"
   ]
  },
  {
   "cell_type": "code",
   "execution_count": 33,
   "id": "805b4278",
   "metadata": {},
   "outputs": [
    {
     "data": {
      "text/plain": [
       "(None, None, None, 4, 6, 8)"
      ]
     },
     "execution_count": 33,
     "metadata": {},
     "output_type": "execute_result"
    }
   ],
   "source": [
    "(tree.left.left.left, tree.left.left.right, \n",
    "tree.right.left.left, tree.right.left.right.key, \n",
    "tree.right.right.left.key, tree.right.right.right.key)"
   ]
  },
  {
   "cell_type": "markdown",
   "id": "30f9700d",
   "metadata": {},
   "source": [
    "It's a bit inconvenient to create a tree by manually connecting all the nodes. Let's write a helper function which can convert a tuple with the structure `( left_subtree, key, right_subtree)` (where `left_subtree` and `right_subtree` are themselves tuples) into binary tree.\n",
    "\n",
    "Here's an tuple representing the tree shown above"
   ]
  },
  {
   "cell_type": "code",
   "execution_count": 34,
   "id": "f71fe7e7",
   "metadata": {},
   "outputs": [],
   "source": [
    "tree_tuple = ((1,3,None), 2, ((None, 3, 4), 5, (6, 7, 8)))"
   ]
  },
  {
   "cell_type": "code",
   "execution_count": 35,
   "id": "fd54c7b3",
   "metadata": {},
   "outputs": [],
   "source": [
    "def parseTurple(data):\n",
    "    callStack = []\n",
    "    print(f'parseTurple({data})')\n",
    "    callStack.append(data)\n",
    "    if isinstance(data, tuple) and len(data) == 3:\n",
    "        leftSubtree, key, rightSubtree = data\n",
    "        tree = TreeNode(key)\n",
    "        tree.left  = parseTurple(leftSubtree)\n",
    "        tree.right = parseTurple(rightSubtree)\n",
    "    elif data is None:\n",
    "        tree = None\n",
    "    else:\n",
    "        tree = TreeNode(data)\n",
    "        callStack.pop()\n",
    "    return tree"
   ]
  },
  {
   "cell_type": "code",
   "execution_count": null,
   "id": "ffb0d183",
   "metadata": {},
   "outputs": [],
   "source": []
  },
  {
   "cell_type": "markdown",
   "id": "89065e33",
   "metadata": {},
   "source": [
    "The `parse_tuple` creates a new root node when a tuple of size 3 as an the input. Interestingly, to create the left and right subtrees for the node, the `parse_tuple` function invokes itself. This technique is called _recursion_. The chain of _recursive_ calls ends when `parse_tuple` encounters a number or `None` as input. We'll use recursion extensively throughout this tutorial.\n",
    "\n",
    "\n",
    "**Exercise:** Add print statements inside `parse_tuple` to display the arguments for each call of the function. Does the sequence of recursive calls make sense to you?"
   ]
  },
  {
   "cell_type": "code",
   "execution_count": 36,
   "id": "c8ffca93",
   "metadata": {},
   "outputs": [
    {
     "name": "stdout",
     "output_type": "stream",
     "text": [
      "parseTurple(((1, 3, None), 2, ((None, 3, 4), 5, (6, 7, 8))))\n",
      "parseTurple((1, 3, None))\n",
      "parseTurple(1)\n",
      "parseTurple(None)\n",
      "parseTurple(((None, 3, 4), 5, (6, 7, 8)))\n",
      "parseTurple((None, 3, 4))\n",
      "parseTurple(None)\n",
      "parseTurple(4)\n",
      "parseTurple((6, 7, 8))\n",
      "parseTurple(6)\n",
      "parseTurple(8)\n"
     ]
    }
   ],
   "source": [
    "tree = parseTurple(tree_tuple)"
   ]
  },
  {
   "cell_type": "code",
   "execution_count": 37,
   "id": "01a7193b",
   "metadata": {},
   "outputs": [
    {
     "data": {
      "text/plain": [
       "2"
      ]
     },
     "execution_count": 37,
     "metadata": {},
     "output_type": "execute_result"
    }
   ],
   "source": [
    "tree.key"
   ]
  },
  {
   "cell_type": "code",
   "execution_count": 38,
   "id": "c2d69a1c",
   "metadata": {},
   "outputs": [
    {
     "data": {
      "text/plain": [
       "(3, 5)"
      ]
     },
     "execution_count": 38,
     "metadata": {},
     "output_type": "execute_result"
    }
   ],
   "source": [
    "tree.left.key, tree.right.key"
   ]
  },
  {
   "cell_type": "code",
   "execution_count": 39,
   "id": "395fa949",
   "metadata": {},
   "outputs": [
    {
     "data": {
      "text/plain": [
       "(1, None, 3, 7)"
      ]
     },
     "execution_count": 39,
     "metadata": {},
     "output_type": "execute_result"
    }
   ],
   "source": [
    "tree.left.left.key, tree.left.right, tree.right.left.key, tree.right.right.key"
   ]
  },
  {
   "cell_type": "code",
   "execution_count": 40,
   "id": "5274b87e",
   "metadata": {},
   "outputs": [
    {
     "data": {
      "text/plain": [
       "(None, None, None, 4, 6, 8)"
      ]
     },
     "execution_count": 40,
     "metadata": {},
     "output_type": "execute_result"
    }
   ],
   "source": [
    "(tree.left.left.left, tree.left.left.right, \n",
    "tree.right.left.left, tree.right.left.right.key, \n",
    "tree.right.right.left.key, tree.right.right.right.key)"
   ]
  },
  {
   "cell_type": "markdown",
   "id": "e96fa13c",
   "metadata": {},
   "source": [
    "**Exercise:** Define a function `tree_to_tuple` that converts a binary tree into a tuple representing the same tree. E.g. `tree_to_tuple` converts the tree created above to the tuple `((1, 3, None), 2, ((None, 3, 4), 5, (6, 7, 8)))`. *Hint*: Use recursion."
   ]
  },
  {
   "cell_type": "code",
   "execution_count": 216,
   "id": "eceaad14",
   "metadata": {},
   "outputs": [],
   "source": [
    "# def treeToTuple(tree, space='\\t', level=0):\n",
    "    \n",
    "#     if tree is None:\n",
    "#         print(f'{space * level} ∅')\n",
    "#         return -1\n",
    "#     else:\n",
    "#         treeToTuple(tree.left, space, level+1)\n",
    "#         print(f'{space * level} {tree.key}')\n",
    "#         treeToTuple(tree.right, space, level+1)\n",
    "\n",
    "def treeToTuple(tree):\n",
    "    if tree is None:\n",
    "        return \n",
    "    else:\n",
    "        return treeToTuple(tree.left), tree.key, treeToTuple(tree.right)"
   ]
  },
  {
   "cell_type": "code",
   "execution_count": 217,
   "id": "ff0fce6b",
   "metadata": {},
   "outputs": [
    {
     "data": {
      "text/plain": [
       "(((None, 1, None), 3, None),\n",
       " 2,\n",
       " ((None, 3, (None, 4, None)), 5, ((None, 6, None), 7, (None, 8, None))))"
      ]
     },
     "execution_count": 217,
     "metadata": {},
     "output_type": "execute_result"
    }
   ],
   "source": [
    "treeToTuple(tree)"
   ]
  },
  {
   "cell_type": "code",
   "execution_count": null,
   "id": "80a7db5f",
   "metadata": {},
   "outputs": [],
   "source": []
  },
  {
   "cell_type": "markdown",
   "id": "07c95762",
   "metadata": {},
   "source": [
    "Let's create another helper function to display all the keys in a tree-like structure for easier visualization."
   ]
  },
  {
   "cell_type": "code",
   "execution_count": 43,
   "id": "ac9de84b",
   "metadata": {},
   "outputs": [],
   "source": [
    "def display_keys(node, space='\\t', level=0):\n",
    "    # print(node.key if node else None, level)\n",
    "    \n",
    "    # If the node is empty\n",
    "    if node is None:\n",
    "        print(space*level + '∅')\n",
    "        return   \n",
    "    \n",
    "    # If the node is a leaf \n",
    "    if node.left is None and node.right is None:\n",
    "        print(space*level + str(node.key))\n",
    "        return\n",
    "    \n",
    "    # If the node has children\n",
    "    display_keys(node.right, space, level+1)\n",
    "    print(space*level + str(node.key))\n",
    "    display_keys(node.left,space, level+1)"
   ]
  },
  {
   "cell_type": "code",
   "execution_count": 44,
   "id": "1a0dbfb7",
   "metadata": {},
   "outputs": [
    {
     "name": "stdout",
     "output_type": "stream",
     "text": [
      "\t\t\t8\n",
      "\t\t7\n",
      "\t\t\t6\n",
      "\t5\n",
      "\t\t\t4\n",
      "\t\t3\n",
      "\t\t\t∅\n",
      "2\n",
      "\t\t∅\n",
      "\t3\n",
      "\t\t1\n"
     ]
    }
   ],
   "source": [
    "display_keys(tree)"
   ]
  },
  {
   "cell_type": "markdown",
   "id": "ad62d022",
   "metadata": {},
   "source": [
    "Once again, the `display_keys` function users recursion to print all the keys of the left and right subtree with proper indentation.\n",
    "\n",
    "**Exercise:** Add print statements inside `display_keys` to display the arguments for each call of the function. Does the sequence of recursive calls make sense to you?\n",
    "\n",
    "Let's try using the function."
   ]
  },
  {
   "cell_type": "code",
   "execution_count": null,
   "id": "236cd5e9",
   "metadata": {},
   "outputs": [],
   "source": []
  },
  {
   "cell_type": "code",
   "execution_count": null,
   "id": "2f296dca",
   "metadata": {},
   "outputs": [],
   "source": []
  },
  {
   "cell_type": "markdown",
   "id": "e0298cf7",
   "metadata": {},
   "source": [
    "## Traversing a Binary Tree\n",
    "\n",
    "The following questions are frequently asked in coding interviews and assessments:\n",
    "\n",
    "> **QUESTION 3**: Write a function to perform the _inorder_ traversal of a binary tree.\n",
    "\n",
    "> **QUESTION 4**: Write a function to perform the _preorder_ traversal of a binary tree.\n",
    "\n",
    "> **QUESTION 5**: Write a function to perform the _postorder_ traversal of a binary tree.\n",
    "\n",
    "Unlike linear data structures (Array, Linked List, Queues, Stacks, etc) which have only one logical way to traverse them, trees can be traversed in different ways. Following are the generally used ways for traversing trees.\n",
    "\n",
    "A *traversal* refers to the process of visiting each node of a tree exactly once. _Visiting a node_ generally refers to adding the node's key to a list. There are three ways to traverse a binary tree and return the list of visited keys: \n",
    "\n",
    "### Inorder traversal\n",
    "\n",
    "\n",
    "\n",
    "  1. Traverse the left subtree recursively inorder.\n",
    "  2. Traverse the current node.\n",
    "  3. Traverse the right subtree recursively inorder.\n",
    "\n",
    "\n",
    "<img src=\"https://i.imgur.com/KCXpMA9.png\" width=\"540\">\n",
    "\n",
    "\n",
    "### Preorder traversal\n",
    "\n",
    "  1. Traverse the current node.\n",
    "  2. Traverse the left subtree recursively preorder.\n",
    "  3. Traverse the right subtree recursively preorder.\n",
    "  \n",
    "<img src=\"https://i.imgur.com/2xrMUWP.png\" width=\"540\">\n",
    "\n",
    "\n",
    "\n",
    "### Postorder traversal\n",
    "\n",
    "   1. Traverse the left subtree, i.e., call Postorder(left-subtree)\n",
    "   2. Traverse the right subtree, i.e., call Postorder(right-subtree)\n",
    "   3. Visit the root.\n"
   ]
  },
  {
   "cell_type": "markdown",
   "id": "39c2723c",
   "metadata": {},
   "source": [
    "Here's an implementation of inorder traversal of a binary tree."
   ]
  },
  {
   "cell_type": "code",
   "execution_count": 45,
   "id": "992088d7",
   "metadata": {},
   "outputs": [],
   "source": [
    "def traverseInorder(tree):\n",
    "    if tree is None: \n",
    "        return []\n",
    "    return(traverseInorder(tree.left) + [tree.key] + traverseInorder(tree.right))"
   ]
  },
  {
   "cell_type": "code",
   "execution_count": 46,
   "id": "b38f3f48",
   "metadata": {},
   "outputs": [
    {
     "data": {
      "text/plain": [
       "[1, 3, 2, 3, 4, 5, 6, 7, 8]"
      ]
     },
     "execution_count": 46,
     "metadata": {},
     "output_type": "execute_result"
    }
   ],
   "source": [
    "traverseInorder(tree)"
   ]
  },
  {
   "cell_type": "markdown",
   "id": "501799da",
   "metadata": {},
   "source": [
    "Here's an implementation of preorder traversal of a binary tree."
   ]
  },
  {
   "cell_type": "code",
   "execution_count": 47,
   "id": "8f5a1ada",
   "metadata": {},
   "outputs": [],
   "source": [
    "def traversePreorder(tree):\n",
    "    if tree is None:\n",
    "        return []\n",
    "    return ([tree.key] + traversePreorder(tree.left) + traversePreorder(tree.right))\n",
    "    "
   ]
  },
  {
   "cell_type": "code",
   "execution_count": 48,
   "id": "42aaae76",
   "metadata": {},
   "outputs": [
    {
     "data": {
      "text/plain": [
       "[2, 3, 1, 5, 3, 4, 7, 6, 8]"
      ]
     },
     "execution_count": 48,
     "metadata": {},
     "output_type": "execute_result"
    }
   ],
   "source": [
    "traversePreorder(tree)"
   ]
  },
  {
   "cell_type": "markdown",
   "id": "c7074372",
   "metadata": {},
   "source": [
    "Here's an implementation of postOrder traversal of a binary tree."
   ]
  },
  {
   "cell_type": "code",
   "execution_count": 60,
   "id": "fe01efdf",
   "metadata": {},
   "outputs": [],
   "source": [
    "def traversePostorder(tree):\n",
    "    if tree is None:\n",
    "        return 0\n",
    "    return (treversePreorder(tree.left) + treversePreorder(tree.right) + [tree.key])"
   ]
  },
  {
   "cell_type": "code",
   "execution_count": 62,
   "id": "35941bf8",
   "metadata": {},
   "outputs": [
    {
     "data": {
      "text/plain": [
       "9"
      ]
     },
     "execution_count": 62,
     "metadata": {},
     "output_type": "execute_result"
    }
   ],
   "source": [
    "traversePreorder(tree)"
   ]
  },
  {
   "cell_type": "markdown",
   "id": "ccb2c3c5",
   "metadata": {},
   "source": [
    "## Height and Size of a Binary Tree\n",
    "\n",
    "\n",
    "> **QUESTION 6**: Write a function to calculate the height/depth of a binary tree\n",
    "\n",
    "> **QUESTION 7**: Write a function to count the number of nodes in a binary tree\n",
    "\n",
    "\n",
    "The _height/depth_ of a binary tree is defined as the length of the longest path from its root node to a leaf. It can be computed recursively, as follows:"
   ]
  },
  {
   "cell_type": "markdown",
   "id": "00a960df",
   "metadata": {},
   "source": [
    "__The height of a binary tree is the MAX of nodes of the left subtree and right subtree \n",
    "plus one__\n",
    "\n",
    "* counting nodes leaf node is zero\n",
    "* counting edges leaf node is minus one\n",
    "* empty tree height is zero"
   ]
  },
  {
   "cell_type": "code",
   "execution_count": 51,
   "id": "8cafe374",
   "metadata": {},
   "outputs": [],
   "source": [
    "def treeHeight(tree):\n",
    "    if tree is None:\n",
    "        return -1\n",
    "    return 1 + max(treeHeight(tree.left), treeHeight(tree.right))"
   ]
  },
  {
   "cell_type": "code",
   "execution_count": 52,
   "id": "6beca967",
   "metadata": {},
   "outputs": [
    {
     "data": {
      "text/plain": [
       "3"
      ]
     },
     "execution_count": 52,
     "metadata": {},
     "output_type": "execute_result"
    }
   ],
   "source": [
    "treeHeight(tree)"
   ]
  },
  {
   "cell_type": "code",
   "execution_count": null,
   "id": "7db431c0",
   "metadata": {},
   "outputs": [],
   "source": [
    "def minDepth(self, root: Optional[TreeNode]) -> int:  \n",
    "    if root is None:\n",
    "            return 0\n",
    "        \n",
    "    if root.left is None and root.right is None:\n",
    "            return 1\n",
    "     \n",
    "    if root.left is None:\n",
    "        return self.minDepth(root.right)+1\n",
    "\n",
    "    if root.right is None:\n",
    "        return self.minDepth(root.left)+1\n",
    "        \n",
    "    return min(self.minDepth(root.left), self.minDepth(root.right)) + 1"
   ]
  },
  {
   "cell_type": "markdown",
   "id": "d2e3a264",
   "metadata": {},
   "source": [
    "__Here's a function to count the number of nodes in a binary tree__"
   ]
  },
  {
   "cell_type": "code",
   "execution_count": 143,
   "id": "960d62a2",
   "metadata": {},
   "outputs": [],
   "source": [
    "def treeSize(tree):\n",
    "    if tree is None:\n",
    "        return 0\n",
    "    left = treeSize(tree.left)\n",
    "    right = treeSize(tree.right)\n",
    "    return (1 + left + right)"
   ]
  },
  {
   "cell_type": "code",
   "execution_count": 144,
   "id": "3b1ca21a",
   "metadata": {},
   "outputs": [
    {
     "data": {
      "text/plain": [
       "9"
      ]
     },
     "execution_count": 144,
     "metadata": {},
     "output_type": "execute_result"
    }
   ],
   "source": [
    "treeSize(tree)"
   ]
  },
  {
   "cell_type": "markdown",
   "id": "9d1dee13",
   "metadata": {},
   "source": [
    "As a final step, let's compile all the functions we've written so far as methods withing the `TreeNode` class itself. Encapsulation of data and functionality within the same class is a good programming practice."
   ]
  },
  {
   "cell_type": "code",
   "execution_count": 202,
   "id": "5b51c8b1",
   "metadata": {},
   "outputs": [],
   "source": [
    "class TreeNode():\n",
    "    def __init__(self, key):\n",
    "        self.key, self.left, self.right = key, None, None\n",
    "    \n",
    "    def height(self):\n",
    "        if self is None:\n",
    "            return 0\n",
    "        return 1 + max(TreeNode.height(self.left), TreeNode.height(self.right))\n",
    "    \n",
    "    def size(self):\n",
    "        if self is None:\n",
    "            return 0\n",
    "        return 1 + TreeNode.size(self.left) + TreeNode.size(self.right)\n",
    "\n",
    "    def traverseInorder(self):\n",
    "        if self is None: \n",
    "            return []\n",
    "        return (TreeNode.traverseInorder(self.left) + \n",
    "                [self.key] + \n",
    "                TreeNode.traverseInorder(self.right))\n",
    "    \n",
    "    def displayKeys(self, space='\\t', level=0):\n",
    "        # If the node is empty\n",
    "        if self is None:\n",
    "            print(space*level + '∅')\n",
    "            return   \n",
    "\n",
    "        # If the node is a leaf \n",
    "        if self.left is None and self.right is None:\n",
    "            print(space*level + str(self.key))\n",
    "            return\n",
    "\n",
    "        # If the node has children\n",
    "        display_keys(self.right, space, level+1)\n",
    "        print(space*level + str(self.key))\n",
    "        display_keys(self.left,space, level+1) \n",
    "        \n",
    "    # tree to tuple\n",
    "    def toTuple(self):\n",
    "        if self is None:\n",
    "            return None\n",
    "        if self.left is None and self.right is None:\n",
    "            return self.key\n",
    "        return TreeNode.toTuple(self.left),  self.key, TreeNode.toTuple(self.right)\n",
    "    \n",
    "    def __str__(self):\n",
    "        return \"BinaryTree <{}>\".format(self.toTuple())\n",
    "    \n",
    "    def __repr__(self):\n",
    "        return \"BinaryTree <{}>\".format(self.toTuple())\n",
    "    \n",
    "    # tuple to tree\n",
    "    @staticmethod    \n",
    "    def parseTuple(data):\n",
    "        if data is None:\n",
    "            node = None\n",
    "        elif isinstance(data, tuple) and len(data) == 3:\n",
    "            node = TreeNode(data[1])\n",
    "            node.left = TreeNode.parseTuple(data[0])\n",
    "            node.right = TreeNode.parseTuple(data[2])\n",
    "        else:\n",
    "            node = TreeNode(data)\n",
    "        return node"
   ]
  },
  {
   "cell_type": "markdown",
   "id": "5518e626",
   "metadata": {},
   "source": [
    "The class method invocations `TreeNode.height(node)` and `node.height()` are equivalent.\n",
    "\n",
    "\n",
    "Let's try out the various methods defined above for this tree:\n",
    "\n",
    "<img src=\"https://i.imgur.com/d7djJAf.png\" width=\"540\">"
   ]
  },
  {
   "cell_type": "code",
   "execution_count": 203,
   "id": "c5b2544a",
   "metadata": {},
   "outputs": [],
   "source": [
    "tree_tuple = ((1,3,None), 2, ((None, 3, 4), 5, (6, 7, 8)))"
   ]
  },
  {
   "cell_type": "code",
   "execution_count": 204,
   "id": "3412c500",
   "metadata": {},
   "outputs": [],
   "source": [
    "tree = TreeNode.parseTuple(tree_tuple)"
   ]
  },
  {
   "cell_type": "code",
   "execution_count": 205,
   "id": "822ce83a",
   "metadata": {},
   "outputs": [
    {
     "data": {
      "text/plain": [
       "BinaryTree <((1, 3, None), 2, ((None, 3, 4), 5, (6, 7, 8)))>"
      ]
     },
     "execution_count": 205,
     "metadata": {},
     "output_type": "execute_result"
    }
   ],
   "source": [
    "tree"
   ]
  },
  {
   "cell_type": "code",
   "execution_count": 206,
   "id": "1c6427d8",
   "metadata": {},
   "outputs": [
    {
     "name": "stdout",
     "output_type": "stream",
     "text": [
      "      8\n",
      "    7\n",
      "      6\n",
      "  5\n",
      "      4\n",
      "    3\n",
      "      ∅\n",
      "2\n",
      "    ∅\n",
      "  3\n",
      "    1\n"
     ]
    }
   ],
   "source": [
    "tree.displayKeys('  ')"
   ]
  },
  {
   "cell_type": "code",
   "execution_count": 207,
   "id": "c01ef2c8",
   "metadata": {},
   "outputs": [
    {
     "data": {
      "text/plain": [
       "4"
      ]
     },
     "execution_count": 207,
     "metadata": {},
     "output_type": "execute_result"
    }
   ],
   "source": [
    "tree.height()"
   ]
  },
  {
   "cell_type": "code",
   "execution_count": 208,
   "id": "ffc43475",
   "metadata": {},
   "outputs": [
    {
     "data": {
      "text/plain": [
       "9"
      ]
     },
     "execution_count": 208,
     "metadata": {},
     "output_type": "execute_result"
    }
   ],
   "source": [
    "tree.size()"
   ]
  },
  {
   "cell_type": "code",
   "execution_count": 209,
   "id": "b34f2a6d",
   "metadata": {},
   "outputs": [
    {
     "data": {
      "text/plain": [
       "[1, 3, 2, 3, 4, 5, 6, 7, 8]"
      ]
     },
     "execution_count": 209,
     "metadata": {},
     "output_type": "execute_result"
    }
   ],
   "source": [
    "tree.traverseInorder()"
   ]
  },
  {
   "cell_type": "code",
   "execution_count": 210,
   "id": "616bae9d",
   "metadata": {},
   "outputs": [
    {
     "data": {
      "text/plain": [
       "((1, 3, None), 2, ((None, 3, 4), 5, (6, 7, 8)))"
      ]
     },
     "execution_count": 210,
     "metadata": {},
     "output_type": "execute_result"
    }
   ],
   "source": [
    "tree.toTuple()"
   ]
  },
  {
   "cell_type": "code",
   "execution_count": null,
   "id": "88649ff5",
   "metadata": {},
   "outputs": [],
   "source": []
  }
 ],
 "metadata": {
  "kernelspec": {
   "display_name": "Python 3 (ipykernel)",
   "language": "python",
   "name": "python3"
  },
  "language_info": {
   "codemirror_mode": {
    "name": "ipython",
    "version": 3
   },
   "file_extension": ".py",
   "mimetype": "text/x-python",
   "name": "python",
   "nbconvert_exporter": "python",
   "pygments_lexer": "ipython3",
   "version": "3.9.7"
  }
 },
 "nbformat": 4,
 "nbformat_minor": 5
}

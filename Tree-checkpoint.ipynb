{
 "cells": [
  {
   "cell_type": "markdown",
   "id": "e25d6802",
   "metadata": {},
   "source": [
    "## Problem \n",
    "\n",
    "\n",
    "In this notebook, we'll focus on solving the following problem:\n",
    "\n",
    "> **QUESTION 1**: As a senior backend engineer, you are tasked with developing a fast in-memory data structure to manage profile information (username, name and email) for 100 million users. It should allow the following operations to be performed efficiently:\n",
    "> \n",
    "> 1. **Insert** the profile information for a new user.\n",
    "> 2. **Find** the profile information of a user, given their username\n",
    "> 3. **Update** the profile information of a user, given their usrname\n",
    "> 5. **List** all the users of the platform, sorted by username\n",
    ">\n",
    "> You can assume that usernames are unique. \n",
    "\n"
   ]
  },
  {
   "cell_type": "code",
   "execution_count": 1,
   "id": "d8de48b5",
   "metadata": {},
   "outputs": [],
   "source": [
    "class User:\n",
    "    def __init__(self, name, username, email):\n",
    "        self.name = name\n",
    "        self.username = username\n",
    "        self.email = email\n",
    "        print('User created!')"
   ]
  },
  {
   "cell_type": "code",
   "execution_count": 2,
   "id": "aca0a9af",
   "metadata": {},
   "outputs": [
    {
     "name": "stdout",
     "output_type": "stream",
     "text": [
      "User created!\n"
     ]
    }
   ],
   "source": [
    "user = User('Gaddaf Adamu', 'gaddafi', 'gaddafi@gmail.com')"
   ]
  },
  {
   "cell_type": "markdown",
   "id": "f01d87ce",
   "metadata": {},
   "source": [
    "You can also define custom methods inside a class "
   ]
  },
  {
   "cell_type": "code",
   "execution_count": 3,
   "id": "1504df32",
   "metadata": {},
   "outputs": [],
   "source": [
    "class User:\n",
    "    def __init__(self, name, username, email):\n",
    "        self.name = name\n",
    "        self.username = username\n",
    "        self.email = email\n",
    "        print('User created!')\n",
    "        \n",
    "    def introduceYourSelf(self, guestName):\n",
    "        print(f\"Hi {guestName}, I'm {self.name}! Contact me at {self.email}\")"
   ]
  },
  {
   "cell_type": "code",
   "execution_count": 4,
   "id": "af73f033",
   "metadata": {},
   "outputs": [
    {
     "name": "stdout",
     "output_type": "stream",
     "text": [
      "User created!\n"
     ]
    }
   ],
   "source": [
    "user1 = User('Gaddaf Adamu', 'gaddafi', 'gaddafi@gmail.com')"
   ]
  },
  {
   "cell_type": "code",
   "execution_count": 5,
   "id": "9764b87d",
   "metadata": {},
   "outputs": [
    {
     "name": "stdout",
     "output_type": "stream",
     "text": [
      "Hi John, I'm Gaddaf Adamu! Contact me at gaddafi@gmail.com\n"
     ]
    }
   ],
   "source": [
    "user1.introduceYourSelf('John')"
   ]
  },
  {
   "cell_type": "markdown",
   "id": "3bc7ac3e",
   "metadata": {},
   "source": [
    "When we try to invoke the method `user3.introduce_yourself`, the object `user3` is automatically passed as the first argument `self`. Indeed, the following statement is equivalent to the above statement."
   ]
  },
  {
   "cell_type": "code",
   "execution_count": 6,
   "id": "35fbba96",
   "metadata": {},
   "outputs": [
    {
     "name": "stdout",
     "output_type": "stream",
     "text": [
      "Hi Aliyu, I'm Gaddaf Adamu! Contact me at gaddafi@gmail.com\n"
     ]
    }
   ],
   "source": [
    "User.introduceYourSelf(user, 'Aliyu')"
   ]
  },
  {
   "cell_type": "markdown",
   "id": "17bb51cb",
   "metadata": {},
   "source": [
    "Helper Funtion"
   ]
  },
  {
   "cell_type": "code",
   "execution_count": 7,
   "id": "a4f6a48e",
   "metadata": {},
   "outputs": [],
   "source": [
    "class User:\n",
    "    def __init__(self, name, username, email):\n",
    "        self.name = name\n",
    "        self.username = username\n",
    "        self.email = email\n",
    "        print('User created!')\n",
    "        \n",
    "    def introduceYourSelf(self, guestName):\n",
    "        print(f\"Hi {guestName}, I'm {self.name}! Contact me at {self.email}\")\n",
    "        \n",
    "    def __repr__(self):\n",
    "        return f\"User(username={self.username}, name={self.name}, email={self.email})\"\n",
    "    \n",
    "    def __str__(self):\n",
    "        return self.__repr__()\n",
    "    "
   ]
  },
  {
   "cell_type": "code",
   "execution_count": 8,
   "id": "1051f630",
   "metadata": {},
   "outputs": [
    {
     "name": "stdout",
     "output_type": "stream",
     "text": [
      "User created!\n"
     ]
    }
   ],
   "source": [
    "user2 = User('Auwal Ronaldo', 'ronaldo', 'ronaldo@gmail.com')"
   ]
  },
  {
   "cell_type": "code",
   "execution_count": 9,
   "id": "db34f114",
   "metadata": {},
   "outputs": [
    {
     "name": "stdout",
     "output_type": "stream",
     "text": [
      "User(username=ronaldo, name=Auwal Ronaldo, email=ronaldo@gmail.com)\n"
     ]
    }
   ],
   "source": [
    "print(user2)"
   ]
  },
  {
   "cell_type": "markdown",
   "id": "a959f159",
   "metadata": {},
   "source": [
    "#### Output\n",
    "\n",
    "We can also express our desired data structure as a Python class `UserDatabase` with four methods: `insert`, `find`, `update` and `list_all`. "
   ]
  },
  {
   "cell_type": "code",
   "execution_count": 10,
   "id": "4711c0f8",
   "metadata": {},
   "outputs": [],
   "source": [
    "class UserDatabase:\n",
    "    \n",
    "    def insert(self, user):\n",
    "        pass\n",
    "    \n",
    "    def find(self, user):\n",
    "        pass\n",
    "    \n",
    "    def update(self, user):\n",
    "        pass\n",
    "    \n",
    "    def listAll(self):\n",
    "        pass\n",
    "    \n",
    "        "
   ]
  },
  {
   "cell_type": "markdown",
   "id": "cf7ada6b",
   "metadata": {},
   "source": [
    "It's good programming practice to list out the signatures of different class functions before we actually implement the class."
   ]
  },
  {
   "cell_type": "markdown",
   "id": "bcefe892",
   "metadata": {},
   "source": [
    "## 2. Come up with some example inputs & outputs. \n",
    "\n",
    "Let's create some sample user profiles that we can use to test our functions once we implement them."
   ]
  },
  {
   "cell_type": "code",
   "execution_count": 11,
   "id": "96579517",
   "metadata": {},
   "outputs": [
    {
     "name": "stdout",
     "output_type": "stream",
     "text": [
      "User created!\n",
      "User created!\n",
      "User created!\n",
      "User created!\n",
      "User created!\n",
      "User created!\n",
      "User created!\n"
     ]
    }
   ],
   "source": [
    "aakash = User('aakash', 'Aakash Rai', 'aakash@example.com')\n",
    "biraj = User('biraj', 'Biraj Das', 'biraj@example.com')\n",
    "hemanth = User('hemanth', 'Hemanth Jain', 'hemanth@example.com')\n",
    "jadhesh = User('jadhesh', 'Jadhesh Verma', 'jadhesh@example.com')\n",
    "siddhant = User('siddhant', 'Siddhant Sinha', 'siddhant@example.com')\n",
    "sonaksh = User('sonaksh', 'Sonaksh Kumar', 'sonaksh@example.com')\n",
    "vishal = User('vishal', 'Vishal Goel', 'vishal@example.com')"
   ]
  },
  {
   "cell_type": "code",
   "execution_count": 12,
   "id": "b42034b7",
   "metadata": {},
   "outputs": [],
   "source": [
    "users = [aakash, biraj, hemanth, jadhesh, siddhant, sonaksh, vishal]"
   ]
  },
  {
   "cell_type": "code",
   "execution_count": 22,
   "id": "0c890ffc",
   "metadata": {},
   "outputs": [],
   "source": [
    "class UserDatabase:\n",
    "    \n",
    "    def __init__(self, users):\n",
    "        self.users = users\n",
    "    \n",
    "    def insert(self, user):\n",
    "        index = 0\n",
    "        for i in range(len(self.users)):\n",
    "            if len(users[i].username) > len(user.username):\n",
    "                break\n",
    "            index += 1\n",
    "        self.users.insert(index, user)\n",
    "\n",
    "    def find(self, username):\n",
    "        for user in self.users:\n",
    "            if user.username == username:\n",
    "                return user\n",
    "        return -1\n",
    "    \n",
    "    def update(self, user):\n",
    "        target = self.find(user.username)\n",
    "        target.name, target.email = user.name, user.email\n",
    "        return self.find(user.username)\n",
    "    \n",
    "    def listAll(self):\n",
    "        return self.users"
   ]
  },
  {
   "cell_type": "code",
   "execution_count": 23,
   "id": "3d4af000",
   "metadata": {},
   "outputs": [],
   "source": [
    "database = UserDatabase(users)"
   ]
  },
  {
   "cell_type": "code",
   "execution_count": 24,
   "id": "02e7ffcf",
   "metadata": {},
   "outputs": [
    {
     "name": "stdout",
     "output_type": "stream",
     "text": [
      "User created!\n"
     ]
    }
   ],
   "source": [
    "gas = User('gas', 'ronaldinho', 'ronaldo@gmail.com')"
   ]
  },
  {
   "cell_type": "code",
   "execution_count": 25,
   "id": "22a8359e",
   "metadata": {},
   "outputs": [],
   "source": [
    "database.insert(gas)"
   ]
  },
  {
   "cell_type": "code",
   "execution_count": 26,
   "id": "44024eab",
   "metadata": {},
   "outputs": [
    {
     "data": {
      "text/plain": [
       "User(username=ronaldinho, name=ronaldinho, email=ronaldinho@gmail.com)"
      ]
     },
     "execution_count": 26,
     "metadata": {},
     "output_type": "execute_result"
    }
   ],
   "source": [
    "database.find('ronaldinho')"
   ]
  },
  {
   "cell_type": "code",
   "execution_count": 27,
   "id": "acbb81e8",
   "metadata": {},
   "outputs": [
    {
     "name": "stdout",
     "output_type": "stream",
     "text": [
      "User created!\n"
     ]
    },
    {
     "data": {
      "text/plain": [
       "User(username=ronaldinho, name=ronaldinho, email=ronaldinho@gmail.com)"
      ]
     },
     "execution_count": 27,
     "metadata": {},
     "output_type": "execute_result"
    }
   ],
   "source": [
    "gas = User('ronaldinho', 'ronaldinho', 'ronaldinho@gmail.com')\n",
    "database.update(gas)"
   ]
  },
  {
   "cell_type": "code",
   "execution_count": 28,
   "id": "378b761d",
   "metadata": {},
   "outputs": [
    {
     "data": {
      "text/plain": [
       "[User(username=Aakash Rai, name=aakash, email=aakash@example.com),\n",
       " User(username=Biraj Das, name=biraj, email=biraj@example.com),\n",
       " User(username=ronaldinho, name=ronaldinho, email=ronaldinho@gmail.com),\n",
       " User(username=ronaldinho, name=gas, email=ronaldo@gmail.com),\n",
       " User(username=Hemanth Jain, name=hemanth, email=hemanth@example.com),\n",
       " User(username=Jadhesh Verma, name=jadhesh, email=jadhesh@example.com),\n",
       " User(username=Siddhant Sinha, name=siddhant, email=siddhant@example.com),\n",
       " User(username=Sonaksh Kumar, name=sonaksh, email=sonaksh@example.com),\n",
       " User(username=Vishal Goel, name=vishal, email=vishal@example.com)]"
      ]
     },
     "execution_count": 28,
     "metadata": {},
     "output_type": "execute_result"
    }
   ],
   "source": [
    "database.listAll()"
   ]
  },
  {
   "cell_type": "code",
   "execution_count": null,
   "id": "67f6cfe4",
   "metadata": {},
   "outputs": [],
   "source": []
  }
 ],
 "metadata": {
  "kernelspec": {
   "display_name": "Python 3 (ipykernel)",
   "language": "python",
   "name": "python3"
  },
  "language_info": {
   "codemirror_mode": {
    "name": "ipython",
    "version": 3
   },
   "file_extension": ".py",
   "mimetype": "text/x-python",
   "name": "python",
   "nbconvert_exporter": "python",
   "pygments_lexer": "ipython3",
   "version": "3.9.7"
  }
 },
 "nbformat": 4,
 "nbformat_minor": 5
}

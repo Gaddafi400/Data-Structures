{
 "cells": [
  {
   "cell_type": "markdown",
   "id": "05128b50",
   "metadata": {},
   "source": [
    "## Problem \n",
    "\n",
    "\n",
    "In this notebook, we'll focus on solving the following problem:\n",
    "\n",
    "> **QUESTION 1**: As a senior backend engineer, you are tasked with developing a fast in-memory data structure to manage profile information (username, name and email) for 100 million users. It should allow the following operations to be performed efficiently:\n",
    "> \n",
    "> 1. **Insert** the profile information for a new user.\n",
    "> 2. **Find** the profile information of a user, given their username\n",
    "> 3. **Update** the profile information of a user, given their usrname\n",
    "> 5. **List** all the users of the platform, sorted by username\n",
    ">\n",
    "> You can assume that usernames are unique. \n",
    "\n"
   ]
  },
  {
   "cell_type": "code",
   "execution_count": 449,
   "id": "8dd3b2a4",
   "metadata": {},
   "outputs": [],
   "source": [
    "class User:\n",
    "    def __init__(self, name, username, email):\n",
    "        self.name = name\n",
    "        self.username = username\n",
    "        self.email = email\n",
    "        print('User created!')"
   ]
  },
  {
   "cell_type": "code",
   "execution_count": 450,
   "id": "4f7bf580",
   "metadata": {},
   "outputs": [
    {
     "name": "stdout",
     "output_type": "stream",
     "text": [
      "User created!\n"
     ]
    }
   ],
   "source": [
    "user = User('Gaddaf Adamu', 'gaddafi', 'gaddafi@gmail.com')"
   ]
  },
  {
   "cell_type": "markdown",
   "id": "38b1dc06",
   "metadata": {},
   "source": [
    "You can also define custom methods inside a class "
   ]
  },
  {
   "cell_type": "code",
   "execution_count": 451,
   "id": "85a4cf14",
   "metadata": {},
   "outputs": [
    {
     "data": {
      "text/plain": [
       "<__main__.User at 0x7fd879e28fd0>"
      ]
     },
     "execution_count": 451,
     "metadata": {},
     "output_type": "execute_result"
    }
   ],
   "source": [
    "user"
   ]
  },
  {
   "cell_type": "markdown",
   "id": "ca39f227",
   "metadata": {},
   "source": [
    "Here's what's happening above (conceptually):\n",
    "\n",
    "- Python creates an empty object of the type user and stores in the variable `user`\n",
    "- Python then invokes the function `User.___init__` with the arguments `user`, `\"Gaddafi\"`, `\"Gaddafi Adamu\"` and `\"gaddafi@doe.com\"`\n",
    "- As the `__init__` function is executed, the properties `username`, `name` and `email` are set on the object `user`"
   ]
  },
  {
   "cell_type": "code",
   "execution_count": 452,
   "id": "0e57aa70",
   "metadata": {},
   "outputs": [],
   "source": [
    "class User:\n",
    "    def __init__(self, name, username, email):\n",
    "        self.name = name\n",
    "        self.username = username\n",
    "        self.email = email\n",
    "        print('User created!')\n",
    "        \n",
    "    def introduceYourSelf(self, guestName):\n",
    "        print(f\"Hi {guestName}, I'm {self.name}! Contact me at {self.email}\")"
   ]
  },
  {
   "cell_type": "code",
   "execution_count": 453,
   "id": "29dc652a",
   "metadata": {},
   "outputs": [
    {
     "name": "stdout",
     "output_type": "stream",
     "text": [
      "User created!\n"
     ]
    }
   ],
   "source": [
    "user1 = User('Gaddaf Adamu', 'gaddafi', 'gaddafi@gmail.com')"
   ]
  },
  {
   "cell_type": "code",
   "execution_count": 454,
   "id": "f5b0da32",
   "metadata": {},
   "outputs": [
    {
     "name": "stdout",
     "output_type": "stream",
     "text": [
      "Hi John, I'm Gaddaf Adamu! Contact me at gaddafi@gmail.com\n"
     ]
    }
   ],
   "source": [
    "user1.introduceYourSelf('John')"
   ]
  },
  {
   "cell_type": "markdown",
   "id": "26e0acdc",
   "metadata": {},
   "source": [
    "When we try to invoke the method `user3.introduce_yourself`, the object `user3` is automatically passed as the first argument `self`. Indeed, the following statement is equivalent to the above statement."
   ]
  },
  {
   "cell_type": "code",
   "execution_count": 455,
   "id": "ad9dd648",
   "metadata": {},
   "outputs": [
    {
     "name": "stdout",
     "output_type": "stream",
     "text": [
      "Hi Aliyu, I'm Gaddaf Adamu! Contact me at gaddafi@gmail.com\n"
     ]
    }
   ],
   "source": [
    "User.introduceYourSelf(user, 'Aliyu')"
   ]
  },
  {
   "cell_type": "markdown",
   "id": "e2cfc8e4",
   "metadata": {},
   "source": [
    "Helper Funtion"
   ]
  },
  {
   "cell_type": "code",
   "execution_count": 456,
   "id": "4aa1102d",
   "metadata": {},
   "outputs": [],
   "source": [
    "class User:\n",
    "    def __init__(self, name, username, email):\n",
    "        self.name = name\n",
    "        self.username = username\n",
    "        self.email = email\n",
    "        print('User created!')\n",
    "        \n",
    "    def introduceYourSelf(self, guestName):\n",
    "        print(f\"Hi {guestName}, I'm {self.name}! Contact me at {self.email}\")\n",
    "        \n",
    "    def __repr__(self):\n",
    "        return f\"User(username={self.username}, name={self.name}, email={self.email})\"\n",
    "    \n",
    "    def __str__(self):\n",
    "        return self.__repr__()\n",
    "    "
   ]
  },
  {
   "cell_type": "code",
   "execution_count": 457,
   "id": "6768474a",
   "metadata": {},
   "outputs": [
    {
     "name": "stdout",
     "output_type": "stream",
     "text": [
      "User created!\n"
     ]
    }
   ],
   "source": [
    "user2 = User('Auwal Ronaldo', 'ronaldo', 'ronaldo@gmail.com')"
   ]
  },
  {
   "cell_type": "code",
   "execution_count": 458,
   "id": "273a3675",
   "metadata": {},
   "outputs": [
    {
     "name": "stdout",
     "output_type": "stream",
     "text": [
      "User(username=ronaldo, name=Auwal Ronaldo, email=ronaldo@gmail.com)\n"
     ]
    }
   ],
   "source": [
    "print(user2)"
   ]
  },
  {
   "cell_type": "markdown",
   "id": "e7eba38a",
   "metadata": {},
   "source": [
    "#### Output\n",
    "\n",
    "We can also express our desired data structure as a Python class `UserDatabase` with four methods: `insert`, `find`, `update` and `list_all`. "
   ]
  },
  {
   "cell_type": "code",
   "execution_count": 459,
   "id": "6f4ef60f",
   "metadata": {},
   "outputs": [],
   "source": [
    "class UserDatabase:\n",
    "    \n",
    "    def insert(self, user):\n",
    "        pass\n",
    "    \n",
    "    def find(self, user):\n",
    "        pass\n",
    "    \n",
    "    def update(self, user):\n",
    "        pass\n",
    "    \n",
    "    def listAll(self):\n",
    "        pass\n",
    "    \n",
    "        "
   ]
  },
  {
   "cell_type": "markdown",
   "id": "ca418427",
   "metadata": {},
   "source": [
    "It's good programming practice to list out the signatures of different class functions before we actually implement the class."
   ]
  },
  {
   "cell_type": "markdown",
   "id": "1fc1dba5",
   "metadata": {},
   "source": [
    "## 2. Come up with some example inputs & outputs. \n",
    "\n",
    "Let's create some sample user profiles that we can use to test our functions once we implement them."
   ]
  },
  {
   "cell_type": "code",
   "execution_count": 460,
   "id": "df51f246",
   "metadata": {},
   "outputs": [
    {
     "name": "stdout",
     "output_type": "stream",
     "text": [
      "User created!\n",
      "User created!\n",
      "User created!\n",
      "User created!\n",
      "User created!\n",
      "User created!\n",
      "User created!\n"
     ]
    }
   ],
   "source": [
    "aakash = User('aakash', 'Aakash Rai', 'aakash@example.com')\n",
    "biraj = User('biraj', 'Biraj Das', 'biraj@example.com')\n",
    "hemanth = User('hemanth', 'Hemanth Jain', 'hemanth@example.com')\n",
    "jadhesh = User('jadhesh', 'Jadhesh Verma', 'jadhesh@example.com')\n",
    "siddhant = User('siddhant', 'Siddhant Sinha', 'siddhant@example.com')\n",
    "sonaksh = User('sonaksh', 'Sonaksh Kumar', 'sonaksh@example.com')\n",
    "vishal = User('vishal', 'Vishal Goel', 'vishal@example.com')"
   ]
  },
  {
   "cell_type": "code",
   "execution_count": 461,
   "id": "aa531e55",
   "metadata": {},
   "outputs": [],
   "source": [
    "users = [aakash, biraj, hemanth, jadhesh, siddhant, sonaksh, vishal]"
   ]
  },
  {
   "cell_type": "markdown",
   "id": "99c90ed8",
   "metadata": {},
   "source": [
    "## 3. Come up with a correct solution. State it in plain English.\n",
    "\n",
    "Here's a simple and easy solution to the problem: we store the `User` objects in a list sorted by usernames. \n",
    "\n",
    "The various functions can be implemented as follows:\n",
    "\n",
    "1. **Insert**: Loop through the list and add the new user at a position that keeps the list sorted.\n",
    "2. **Find**: Loop through the list and find the user object with the username matching the query.\n",
    "3. **Update**: Loop through the list, find the user object matching the query and update the details\n",
    "4. **List**: Return the list of user objects.\n",
    "\n",
    "We can use the fact usernames, which are are strings can be compared using the `<`, `>` and `==` operators in Python."
   ]
  },
  {
   "cell_type": "code",
   "execution_count": null,
   "id": "9f58fdf2",
   "metadata": {},
   "outputs": [],
   "source": []
  },
  {
   "cell_type": "markdown",
   "id": "684ec298",
   "metadata": {},
   "source": [
    "## 4. Implement the solution and test it using example inputs.\n",
    "\n",
    "The code for implementing the above solution is also fairly straightfoward."
   ]
  },
  {
   "cell_type": "code",
   "execution_count": 462,
   "id": "acb9fa60",
   "metadata": {},
   "outputs": [],
   "source": [
    "class UserDatabase:\n",
    "    \n",
    "    def __init__(self, users):\n",
    "        self.users = users\n",
    "    \n",
    "    def insert(self, user):\n",
    "        index = 0\n",
    "        for i in range(len(self.users)):\n",
    "            if len(users[i].username) > len(user.username):\n",
    "                break\n",
    "            index += 1\n",
    "        self.users.insert(index, user)\n",
    "\n",
    "    def find(self, username):\n",
    "        for user in self.users:\n",
    "            if user.username == username:\n",
    "                return user\n",
    "        return -1\n",
    "    \n",
    "    def update(self, user):\n",
    "        target = self.find(user.username)\n",
    "        target.name, target.email = user.name, user.email\n",
    "        return self.find(user.username)\n",
    "    \n",
    "    def listAll(self):\n",
    "        return self.users"
   ]
  },
  {
   "cell_type": "code",
   "execution_count": 463,
   "id": "2743e487",
   "metadata": {},
   "outputs": [],
   "source": [
    "database = UserDatabase(users)"
   ]
  },
  {
   "cell_type": "code",
   "execution_count": 464,
   "id": "147f5c63",
   "metadata": {},
   "outputs": [
    {
     "name": "stdout",
     "output_type": "stream",
     "text": [
      "User created!\n"
     ]
    }
   ],
   "source": [
    "gas = User('gas', 'ronaldinho', 'ronaldo@gmail.com')"
   ]
  },
  {
   "cell_type": "code",
   "execution_count": 465,
   "id": "478c62cd",
   "metadata": {},
   "outputs": [],
   "source": [
    "database.insert(gas)"
   ]
  },
  {
   "cell_type": "code",
   "execution_count": 466,
   "id": "af892099",
   "metadata": {},
   "outputs": [
    {
     "data": {
      "text/plain": [
       "User(username=ronaldinho, name=gas, email=ronaldo@gmail.com)"
      ]
     },
     "execution_count": 466,
     "metadata": {},
     "output_type": "execute_result"
    }
   ],
   "source": [
    "database.find('ronaldinho')"
   ]
  },
  {
   "cell_type": "code",
   "execution_count": 467,
   "id": "20934bbf",
   "metadata": {},
   "outputs": [
    {
     "name": "stdout",
     "output_type": "stream",
     "text": [
      "User created!\n"
     ]
    },
    {
     "data": {
      "text/plain": [
       "User(username=ronaldinho, name=ronaldinho, email=ronaldinho@gmail.com)"
      ]
     },
     "execution_count": 467,
     "metadata": {},
     "output_type": "execute_result"
    }
   ],
   "source": [
    "gas = User('ronaldinho', 'ronaldinho', 'ronaldinho@gmail.com')\n",
    "database.update(gas)"
   ]
  },
  {
   "cell_type": "code",
   "execution_count": 468,
   "id": "48484efb",
   "metadata": {},
   "outputs": [
    {
     "data": {
      "text/plain": [
       "[User(username=Aakash Rai, name=aakash, email=aakash@example.com),\n",
       " User(username=Biraj Das, name=biraj, email=biraj@example.com),\n",
       " User(username=ronaldinho, name=ronaldinho, email=ronaldinho@gmail.com),\n",
       " User(username=Hemanth Jain, name=hemanth, email=hemanth@example.com),\n",
       " User(username=Jadhesh Verma, name=jadhesh, email=jadhesh@example.com),\n",
       " User(username=Siddhant Sinha, name=siddhant, email=siddhant@example.com),\n",
       " User(username=Sonaksh Kumar, name=sonaksh, email=sonaksh@example.com),\n",
       " User(username=Vishal Goel, name=vishal, email=vishal@example.com)]"
      ]
     },
     "execution_count": 468,
     "metadata": {},
     "output_type": "execute_result"
    }
   ],
   "source": [
    "database.listAll()"
   ]
  },
  {
   "cell_type": "code",
   "execution_count": null,
   "id": "1e664f02",
   "metadata": {},
   "outputs": [],
   "source": []
  },
  {
   "cell_type": "markdown",
   "id": "856ed945",
   "metadata": {},
   "source": [
    "## 5. Analyze the algorithm's complexity and identify inefficiencies\n",
    "\n",
    "The operations `insert`, `find`, `update` involves iterating over a list of users, in the worst case, they may take up to `N` iterations to return a result, where `N` is the total number of users. `list_all` however, simply returns the existing internal list of users. \n",
    "\n",
    "Thus, the time complexities of the various operations are:\n",
    "\n",
    "1. Insert: **O(N)**\n",
    "2. Find: **O(N)**\n",
    "3. Update: **O(N)**\n",
    "4. List: **O(1)**\n",
    "\n",
    "**Exercise:** Verify that the space complexity of each operation is **O(1)**.\n",
    "\n",
    "Is this good enough? To get a sense how long each function might take if there are 100 million users on the platform, we can simply run an `for` or `while` loop on 10 million numbers."
   ]
  },
  {
   "cell_type": "markdown",
   "id": "82cbb055",
   "metadata": {},
   "source": [
    "## 6. Apply the right technique to overcome the inefficiency\n",
    "\n",
    "We can limit the number of iterations required for common operations like find, insert and update by organizing our data in the following structure, called a **binary tree**:\n",
    "\n",
    "<img src=\"https://i.imgur.com/lVqP63n.png\" width=\"520\">\n",
    "\n",
    "\n",
    "\n",
    "It's called a tree because it vaguely like an inverted tree trunk with branches. \n",
    "* The word \"binary\" indicates that each \"node\" in the tree can have at most 2 children (left or right). \n",
    "* Nodes can have 0, 1 or 2 children. Nodes that do not have any children are sometimes also called \"leaves\".\n",
    "* The single node at the top is called the \"root\" node, and it typically where operations like search, insertion etc. begin.\n",
    "\n",
    "<img src=\"https://i.imgur.com/TZHMKJr.png\" width=\"400\">"
   ]
  },
  {
   "cell_type": "markdown",
   "id": "d3ae5070",
   "metadata": {},
   "source": [
    "## Balanced Binary Search Trees\n",
    "\n",
    "<img src=\"https://i.imgur.com/Mqef5b3.png\" width=\"520\">\n",
    "\n",
    "For our use case, we require the binary tree to have some additional properties:\n",
    "\n",
    "1. **Keys and Values**: Each node of the tree stores a key (a username) and a value (a `User` object). Only keys are shown in the picture above for brevity. A binary tree where nodes have both a key and a value is often referred to as a **map** or **treemap** (because it maps keys to values).\n",
    "2. **Binary Search Tree**: The *left subtree* of any node only contains nodes with keys that are lexicographically smaller than the node's key, and the *right subtree* of any node only contains nodes with keys that lexicographically larger than the node's key. A tree that satisfies this property is called a **binary search trees**, and it's easy to locate a specific key by traversing a single path down from the root note.\n",
    "3. **Balanced Tree**: The tree is **balanced** i.e. it does not skew too heavily to one side or the other. The left and right subtrees of any node shouldn't differ in height/depth by more than 1 level.\n",
    "\n",
    "\n",
    "### Height of a Binary Tree\n",
    "\n",
    "The number of levels in a tree is called its height. As you can tell from the picture above, each level of a tree contains twice as many nodes as the previous level. \n",
    "\n",
    "For a tree of height `k`, here's a list of the number of nodes at each level:\n",
    "\n",
    "Level 0: `1`\n",
    "\n",
    "Level 1: `2`\n",
    "\n",
    "Level 2: `4` i.e. `2^2`\n",
    "\n",
    "Level 3: `8` i.e. `2^3`\n",
    "\n",
    "...\n",
    "\n",
    "Level k-1: `2^(k-1)`\n",
    "\n",
    "If the total number of nodes in the tree is `N`, then it follows that\n",
    "\n",
    "```\n",
    "N = 1 + 2^1 + 2^2 + 2^3 + ... + 2^(k-1)\n",
    "```\n",
    "\n",
    "\n",
    "We can simplify this equation by adding `1` on each side:\n",
    "\n",
    "```\n",
    "N + 1 = 1 + 1 + 2^1 + 2^2 + 2^3 + ... + 2^(k-1) \n",
    "\n",
    "N + 1 = 2^1 + 2^1 + 2^2+ 2^3 + ... + 2^(k-1) \n",
    "\n",
    "N + 1 = = 2^2 + 2^2 + 2^3 + ... + 2^(k-1)\n",
    "\n",
    "N + 1 = = 2^3 + 2^3 + ... + 2^(k-1)\n",
    "\n",
    "...\n",
    "\n",
    "N + 1 = 2^(k-1) + 2^(k-1)\n",
    "\n",
    "N + 1 = 2^k\n",
    "\n",
    "k = log(N + 1) <= log(N) + 1 \n",
    "\n",
    "```\n",
    "\n",
    "Thus, to store `N` records we require a balanced binary search tree (BST) of height no larger than `log(N) + 1`. This is a very useful property, in combination with the fact that nodes are arranged in a way that makes it easy to find a specific key by following a single path down from the root. \n",
    "\n",
    "As we'll see soon, the `insert`, `find` and `update` operations in a balanced BST have time complexity `O(log N)` since they all involve traversing a single path down from the root of the tree."
   ]
  },
  {
   "cell_type": "markdown",
   "id": "d460c88e",
   "metadata": {},
   "source": [
    "## Binary Tree\n",
    "\n",
    "> **QUESTION 2**: Implement a binary tree using Python, and show its usage with some examples.\n",
    "\n",
    "To begin, we'll create simple binary tree (without any of the additional properties) containing numbers as keys within nodes. Here's an example:\n",
    "\n",
    "<img src=\"https://i.imgur.com/hg2ZG5h.png\" width=\"240\">\n",
    "\n",
    "Here's a simple class representing a node within a binary tree."
   ]
  },
  {
   "cell_type": "code",
   "execution_count": 469,
   "id": "7c355726",
   "metadata": {},
   "outputs": [],
   "source": [
    "class TreeNode:\n",
    "    def __init__(self, key):\n",
    "        self.key = key\n",
    "        self.left = None\n",
    "        self.right = None"
   ]
  },
  {
   "cell_type": "markdown",
   "id": "d6c86334",
   "metadata": {},
   "source": [
    "Let's create objects representing each node of the above tree"
   ]
  },
  {
   "cell_type": "code",
   "execution_count": 470,
   "id": "c53ca16c",
   "metadata": {},
   "outputs": [],
   "source": [
    "root = TreeNode(3)"
   ]
  },
  {
   "cell_type": "code",
   "execution_count": 471,
   "id": "a08b1fc9",
   "metadata": {},
   "outputs": [],
   "source": [
    "node0 = TreeNode(4) \n",
    "node1 = TreeNode(5)"
   ]
  },
  {
   "cell_type": "markdown",
   "id": "77ff158f",
   "metadata": {},
   "source": [
    "We can *connect* the nodes by setting the `.left` and `.right` properties of the root node."
   ]
  },
  {
   "cell_type": "code",
   "execution_count": 472,
   "id": "34c00a67",
   "metadata": {},
   "outputs": [],
   "source": [
    "root.left  = node0\n",
    "root.right = node1"
   ]
  },
  {
   "cell_type": "markdown",
   "id": "171f8dad",
   "metadata": {},
   "source": [
    "And we're done! We can create a new variable *tree* which simply points to the root node, and use it to access all the nodes within the tree.\n",
    "\n",
    "<img src=\"https://i.imgur.com/hg2ZG5h.png\" width=\"240\">"
   ]
  },
  {
   "cell_type": "code",
   "execution_count": 473,
   "id": "15a5d3b5",
   "metadata": {},
   "outputs": [
    {
     "data": {
      "text/plain": [
       "(3, 4, 5)"
      ]
     },
     "execution_count": 473,
     "metadata": {},
     "output_type": "execute_result"
    }
   ],
   "source": [
    "(root.key, root.left.key, root.right.key)"
   ]
  },
  {
   "cell_type": "markdown",
   "id": "8f9503b6",
   "metadata": {},
   "source": [
    "Going forward, we'll use the term \"tree\" to refer to the root node. The term \"node\" can refer to any node in a tree, not necessarily the root.\n",
    "\n",
    "**Exercise:** Create the following binary tree using the `TreeNode` class defined above.\n",
    "\n",
    "<img src=\"https://i.imgur.com/d7djJAf.png\" width=\"540\">"
   ]
  },
  {
   "cell_type": "code",
   "execution_count": 474,
   "id": "e98cbd88",
   "metadata": {},
   "outputs": [],
   "source": [
    "tree = TreeNode(2)"
   ]
  },
  {
   "cell_type": "code",
   "execution_count": 475,
   "id": "89d319ca",
   "metadata": {},
   "outputs": [],
   "source": [
    "node1 = TreeNode(3)\n",
    "node2 = TreeNode(1)\n",
    "node3 = TreeNode(5)\n",
    "node4 = TreeNode(3)\n",
    "node5 = TreeNode(4)\n",
    "node6 = TreeNode(7)\n",
    "node7 = TreeNode(6)\n",
    "node8 = TreeNode(8)"
   ]
  },
  {
   "cell_type": "code",
   "execution_count": 476,
   "id": "71e2a4ab",
   "metadata": {},
   "outputs": [],
   "source": [
    "tree.left = node1\n",
    "tree.left.left = node2"
   ]
  },
  {
   "cell_type": "code",
   "execution_count": 477,
   "id": "3896d796",
   "metadata": {},
   "outputs": [],
   "source": [
    "tree.right = node3\n",
    "tree.right.left = node4\n",
    "tree.right.left.right = node5"
   ]
  },
  {
   "cell_type": "code",
   "execution_count": 478,
   "id": "ad27de4f",
   "metadata": {},
   "outputs": [],
   "source": [
    "tree.right.right = node6\n",
    "tree.right.right.left = node7\n",
    "tree.right.right.right = node8"
   ]
  },
  {
   "cell_type": "code",
   "execution_count": 479,
   "id": "f7b5dde0",
   "metadata": {},
   "outputs": [
    {
     "data": {
      "text/plain": [
       "2"
      ]
     },
     "execution_count": 479,
     "metadata": {},
     "output_type": "execute_result"
    }
   ],
   "source": [
    "(tree.key)"
   ]
  },
  {
   "cell_type": "code",
   "execution_count": 480,
   "id": "5a4cd00b",
   "metadata": {},
   "outputs": [
    {
     "data": {
      "text/plain": [
       "(3, 5)"
      ]
     },
     "execution_count": 480,
     "metadata": {},
     "output_type": "execute_result"
    }
   ],
   "source": [
    "(tree.left.key, tree.right.key)"
   ]
  },
  {
   "cell_type": "code",
   "execution_count": 481,
   "id": "cb100fb9",
   "metadata": {},
   "outputs": [
    {
     "data": {
      "text/plain": [
       "(1, None, 3, 7)"
      ]
     },
     "execution_count": 481,
     "metadata": {},
     "output_type": "execute_result"
    }
   ],
   "source": [
    "(tree.left.left.key, tree.left.right, tree.right.left.key, tree.right.right.key)"
   ]
  },
  {
   "cell_type": "code",
   "execution_count": 482,
   "id": "b93c7f34",
   "metadata": {},
   "outputs": [
    {
     "data": {
      "text/plain": [
       "(None, None, None, 4, 6, 8)"
      ]
     },
     "execution_count": 482,
     "metadata": {},
     "output_type": "execute_result"
    }
   ],
   "source": [
    "(tree.left.left.left, tree.left.left.right, \n",
    "tree.right.left.left, tree.right.left.right.key, \n",
    "tree.right.right.left.key, tree.right.right.right.key)"
   ]
  },
  {
   "cell_type": "markdown",
   "id": "f39c4daf",
   "metadata": {},
   "source": [
    "It's a bit inconvenient to create a tree by manually connecting all the nodes. Let's write a helper function which can convert a tuple with the structure `( left_subtree, key, right_subtree)` (where `left_subtree` and `right_subtree` are themselves tuples) into binary tree.\n",
    "\n",
    "Here's an tuple representing the tree shown above"
   ]
  },
  {
   "cell_type": "code",
   "execution_count": 483,
   "id": "17a9f807",
   "metadata": {},
   "outputs": [],
   "source": [
    "tree_tuple = ((1,3,None), 2, ((None, 3, 4), 5, (6, 7, 8)))"
   ]
  },
  {
   "cell_type": "code",
   "execution_count": 484,
   "id": "a24e002a",
   "metadata": {},
   "outputs": [],
   "source": [
    "def parseTurple(data):\n",
    "    callStack = []\n",
    "    print(f'parseTurple({data})')\n",
    "    callStack.append(data)\n",
    "    if isinstance(data, tuple) and len(data) == 3:\n",
    "        leftSubtree, key, rightSubtree = data\n",
    "        tree = TreeNode(key)\n",
    "        tree.left  = parseTurple(leftSubtree)\n",
    "        tree.right = parseTurple(rightSubtree)\n",
    "    elif data is None:\n",
    "        tree = None\n",
    "    else:\n",
    "        tree = TreeNode(data)\n",
    "        callStack.pop()\n",
    "    return tree"
   ]
  },
  {
   "cell_type": "code",
   "execution_count": null,
   "id": "a69663ec",
   "metadata": {},
   "outputs": [],
   "source": []
  },
  {
   "cell_type": "markdown",
   "id": "ed034e5f",
   "metadata": {},
   "source": [
    "The `parse_tuple` creates a new root node when a tuple of size 3 as an the input. Interestingly, to create the left and right subtrees for the node, the `parse_tuple` function invokes itself. This technique is called _recursion_. The chain of _recursive_ calls ends when `parse_tuple` encounters a number or `None` as input. We'll use recursion extensively throughout this tutorial.\n",
    "\n",
    "\n",
    "**Exercise:** Add print statements inside `parse_tuple` to display the arguments for each call of the function. Does the sequence of recursive calls make sense to you?"
   ]
  },
  {
   "cell_type": "code",
   "execution_count": 485,
   "id": "3cc1a4e8",
   "metadata": {},
   "outputs": [
    {
     "name": "stdout",
     "output_type": "stream",
     "text": [
      "parseTurple(((1, 3, None), 2, ((None, 3, 4), 5, (6, 7, 8))))\n",
      "parseTurple((1, 3, None))\n",
      "parseTurple(1)\n",
      "parseTurple(None)\n",
      "parseTurple(((None, 3, 4), 5, (6, 7, 8)))\n",
      "parseTurple((None, 3, 4))\n",
      "parseTurple(None)\n",
      "parseTurple(4)\n",
      "parseTurple((6, 7, 8))\n",
      "parseTurple(6)\n",
      "parseTurple(8)\n"
     ]
    }
   ],
   "source": [
    "tree = parseTurple(tree_tuple)"
   ]
  },
  {
   "cell_type": "code",
   "execution_count": 486,
   "id": "93050004",
   "metadata": {},
   "outputs": [
    {
     "data": {
      "text/plain": [
       "2"
      ]
     },
     "execution_count": 486,
     "metadata": {},
     "output_type": "execute_result"
    }
   ],
   "source": [
    "tree.key"
   ]
  },
  {
   "cell_type": "code",
   "execution_count": 487,
   "id": "1b308008",
   "metadata": {},
   "outputs": [
    {
     "data": {
      "text/plain": [
       "(3, 5)"
      ]
     },
     "execution_count": 487,
     "metadata": {},
     "output_type": "execute_result"
    }
   ],
   "source": [
    "tree.left.key, tree.right.key"
   ]
  },
  {
   "cell_type": "code",
   "execution_count": 488,
   "id": "b14af26c",
   "metadata": {},
   "outputs": [
    {
     "data": {
      "text/plain": [
       "(1, None, 3, 7)"
      ]
     },
     "execution_count": 488,
     "metadata": {},
     "output_type": "execute_result"
    }
   ],
   "source": [
    "tree.left.left.key, tree.left.right, tree.right.left.key, tree.right.right.key"
   ]
  },
  {
   "cell_type": "code",
   "execution_count": 489,
   "id": "ec43eee8",
   "metadata": {},
   "outputs": [
    {
     "data": {
      "text/plain": [
       "(None, None, None, 4, 6, 8)"
      ]
     },
     "execution_count": 489,
     "metadata": {},
     "output_type": "execute_result"
    }
   ],
   "source": [
    "(tree.left.left.left, tree.left.left.right, \n",
    "tree.right.left.left, tree.right.left.right.key, \n",
    "tree.right.right.left.key, tree.right.right.right.key)"
   ]
  },
  {
   "cell_type": "markdown",
   "id": "dc250f94",
   "metadata": {},
   "source": [
    "**Exercise:** Define a function `tree_to_tuple` that converts a binary tree into a tuple representing the same tree. E.g. `tree_to_tuple` converts the tree created above to the tuple `((1, 3, None), 2, ((None, 3, 4), 5, (6, 7, 8)))`. *Hint*: Use recursion."
   ]
  },
  {
   "cell_type": "code",
   "execution_count": 490,
   "id": "9d3811b0",
   "metadata": {},
   "outputs": [],
   "source": [
    "# def treeToTuple(tree, space='\\t', level=0):\n",
    "    \n",
    "#     if tree is None:\n",
    "#         print(f'{space * level} ∅')\n",
    "#         return -1\n",
    "#     else:\n",
    "#         treeToTuple(tree.left, space, level+1)\n",
    "#         print(f'{space * level} {tree.key}')\n",
    "#         treeToTuple(tree.right, space, level+1)\n",
    "\n",
    "def treeToTuple(tree):\n",
    "    if tree is None:\n",
    "        return \n",
    "    else:\n",
    "        return treeToTuple(tree.left), tree.key, treeToTuple(tree.right)"
   ]
  },
  {
   "cell_type": "code",
   "execution_count": 491,
   "id": "0b267953",
   "metadata": {},
   "outputs": [
    {
     "data": {
      "text/plain": [
       "(((None, 1, None), 3, None),\n",
       " 2,\n",
       " ((None, 3, (None, 4, None)), 5, ((None, 6, None), 7, (None, 8, None))))"
      ]
     },
     "execution_count": 491,
     "metadata": {},
     "output_type": "execute_result"
    }
   ],
   "source": [
    "treeToTuple(tree)"
   ]
  },
  {
   "cell_type": "code",
   "execution_count": null,
   "id": "b88b127f",
   "metadata": {},
   "outputs": [],
   "source": []
  },
  {
   "cell_type": "markdown",
   "id": "c5de074d",
   "metadata": {},
   "source": [
    "Let's create another helper function to display all the keys in a tree-like structure for easier visualization."
   ]
  },
  {
   "cell_type": "code",
   "execution_count": 492,
   "id": "7140797f",
   "metadata": {},
   "outputs": [],
   "source": [
    "def displayKeys(node, space='\\t', level=0):\n",
    "    # print(node.key if node else None, level)\n",
    "    \n",
    "    # If the node is empty\n",
    "    if node is None:\n",
    "        print(space*level + '∅')\n",
    "        return   \n",
    "    \n",
    "    # If the node is a leaf \n",
    "    if node.left is None and node.right is None:\n",
    "        print(space*level + str(node.key))\n",
    "        return\n",
    "    \n",
    "    # If the node has children\n",
    "    displayKeys(node.right, space, level+1)\n",
    "    print(space*level + str(node.key))\n",
    "    displayKeys(node.left,space, level+1)"
   ]
  },
  {
   "cell_type": "code",
   "execution_count": 493,
   "id": "e2168b41",
   "metadata": {},
   "outputs": [
    {
     "name": "stdout",
     "output_type": "stream",
     "text": [
      "\t\t\t8\n",
      "\t\t7\n",
      "\t\t\t6\n",
      "\t5\n",
      "\t\t\t4\n",
      "\t\t3\n",
      "\t\t\t∅\n",
      "2\n",
      "\t\t∅\n",
      "\t3\n",
      "\t\t1\n"
     ]
    }
   ],
   "source": [
    "displayKeys(tree)"
   ]
  },
  {
   "cell_type": "markdown",
   "id": "48479c30",
   "metadata": {},
   "source": [
    "Once again, the `display_keys` function users recursion to print all the keys of the left and right subtree with proper indentation.\n",
    "\n",
    "**Exercise:** Add print statements inside `display_keys` to display the arguments for each call of the function. Does the sequence of recursive calls make sense to you?\n",
    "\n",
    "Let's try using the function."
   ]
  },
  {
   "cell_type": "code",
   "execution_count": null,
   "id": "47bfc0d1",
   "metadata": {},
   "outputs": [],
   "source": []
  },
  {
   "cell_type": "code",
   "execution_count": null,
   "id": "0eabbd4a",
   "metadata": {},
   "outputs": [],
   "source": []
  },
  {
   "cell_type": "markdown",
   "id": "0b670353",
   "metadata": {},
   "source": [
    "## Traversing a Binary Tree\n",
    "\n",
    "The following questions are frequently asked in coding interviews and assessments:\n",
    "\n",
    "> **QUESTION 3**: Write a function to perform the _inorder_ traversal of a binary tree.\n",
    "\n",
    "> **QUESTION 4**: Write a function to perform the _preorder_ traversal of a binary tree.\n",
    "\n",
    "> **QUESTION 5**: Write a function to perform the _postorder_ traversal of a binary tree.\n",
    "\n",
    "Unlike linear data structures (Array, Linked List, Queues, Stacks, etc) which have only one logical way to traverse them, trees can be traversed in different ways. Following are the generally used ways for traversing trees.\n",
    "\n",
    "A *traversal* refers to the process of visiting each node of a tree exactly once. _Visiting a node_ generally refers to adding the node's key to a list. There are three ways to traverse a binary tree and return the list of visited keys: \n",
    "\n",
    "### Inorder traversal\n",
    "\n",
    "\n",
    "\n",
    "  1. Traverse the left subtree recursively inorder.\n",
    "  2. Traverse the current node.\n",
    "  3. Traverse the right subtree recursively inorder.\n",
    "\n",
    "\n",
    "<img src=\"https://i.imgur.com/KCXpMA9.png\" width=\"540\">\n",
    "\n",
    "\n",
    "### Preorder traversal\n",
    "\n",
    "  1. Traverse the current node.\n",
    "  2. Traverse the left subtree recursively preorder.\n",
    "  3. Traverse the right subtree recursively preorder.\n",
    "  \n",
    "<img src=\"https://i.imgur.com/2xrMUWP.png\" width=\"540\">\n",
    "\n",
    "\n",
    "\n",
    "### Postorder traversal\n",
    "\n",
    "   1. Traverse the left subtree, i.e., call Postorder(left-subtree)\n",
    "   2. Traverse the right subtree, i.e., call Postorder(right-subtree)\n",
    "   3. Visit the root.\n"
   ]
  },
  {
   "cell_type": "markdown",
   "id": "1802cade",
   "metadata": {},
   "source": [
    "Here's an implementation of inorder traversal of a binary tree."
   ]
  },
  {
   "cell_type": "code",
   "execution_count": 494,
   "id": "30baedc9",
   "metadata": {},
   "outputs": [],
   "source": [
    "def traverseInorder(tree):\n",
    "    if tree is None: \n",
    "        return []\n",
    "    return(traverseInorder(tree.left) + [tree.key] + traverseInorder(tree.right))"
   ]
  },
  {
   "cell_type": "code",
   "execution_count": 495,
   "id": "db1ff9ae",
   "metadata": {},
   "outputs": [
    {
     "data": {
      "text/plain": [
       "[1, 3, 2, 3, 4, 5, 6, 7, 8]"
      ]
     },
     "execution_count": 495,
     "metadata": {},
     "output_type": "execute_result"
    }
   ],
   "source": [
    "traverseInorder(tree)"
   ]
  },
  {
   "cell_type": "markdown",
   "id": "cf46b343",
   "metadata": {},
   "source": [
    "Here's an implementation of preorder traversal of a binary tree."
   ]
  },
  {
   "cell_type": "code",
   "execution_count": 496,
   "id": "ef6ecb59",
   "metadata": {},
   "outputs": [],
   "source": [
    "def traversePreorder(tree):\n",
    "    if tree is None:\n",
    "        return []\n",
    "    return ([tree.key] + traversePreorder(tree.left) + traversePreorder(tree.right))\n",
    "    "
   ]
  },
  {
   "cell_type": "code",
   "execution_count": 497,
   "id": "8cd09072",
   "metadata": {},
   "outputs": [
    {
     "data": {
      "text/plain": [
       "[2, 3, 1, 5, 3, 4, 7, 6, 8]"
      ]
     },
     "execution_count": 497,
     "metadata": {},
     "output_type": "execute_result"
    }
   ],
   "source": [
    "traversePreorder(tree)"
   ]
  },
  {
   "cell_type": "markdown",
   "id": "c1c14379",
   "metadata": {},
   "source": [
    "Here's an implementation of postOrder traversal of a binary tree."
   ]
  },
  {
   "cell_type": "code",
   "execution_count": 498,
   "id": "a397be98",
   "metadata": {},
   "outputs": [],
   "source": [
    "def traversePostorder(tree):\n",
    "    if tree is None:\n",
    "        return 0\n",
    "    return (treversePreorder(tree.left) + treversePreorder(tree.right) + [tree.key])"
   ]
  },
  {
   "cell_type": "code",
   "execution_count": 499,
   "id": "7ffb0716",
   "metadata": {},
   "outputs": [
    {
     "data": {
      "text/plain": [
       "[2, 3, 1, 5, 3, 4, 7, 6, 8]"
      ]
     },
     "execution_count": 499,
     "metadata": {},
     "output_type": "execute_result"
    }
   ],
   "source": [
    "traversePreorder(tree)"
   ]
  },
  {
   "cell_type": "markdown",
   "id": "77a20035",
   "metadata": {},
   "source": [
    "## Height and Size of a Binary Tree\n",
    "\n",
    "\n",
    "> **QUESTION 6**: Write a function to calculate the height/depth of a binary tree\n",
    "\n",
    "> **QUESTION 7**: Write a function to count the number of nodes in a binary tree\n",
    "\n",
    "\n",
    "The _height/depth_ of a binary tree is defined as the length of the longest path from its root node to a leaf. It can be computed recursively, as follows:"
   ]
  },
  {
   "cell_type": "markdown",
   "id": "f8e570fe",
   "metadata": {},
   "source": [
    "__The height of a binary tree is the MAX of nodes of the left subtree and right subtree \n",
    "plus one__\n",
    "\n",
    "* counting nodes leaf node is zero\n",
    "* counting edges leaf node is minus one\n",
    "* empty tree height is zero"
   ]
  },
  {
   "cell_type": "code",
   "execution_count": 580,
   "id": "54215455",
   "metadata": {},
   "outputs": [],
   "source": [
    "def treeHeight(tree):\n",
    "    if tree is None:\n",
    "        return -1\n",
    "    return 1 + max(treeHeight(tree.left), treeHeight(tree.right))\n"
   ]
  },
  {
   "cell_type": "code",
   "execution_count": 581,
   "id": "47de002b",
   "metadata": {},
   "outputs": [
    {
     "data": {
      "text/plain": [
       "3"
      ]
     },
     "execution_count": 581,
     "metadata": {},
     "output_type": "execute_result"
    }
   ],
   "source": [
    "treeHeight(tree)"
   ]
  },
  {
   "cell_type": "code",
   "execution_count": 502,
   "id": "31d9e28f",
   "metadata": {},
   "outputs": [],
   "source": [
    "def minDepth(self, root) -> int:  \n",
    "    if root is None:\n",
    "            return 0\n",
    "        \n",
    "    if root.left is None and root.right is None:\n",
    "            return 1\n",
    "     \n",
    "    if root.left is None:\n",
    "        return self.minDepth(root.right)+1\n",
    "\n",
    "    if root.right is None:\n",
    "        return self.minDepth(root.left)+1\n",
    "        \n",
    "    return min(self.minDepth(root.left), self.minDepth(root.right)) + 1"
   ]
  },
  {
   "cell_type": "markdown",
   "id": "ef94e173",
   "metadata": {},
   "source": [
    "__Here's a function to count the number of nodes in a binary tree__"
   ]
  },
  {
   "cell_type": "code",
   "execution_count": 503,
   "id": "b505a6c6",
   "metadata": {},
   "outputs": [],
   "source": [
    "def treeSize(tree):\n",
    "    if tree is None:\n",
    "        return 0\n",
    "    left = treeSize(tree.left)\n",
    "    right = treeSize(tree.right)\n",
    "    return (1 + left + right)"
   ]
  },
  {
   "cell_type": "code",
   "execution_count": 504,
   "id": "d7e0a8a8",
   "metadata": {},
   "outputs": [
    {
     "data": {
      "text/plain": [
       "9"
      ]
     },
     "execution_count": 504,
     "metadata": {},
     "output_type": "execute_result"
    }
   ],
   "source": [
    "treeSize(tree)"
   ]
  },
  {
   "cell_type": "markdown",
   "id": "08bdcb55",
   "metadata": {},
   "source": [
    "As a final step, let's compile all the functions we've written so far as methods withing the `TreeNode` class itself. Encapsulation of data and functionality within the same class is a good programming practice."
   ]
  },
  {
   "cell_type": "code",
   "execution_count": 505,
   "id": "119099a7",
   "metadata": {},
   "outputs": [],
   "source": [
    "class TreeNode():\n",
    "    def __init__(self, key):\n",
    "        self.key, self.left, self.right = key, None, None\n",
    "    \n",
    "    def height(self):\n",
    "        if self is None:\n",
    "            return 0\n",
    "        return 1 + max(TreeNode.height(self.left), TreeNode.height(self.right))\n",
    "    \n",
    "    def size(self):\n",
    "        if self is None:\n",
    "            return 0\n",
    "        return 1 + TreeNode.size(self.left) + TreeNode.size(self.right)\n",
    "\n",
    "    def traverseInorder(self):\n",
    "        if self is None: \n",
    "            return []\n",
    "        return (TreeNode.traverseInorder(self.left) + \n",
    "                [self.key] + \n",
    "                TreeNode.traverseInorder(self.right))\n",
    "    \n",
    "    def displayKeys(self, space='\\t', level=0):\n",
    "        # If the node is empty\n",
    "        if self is None:\n",
    "            print(space*level + '∅')\n",
    "            return   \n",
    "\n",
    "        # If the node is a leaf \n",
    "        if self.left is None and self.right is None:\n",
    "            print(space*level + str(self.key))\n",
    "            return\n",
    "\n",
    "        # If the node has children\n",
    "        displayKeys(self.right, space, level+1)\n",
    "        print(space*level + str(self.key))\n",
    "        displayKeys(self.left,space, level+1) \n",
    "        \n",
    "    # tree to tuple\n",
    "    def toTuple(self):\n",
    "        if self is None:\n",
    "            return None\n",
    "        if self.left is None and self.right is None:\n",
    "            return self.key\n",
    "        return TreeNode.toTuple(self.left),  self.key, TreeNode.toTuple(self.right)\n",
    "    \n",
    "    def __str__(self):\n",
    "        return \"BinaryTree <{}>\".format(self.toTuple())\n",
    "    \n",
    "    def __repr__(self):\n",
    "        return \"BinaryTree <{}>\".format(self.toTuple())\n",
    "    \n",
    "    # tuple to tree\n",
    "    @staticmethod    \n",
    "    def parseTuple(data):\n",
    "        if data is None:\n",
    "            node = None\n",
    "        elif isinstance(data, tuple) and len(data) == 3:\n",
    "            node = TreeNode(data[1])\n",
    "            node.left = TreeNode.parseTuple(data[0])\n",
    "            node.right = TreeNode.parseTuple(data[2])\n",
    "        else:\n",
    "            node = TreeNode(data)\n",
    "        return node"
   ]
  },
  {
   "cell_type": "markdown",
   "id": "8d008b69",
   "metadata": {},
   "source": [
    "The class method invocations `TreeNode.height(node)` and `node.height()` are equivalent.\n",
    "\n",
    "\n",
    "Let's try out the various methods defined above for this tree:\n",
    "\n",
    "<img src=\"https://i.imgur.com/d7djJAf.png\" width=\"540\">"
   ]
  },
  {
   "cell_type": "code",
   "execution_count": 506,
   "id": "173706c1",
   "metadata": {},
   "outputs": [],
   "source": [
    "tree_tuple = ((1,3,None), 2, ((None, 3, 4), 5, (6, 7, 8)))"
   ]
  },
  {
   "cell_type": "code",
   "execution_count": 507,
   "id": "1cac1c38",
   "metadata": {},
   "outputs": [],
   "source": [
    "tree = TreeNode.parseTuple(tree_tuple)"
   ]
  },
  {
   "cell_type": "code",
   "execution_count": 508,
   "id": "2b8c6b1c",
   "metadata": {},
   "outputs": [
    {
     "data": {
      "text/plain": [
       "BinaryTree <((1, 3, None), 2, ((None, 3, 4), 5, (6, 7, 8)))>"
      ]
     },
     "execution_count": 508,
     "metadata": {},
     "output_type": "execute_result"
    }
   ],
   "source": [
    "tree"
   ]
  },
  {
   "cell_type": "code",
   "execution_count": 509,
   "id": "6abb27da",
   "metadata": {},
   "outputs": [
    {
     "name": "stdout",
     "output_type": "stream",
     "text": [
      "      8\n",
      "    7\n",
      "      6\n",
      "  5\n",
      "      4\n",
      "    3\n",
      "      ∅\n",
      "2\n",
      "    ∅\n",
      "  3\n",
      "    1\n"
     ]
    }
   ],
   "source": [
    "tree.displayKeys('  ')"
   ]
  },
  {
   "cell_type": "code",
   "execution_count": 510,
   "id": "243fc6a9",
   "metadata": {},
   "outputs": [
    {
     "data": {
      "text/plain": [
       "4"
      ]
     },
     "execution_count": 510,
     "metadata": {},
     "output_type": "execute_result"
    }
   ],
   "source": [
    "tree.height()"
   ]
  },
  {
   "cell_type": "code",
   "execution_count": 511,
   "id": "3ff9b8c4",
   "metadata": {},
   "outputs": [
    {
     "data": {
      "text/plain": [
       "9"
      ]
     },
     "execution_count": 511,
     "metadata": {},
     "output_type": "execute_result"
    }
   ],
   "source": [
    "tree.size()"
   ]
  },
  {
   "cell_type": "code",
   "execution_count": 512,
   "id": "58812903",
   "metadata": {},
   "outputs": [
    {
     "data": {
      "text/plain": [
       "[1, 3, 2, 3, 4, 5, 6, 7, 8]"
      ]
     },
     "execution_count": 512,
     "metadata": {},
     "output_type": "execute_result"
    }
   ],
   "source": [
    "tree.traverseInorder()"
   ]
  },
  {
   "cell_type": "code",
   "execution_count": 513,
   "id": "5f21de18",
   "metadata": {},
   "outputs": [
    {
     "data": {
      "text/plain": [
       "((1, 3, None), 2, ((None, 3, 4), 5, (6, 7, 8)))"
      ]
     },
     "execution_count": 513,
     "metadata": {},
     "output_type": "execute_result"
    }
   ],
   "source": [
    "tree.toTuple()"
   ]
  },
  {
   "cell_type": "code",
   "execution_count": null,
   "id": "9af75128",
   "metadata": {},
   "outputs": [],
   "source": []
  },
  {
   "cell_type": "code",
   "execution_count": null,
   "id": "2f55e6fa",
   "metadata": {},
   "outputs": [],
   "source": []
  },
  {
   "cell_type": "markdown",
   "id": "fe6cfba5",
   "metadata": {},
   "source": [
    "## Binary Search Tree (BST)\n",
    "\n",
    "A binary search tree or BST is a binary tree that satisfies the following conditions:\n",
    "\n",
    "1. The left subtree of any node only contains nodes with keys less than the node's key\n",
    "2. The right subtree of any node only contains nodes with keys greater than the node's key\n",
    "\n",
    "It follows from the above conditions that every subtree of a binary search tree must also be a binary search tree.\n",
    "\n",
    "\n",
    "> **QUESTION 8**: Write a function to check if a binary tree is a binary search tree (BST).\n",
    "\n",
    "> **QUESTION 9**: Write a function to find the maximum key in a binary tree.\n",
    "\n",
    "> **QUESTION 10**: Write a function to find the minimum key in a binary tree.\n",
    "\n",
    "\n",
    "Here's a function that covers all of the above:"
   ]
  },
  {
   "cell_type": "markdown",
   "id": "20d248ea",
   "metadata": {},
   "source": [
    " __Check__\n",
    " * https://gist.github.com/syphh/ac6ef1403d8ba41bb6ae880cb08fd3fa"
   ]
  },
  {
   "cell_type": "code",
   "execution_count": 514,
   "id": "674e3372",
   "metadata": {},
   "outputs": [],
   "source": [
    "def remove_none(nums):\n",
    "    return [x for x in nums if x is not None]\n",
    "\n",
    "def is_bst(node):\n",
    "\n",
    "    \n",
    "    if node is None:\n",
    "        return True, None, None\n",
    "    \n",
    "\n",
    "    is_bst_l, min_l, max_l = is_bst(node.left)\n",
    "    is_bst_r, min_r, max_r = is_bst(node.right)\n",
    "    \n",
    "    is_bst_node = (is_bst_l and is_bst_r and \n",
    "              (max_l is None or node.key > max_l) and \n",
    "              (min_r is None or node.key < min_r))\n",
    "    \n",
    "    min_key = min(remove_none([min_l, node.key, min_r]))\n",
    "    max_key = max(remove_none([max_l, node.key, max_r]))\n",
    "    \n",
    "#     print(min_key, node.key, max_key, is_bst_node)\n",
    "        \n",
    "    return is_bst_node, min_key, max_key"
   ]
  },
  {
   "cell_type": "code",
   "execution_count": 515,
   "id": "0418b3f2",
   "metadata": {},
   "outputs": [],
   "source": [
    "def check_bst(root, minVal=float('-inf'), maxVal=float('inf')):\n",
    "    print(maxVal)\n",
    "    if root is None:\n",
    "        return True\n",
    "    \n",
    "    # less than or equal to for dublicate\n",
    "    if root.key <= minVal or root.key >= maxVal:\n",
    "        return False\n",
    "    \n",
    "    return check_bst(root.left, minVal, root.key) and check_bst(root.right, root.key, maxVal)"
   ]
  },
  {
   "cell_type": "code",
   "execution_count": 516,
   "id": "ecea7dd2",
   "metadata": {},
   "outputs": [
    {
     "name": "stdout",
     "output_type": "stream",
     "text": [
      "inf\n",
      "2\n"
     ]
    },
    {
     "data": {
      "text/plain": [
       "False"
      ]
     },
     "execution_count": 516,
     "metadata": {},
     "output_type": "execute_result"
    }
   ],
   "source": [
    "check_bst(tree)"
   ]
  },
  {
   "cell_type": "markdown",
   "id": "a8c46a20",
   "metadata": {},
   "source": [
    "The following tree is not a BST (because a node with the key 3 appears in the left subtree of a node with the key 2):\n",
    "\n",
    "<img src=\"https://i.imgur.com/d7djJAf.png\" width=\"540\">\n",
    "\n",
    "Let's verify this using `is_bst`."
   ]
  },
  {
   "cell_type": "code",
   "execution_count": 517,
   "id": "f4f64666",
   "metadata": {},
   "outputs": [
    {
     "data": {
      "text/plain": [
       "(False, 1, 8)"
      ]
     },
     "execution_count": 517,
     "metadata": {},
     "output_type": "execute_result"
    }
   ],
   "source": [
    "tree = TreeNode.parseTuple(((1, 3, None), 2, ((None, 3, 4), 5, (6, 7, 8))))\n",
    "is_bst(tree)"
   ]
  },
  {
   "cell_type": "markdown",
   "id": "78eaf640",
   "metadata": {},
   "source": [
    "On the other hand, the following tree is a BST:\n",
    "\n",
    "<img src=\"https://i.imgur.com/JZeF9ix.png\" width=\"520\">\n",
    "\n",
    "Let's create this tree and verify that it is a BST. Note that the `TreeNode` class also supports using strings as keys, as strings support the comparison operators `<` and `>` too."
   ]
  },
  {
   "cell_type": "code",
   "execution_count": 518,
   "id": "b7bfa1c5",
   "metadata": {},
   "outputs": [],
   "source": [
    "tree2 = TreeNode.parseTuple((('aakash', 'biraj', 'hemanth')  , 'jadhesh', ('siddhant', 'sonaksh', 'vishal')))"
   ]
  },
  {
   "cell_type": "code",
   "execution_count": 519,
   "id": "ee608b04",
   "metadata": {},
   "outputs": [
    {
     "data": {
      "text/plain": [
       "(True, 'aakash', 'vishal')"
      ]
     },
     "execution_count": 519,
     "metadata": {},
     "output_type": "execute_result"
    }
   ],
   "source": [
    "is_bst(tree2)"
   ]
  },
  {
   "cell_type": "code",
   "execution_count": null,
   "id": "cc7043ca",
   "metadata": {},
   "outputs": [],
   "source": []
  },
  {
   "cell_type": "markdown",
   "id": "265c9ecb",
   "metadata": {},
   "source": [
    "## Storing Key-Value Pairs using BSTs\n",
    "\n",
    "Recall that we need to store user objects with each key in our BST. Let's define new class `BSTNode` to represent the nodes of of our tree. Apart from having properties `key`, `left` and `right`, we'll also store a `value` and pointer to the parent node (for easier upward traversal)."
   ]
  },
  {
   "cell_type": "code",
   "execution_count": 547,
   "id": "bc200e9c",
   "metadata": {},
   "outputs": [],
   "source": [
    "class BSTNode():\n",
    "    def __init__(self, key, value=None):\n",
    "        self.key = key\n",
    "        self.value = value\n",
    "        self.left = None\n",
    "        self.right = None\n",
    "        self.parent = None"
   ]
  },
  {
   "cell_type": "markdown",
   "id": "13fa2470",
   "metadata": {},
   "source": [
    "Let's try to recreate this BST with usernames as keys and user objects as values:\n",
    "\n",
    "<img src=\"https://i.imgur.com/JZeF9ix.png\" width=\"520\">"
   ]
  },
  {
   "cell_type": "code",
   "execution_count": 521,
   "id": "3971345e",
   "metadata": {},
   "outputs": [],
   "source": [
    "root = BSTNode(jadhesh.username, jadhesh)"
   ]
  },
  {
   "cell_type": "code",
   "execution_count": 522,
   "id": "d526969a",
   "metadata": {},
   "outputs": [],
   "source": [
    "node1 = BSTNode(biraj.username, biraj)\n",
    "node2 = BSTNode(sonaksh.username, sonaksh)\n",
    "node3 = BSTNode(aakash.username, aakash)\n",
    "node4 = BSTNode(hemanth.username, hemanth)\n",
    "node5 = BSTNode(siddhant.username, siddhant)\n",
    "node6 = BSTNode(vishal.username, vishal)"
   ]
  },
  {
   "cell_type": "code",
   "execution_count": 523,
   "id": "e77436be",
   "metadata": {},
   "outputs": [],
   "source": [
    "root.left = node1\n",
    "root.right = node2"
   ]
  },
  {
   "cell_type": "code",
   "execution_count": 524,
   "id": "948681c4",
   "metadata": {},
   "outputs": [],
   "source": [
    "root.left.left = node3\n",
    "root.left.right = node4\n",
    "\n",
    "\n",
    "root.right.left = node5\n",
    "root.right.right = node6"
   ]
  },
  {
   "cell_type": "code",
   "execution_count": 525,
   "id": "eddada54",
   "metadata": {},
   "outputs": [
    {
     "data": {
      "text/plain": [
       "('Jadhesh Verma',\n",
       " User(username=Jadhesh Verma, name=jadhesh, email=jadhesh@example.com))"
      ]
     },
     "execution_count": 525,
     "metadata": {},
     "output_type": "execute_result"
    }
   ],
   "source": [
    "# level 0\n",
    "root.key, root.value"
   ]
  },
  {
   "cell_type": "code",
   "execution_count": 526,
   "id": "f3265653",
   "metadata": {},
   "outputs": [
    {
     "data": {
      "text/plain": [
       "('Biraj Das',\n",
       " User(username=Biraj Das, name=biraj, email=biraj@example.com),\n",
       " 'Sonaksh Kumar',\n",
       " User(username=Sonaksh Kumar, name=sonaksh, email=sonaksh@example.com))"
      ]
     },
     "execution_count": 526,
     "metadata": {},
     "output_type": "execute_result"
    }
   ],
   "source": [
    "# level 1\n",
    "(root.left.key, root.left.value, root.right.key, root.right.value)"
   ]
  },
  {
   "cell_type": "code",
   "execution_count": 527,
   "id": "0f868492",
   "metadata": {},
   "outputs": [
    {
     "data": {
      "text/plain": [
       "('Aakash Rai',\n",
       " User(username=Aakash Rai, name=aakash, email=aakash@example.com),\n",
       " 'Hemanth Jain',\n",
       " User(username=Hemanth Jain, name=hemanth, email=hemanth@example.com),\n",
       " 'Siddhant Sinha',\n",
       " User(username=Hemanth Jain, name=hemanth, email=hemanth@example.com),\n",
       " 'Vishal Goel',\n",
       " User(username=Vishal Goel, name=vishal, email=vishal@example.com))"
      ]
     },
     "execution_count": 527,
     "metadata": {},
     "output_type": "execute_result"
    }
   ],
   "source": [
    "# level 2\n",
    "(root.left.left.key, root.left.left.value, root.left.right.key, root.left.right.value,\n",
    "root.right.left.key, root.left.right.value, root.right.right.key, root.right.right.value,)"
   ]
  },
  {
   "cell_type": "markdown",
   "id": "ffe4da60",
   "metadata": {},
   "source": [
    "We can use the same `displayKeys` function we defined earlier to visualize our tree."
   ]
  },
  {
   "cell_type": "code",
   "execution_count": 528,
   "id": "fd2588ef",
   "metadata": {},
   "outputs": [
    {
     "name": "stdout",
     "output_type": "stream",
     "text": [
      "                                        Vishal Goel\n",
      "                    Sonaksh Kumar\n",
      "                                        Siddhant Sinha\n",
      "Jadhesh Verma\n",
      "                                        Hemanth Jain\n",
      "                    Biraj Das\n",
      "                                        Aakash Rai\n"
     ]
    }
   ],
   "source": [
    "displayKeys(root, '                    ')"
   ]
  },
  {
   "cell_type": "markdown",
   "id": "30985d0e",
   "metadata": {},
   "source": [
    "### Insertion into BST\n",
    "\n",
    "\n",
    "> **QUESTION 11**: Write a function to insert a new node into a BST.\n",
    "\n",
    "\n",
    "We use the BST-property to perform insertion efficiently: \n",
    "\n",
    "1. Starting from the root node, we compare the key to be inserted with the current node's key\n",
    "2. If the key is smaller, we recursively insert it in the left subtree (if it exists) or attach it as as the left child if no left subtree exists.\n",
    "3. If the key is larger, we recursively insert it in the right subtree (if it exists) or attach it as as the right child if no right subtree exists.\n",
    "\n",
    "Here's a recursive implementation of `insert`."
   ]
  },
  {
   "cell_type": "code",
   "execution_count": 548,
   "id": "f9220dd8",
   "metadata": {},
   "outputs": [],
   "source": [
    "def insert(node, key, value):\n",
    "    if node is None:\n",
    "        node = BSTNode(key, value)\n",
    "        \n",
    "    if key < node.key:\n",
    "        node.left = insert(node.left, key, value)\n",
    "        node.left.parent = node\n",
    "        \n",
    "    if key > node.key:\n",
    "        node.right = insert(node.right, key, value)\n",
    "        node.right.parent = node\n",
    "        \n",
    "    return node "
   ]
  },
  {
   "cell_type": "markdown",
   "id": "502087e8",
   "metadata": {},
   "source": [
    "Let's use this to recreate our tree.\n",
    "\n",
    "<img src=\"https://i.imgur.com/JZeF9ix.png\" width=\"520\">\n",
    "\n",
    "To create the first node, we can use the `insert` function with `None` as the target tree."
   ]
  },
  {
   "cell_type": "code",
   "execution_count": 549,
   "id": "df77b588",
   "metadata": {},
   "outputs": [],
   "source": [
    "root = insert(None, jadhesh.username, jadhesh)"
   ]
  },
  {
   "cell_type": "code",
   "execution_count": 550,
   "id": "63f37f1c",
   "metadata": {},
   "outputs": [
    {
     "data": {
      "text/plain": [
       "<__main__.BSTNode at 0x7fd87a043ee0>"
      ]
     },
     "execution_count": 550,
     "metadata": {},
     "output_type": "execute_result"
    }
   ],
   "source": [
    "insert(root, biraj.username, biraj)\n",
    "insert(root, sonaksh.username, sonaksh)\n",
    "insert(root, aakash.username, aakash)\n",
    "insert(root, hemanth.username, hemanth)\n",
    "insert(root, siddhant.username, siddhant)\n",
    "insert(root, vishal.username, siddhant)"
   ]
  },
  {
   "cell_type": "code",
   "execution_count": 551,
   "id": "a5627a5e",
   "metadata": {},
   "outputs": [
    {
     "name": "stdout",
     "output_type": "stream",
     "text": [
      "                          Vishal Goel\n",
      "             Sonaksh Kumar\n",
      "                          Siddhant Sinha\n",
      "Jadhesh Verma\n",
      "                          Hemanth Jain\n",
      "             Biraj Das\n",
      "                          Aakash Rai\n"
     ]
    }
   ],
   "source": [
    "displayKeys(root, '             ')"
   ]
  },
  {
   "cell_type": "markdown",
   "id": "f61d981e",
   "metadata": {},
   "source": [
    "Perfect! The tree was created as expected. \n",
    "\n",
    "Note, however, that the order of insertion of nodes change the structure of the resulting tree."
   ]
  },
  {
   "cell_type": "code",
   "execution_count": 533,
   "id": "41d6e558",
   "metadata": {},
   "outputs": [
    {
     "data": {
      "text/plain": [
       "<__main__.BSTNode at 0x7fd87a388460>"
      ]
     },
     "execution_count": 533,
     "metadata": {},
     "output_type": "execute_result"
    }
   ],
   "source": [
    "root = insert(None, aakash.username, aakash)\n",
    "insert(root, biraj.username, biraj)\n",
    "insert(root, hemanth.username, hemanth)\n",
    "insert(root, jadhesh.username, jadhesh)\n",
    "insert(root, siddhant.username, siddhant)\n",
    "insert(root, sonaksh.username, sonaksh)\n",
    "insert(root, vishal.username, vishal)"
   ]
  },
  {
   "cell_type": "code",
   "execution_count": 534,
   "id": "45113d00",
   "metadata": {},
   "outputs": [
    {
     "name": "stdout",
     "output_type": "stream",
     "text": [
      "            Vishal Goel\n",
      "          Sonaksh Kumar\n",
      "            ∅\n",
      "        Siddhant Sinha\n",
      "          ∅\n",
      "      Jadhesh Verma\n",
      "        ∅\n",
      "    Hemanth Jain\n",
      "      ∅\n",
      "  Biraj Das\n",
      "    ∅\n",
      "Aakash Rai\n",
      "  ∅\n"
     ]
    }
   ],
   "source": [
    "displayKeys(root, '  ')"
   ]
  },
  {
   "cell_type": "markdown",
   "id": "4f1eb59d",
   "metadata": {},
   "source": [
    "Can you see why the tree created above is skewed/unbalanced?\n",
    "\n",
    "<img src=\"https://i.imgur.com/lP5Thct.png\" width=\"520\">\n",
    "\n",
    "Skewed/unbalanced BSTs are problematic because the height of such trees often ceases to logarithmic compared to the number of nodes in the tree. For instance the above tree has 7 nodes and height 7.\n",
    "\n",
    "The length of the path traversed by `insert` is equal to the height of the tree (in the worst case). It follows that if the tree is balanced, the time complexity of insertion is `O(log N)` otherwise it is `O(N)`."
   ]
  },
  {
   "cell_type": "code",
   "execution_count": 535,
   "id": "110e7e2e",
   "metadata": {},
   "outputs": [
    {
     "data": {
      "text/plain": [
       "6"
      ]
     },
     "execution_count": 535,
     "metadata": {},
     "output_type": "execute_result"
    }
   ],
   "source": [
    "treeHeight(root)"
   ]
  },
  {
   "cell_type": "markdown",
   "id": "402c0e21",
   "metadata": {},
   "source": [
    "### Finding a Node in BST\n",
    "\n",
    "> **QUESTION 11**: Find the value associated with a given key in a BST.\n",
    "\n",
    "We can follow a recursive strategy similar to insertion to find the node with a given key within a BST."
   ]
  },
  {
   "cell_type": "code",
   "execution_count": 564,
   "id": "6fdf481f",
   "metadata": {},
   "outputs": [],
   "source": [
    "def find(node, key):\n",
    "    if not node:\n",
    "        return False\n",
    "    \n",
    "    if key == node.key:\n",
    "        return node\n",
    "    \n",
    "    if key < node.key:\n",
    "        return find(node.left, key)\n",
    "    \n",
    "    if key > node.key:\n",
    "        return find(node.right, key)\n",
    "    "
   ]
  },
  {
   "cell_type": "code",
   "execution_count": 570,
   "id": "1dfefa91",
   "metadata": {},
   "outputs": [],
   "source": [
    "node = find(root, 'Siddhant Sinha')"
   ]
  },
  {
   "cell_type": "code",
   "execution_count": 571,
   "id": "9322ac9d",
   "metadata": {},
   "outputs": [
    {
     "data": {
      "text/plain": [
       "('Siddhant Sinha',\n",
       " User(username=Siddhant Sinha, name=siddhant, email=siddhant@example.com))"
      ]
     },
     "execution_count": 571,
     "metadata": {},
     "output_type": "execute_result"
    }
   ],
   "source": [
    "node.key, node.value"
   ]
  },
  {
   "cell_type": "markdown",
   "id": "605b548d",
   "metadata": {},
   "source": [
    "The the length of the path followed by `find` is equal to the height of the tree (in the worst case). Thus it has a similar time complexity as `insert`.\n",
    "\n",
    "**Example:** Try finding some more nodes from the BST created above (or create new trees)."
   ]
  },
  {
   "cell_type": "code",
   "execution_count": null,
   "id": "20bf2da3",
   "metadata": {},
   "outputs": [],
   "source": []
  },
  {
   "cell_type": "markdown",
   "id": "30da089d",
   "metadata": {},
   "source": [
    "### Updating a value in a BST\n",
    "\n",
    "> **QUESTION 12:** Write a function to update the value associated with a given key within a BST\n",
    "\n",
    "We can use `find` to locate the node to be updated, and simply update it's value."
   ]
  },
  {
   "cell_type": "code",
   "execution_count": null,
   "id": "a39534fe",
   "metadata": {},
   "outputs": [],
   "source": [
    "def update(node, key, value):\n",
    "    target = find(node, key)\n",
    "    if target is not None:\n",
    "        taget.value = value"
   ]
  },
  {
   "cell_type": "code",
   "execution_count": null,
   "id": "8af02e12",
   "metadata": {},
   "outputs": [],
   "source": [
    "update(tree, 'hemanth', User('hemanth', 'Hemanth J', 'hemanthj@example.com'))"
   ]
  },
  {
   "cell_type": "code",
   "execution_count": null,
   "id": "eb75a394",
   "metadata": {},
   "outputs": [],
   "source": [
    "node = find(root, 'hemanth')"
   ]
  },
  {
   "cell_type": "markdown",
   "id": "09b2d8a4",
   "metadata": {},
   "source": [
    "### List the nodes\n",
    "\n",
    "> **QUESTION 13:** Write a function to retrieve all the key-values pairs stored in a BST in the sorted order of keys.\n",
    "\n",
    "The nodes can be listed in sorted order by performing an inorder traversal of the BST."
   ]
  },
  {
   "cell_type": "code",
   "execution_count": null,
   "id": "3772e4e2",
   "metadata": {},
   "outputs": [],
   "source": [
    "def listAll(node):\n",
    "    if node is None:\n",
    "        return []\n",
    "    return listAll(node.left) + [(node.key, node.value)] + listAll(node.right)"
   ]
  },
  {
   "cell_type": "code",
   "execution_count": null,
   "id": "d9f4fe17",
   "metadata": {},
   "outputs": [],
   "source": [
    "listAll(root)"
   ]
  },
  {
   "cell_type": "code",
   "execution_count": null,
   "id": "01114fba",
   "metadata": {},
   "outputs": [],
   "source": []
  },
  {
   "cell_type": "markdown",
   "id": "ecea6275",
   "metadata": {},
   "source": [
    "## Balanced Binary Trees\n",
    "\n",
    "> **QUESTION 14**: Write a function to determine if a binary tree is balanced.\n",
    "\n",
    "Here's a recursive strategy:\n",
    "\n",
    "1. Ensure that the left subtree is balanced.\n",
    "2. Ensure that the right subtree is balanced.\n",
    "3. Ensure that the difference between heights of left subtree and right subtree is not more than 1.\n"
   ]
  },
  {
   "cell_type": "code",
   "execution_count": null,
   "id": "a8d1c126",
   "metadata": {},
   "outputs": [],
   "source": [
    "def isBalanced(node):\n",
    "    if node is None:\n",
    "        return True, 0\n",
    "    \n",
    "    balanced_l, height_l = is_balanced(node.left)\n",
    "    balanced_r, height_r = is_balanced(node.right)\n",
    "    \n",
    "    balanced = balanced_l and balanced_r and abs(height_l - height_r) <=1\n",
    "    height = 1 + max(height_l, height_r)\n",
    "    return balanced, height"
   ]
  },
  {
   "cell_type": "markdown",
   "id": "5ac9d042",
   "metadata": {},
   "source": [
    "The following tree is balanced:\n",
    "\n",
    "<img src=\"https://i.imgur.com/JZeF9ix.png\" width=\"520\">"
   ]
  },
  {
   "cell_type": "code",
   "execution_count": null,
   "id": "60618a78",
   "metadata": {},
   "outputs": [],
   "source": [
    "isBalanced(root)"
   ]
  },
  {
   "cell_type": "markdown",
   "id": "ce62b666",
   "metadata": {},
   "source": [
    "The following tree is not balanced:\n",
    "\n",
    "<img src=\"https://i.imgur.com/lP5Thct.png\" width=\"520\">"
   ]
  },
  {
   "cell_type": "markdown",
   "id": "f4e2b864",
   "metadata": {},
   "source": [
    "Also try this related problem on *complete* binary trees: https://leetcode.com/problems/check-completeness-of-a-binary-tree/\n"
   ]
  },
  {
   "cell_type": "code",
   "execution_count": null,
   "id": "015f9c2e",
   "metadata": {},
   "outputs": [],
   "source": [
    "# Traverse the tree one level at a time, adding both children of each node to the queue as we go. Keep a count of how many non-null nodes are left in the queue. The first time we encounter a null node popped from the queue, if the counter shows nothing left, the tree is complete - otherwise not.\n",
    "\n",
    "def isCompleteTree(root):\n",
    "    count = 1 if root else 0\n",
    "    nodes = [root]\n",
    "    while nodes:\n",
    "        x = nodes.pop(0)\n",
    "        if not x:\n",
    "            return count == 0\n",
    "        count -= 1\n",
    "        print(count)\n",
    "        nodes += [x.left, x.right]\n",
    "        count = count + 1 if x.left else count\n",
    "        count = count + 1 if x.right else count    \n",
    "    return true"
   ]
  },
  {
   "cell_type": "markdown",
   "id": "b6a35a63",
   "metadata": {},
   "source": [
    "## Balanced Binary Search Trees\n",
    "\n",
    "> **QUESTION 15**: Write a function to create a balanced BST from a sorted list/array of key-value pairs.\n",
    "\n",
    "We can use a recursive strategy here, turning the middle element of the list into the root, and recursively creating left and right subtrees."
   ]
  },
  {
   "cell_type": "code",
   "execution_count": null,
   "id": "d5bc1605",
   "metadata": {},
   "outputs": [],
   "source": [
    "def makeBalancedBst(data, lo=0, hi=None, parent=None):\n",
    "    if hi is None:\n",
    "        hi = len(data) - 1\n",
    "    if lo > hi:\n",
    "        return None\n",
    "    \n",
    "    mid = (lo + hi) // 2\n",
    "    key, value = data[mid]\n",
    "\n",
    "    root = BSTNode(key, value)\n",
    "    root.parent = parent\n",
    "    root.left = makeBalancedBst(data, lo, mid-1, root)\n",
    "    root.right = makeBalancedBst(data, mid+1, hi, root)\n",
    "    \n",
    "    return root\n",
    "    "
   ]
  },
  {
   "cell_type": "code",
   "execution_count": null,
   "id": "b77b1647",
   "metadata": {},
   "outputs": [],
   "source": [
    "data = [(user.username, user) for user in users]\n",
    "data"
   ]
  },
  {
   "cell_type": "code",
   "execution_count": null,
   "id": "b074dedb",
   "metadata": {},
   "outputs": [],
   "source": [
    "tree = makeBalancedBst(data)"
   ]
  },
  {
   "cell_type": "code",
   "execution_count": null,
   "id": "36569d9f",
   "metadata": {},
   "outputs": [],
   "source": [
    "displayKeys(tree, '        ')"
   ]
  },
  {
   "cell_type": "markdown",
   "id": "d851f265",
   "metadata": {},
   "source": [
    "<img src=\"https://i.imgur.com/JZeF9ix.png\" width=\"520\">\n",
    "\n",
    "Recall that the same list of users, when inserted one-by-one resulted in a skewed tree."
   ]
  },
  {
   "cell_type": "code",
   "execution_count": null,
   "id": "fe16aa4f",
   "metadata": {},
   "outputs": [],
   "source": []
  },
  {
   "cell_type": "code",
   "execution_count": null,
   "id": "6ca8758c",
   "metadata": {},
   "outputs": [],
   "source": []
  },
  {
   "cell_type": "markdown",
   "id": "27011083",
   "metadata": {},
   "source": [
    "## Balancing an Unbalanced BST\n",
    "\n",
    "> **QUESTION 16:** Write a function to balance an unbalanced binary search tree.\n",
    "\n",
    "We first perform an inorder traversal, then create a balanced BST using the function defined earlier."
   ]
  },
  {
   "cell_type": "code",
   "execution_count": null,
   "id": "cab0434c",
   "metadata": {},
   "outputs": [],
   "source": [
    "def balanceBst(node):\n",
    "    return makeBalancedBst(listAll(node))"
   ]
  },
  {
   "cell_type": "code",
   "execution_count": null,
   "id": "aa8daa1c",
   "metadata": {},
   "outputs": [],
   "source": [
    "tree = None \n",
    "\n",
    "for user in users:\n",
    "    tree = insert(tree, user.username, user)"
   ]
  },
  {
   "cell_type": "code",
   "execution_count": null,
   "id": "535733e8",
   "metadata": {},
   "outputs": [],
   "source": [
    "displayKeys(tree)"
   ]
  },
  {
   "cell_type": "code",
   "execution_count": null,
   "id": "126bbb04",
   "metadata": {},
   "outputs": [],
   "source": [
    "tree1 = balanceBst(tree)"
   ]
  },
  {
   "cell_type": "code",
   "execution_count": null,
   "id": "97ccd062",
   "metadata": {},
   "outputs": [],
   "source": [
    "displayKeys(tree1)"
   ]
  },
  {
   "cell_type": "markdown",
   "id": "56f2b9e4",
   "metadata": {},
   "source": [
    "After every insertion, we can balance the tree. This way the tree will remain balanced.\n",
    "\n",
    "Complexity of the various operations in a balanced BST:\n",
    "\n",
    "* Insert - O(log N) + O(N) = O(N)\n",
    "* Find - O(log N)\n",
    "* Update - O(log N)\n",
    "* List all - O(N)\n",
    "\n",
    "What's the real improvement between O(N) and O(log N)? "
   ]
  },
  {
   "cell_type": "code",
   "execution_count": null,
   "id": "2e325883",
   "metadata": {},
   "outputs": [],
   "source": [
    "import math\n",
    "\n",
    "math.log(100000000, 2)"
   ]
  },
  {
   "cell_type": "markdown",
   "id": "d9fb74b6",
   "metadata": {},
   "source": [
    "The logarithm (base 2) of 100 million is around 26. Thus, it takes only 26 operations to find or update a node within a BST (as opposed to 100 million)."
   ]
  },
  {
   "cell_type": "code",
   "execution_count": null,
   "id": "51c496fc",
   "metadata": {},
   "outputs": [],
   "source": [
    "%%time\n",
    "for i in range(26):\n",
    "    j = i*i"
   ]
  },
  {
   "cell_type": "markdown",
   "id": "22ef6334",
   "metadata": {},
   "source": [
    "Thus, find and update from a balanced binary search tree is 300,000 times faster than our original solution. To speed up insertions, we may choose to perform the balancing periodically (e.g. once every 1000 insertions). This way, most insertions will be O (log N), but every 1000th insertion will take a few seconds. Another options is to rebalance the tree periodically at the end of every hour."
   ]
  },
  {
   "cell_type": "markdown",
   "id": "6b87e92d",
   "metadata": {},
   "source": [
    "## A Python-Friendly Treemap \n",
    "\n",
    "We are now ready to return to our original problem statement.\n",
    "\n",
    "> **QUESTION 1**: As a senior backend engineer at Jovian, you are tasked with developing a fast in-memory data structure to manage profile information (username, name and email) for 100 million users. It should allow the following operations to be performed efficiently:\n",
    "> \n",
    "> 1. **Insert** the profile information for a new user.\n",
    "> 2. **Find** the profile information of a user, given their username\n",
    "> 3. **Update** the profile information of a user, given their usrname\n",
    "> 5. **List** all the users of the platform, sorted by username\n",
    ">\n",
    "> You can assume that usernames are unique. \n",
    "\n",
    "\n",
    "\n",
    "We can create a generic class `TreeMap` which supports all the operations specified in the original problem statement in a python-friendly manner."
   ]
  },
  {
   "cell_type": "code",
   "execution_count": null,
   "id": "721ba35a",
   "metadata": {},
   "outputs": [],
   "source": [
    "class TreeMap():\n",
    "    def __init__(self):\n",
    "        self.root = None\n",
    "        \n",
    "    def __setitem__(self, key, value):\n",
    "        node = find(self.root, key)\n",
    "        if not node:\n",
    "            self.root = insert(self.root, key, value)\n",
    "            self.root = balanceBst(self.root)\n",
    "        else:\n",
    "            update(self.root, key, value)\n",
    "            \n",
    "        \n",
    "    def __getitem__(self, key):\n",
    "        node = find(self.root, key)\n",
    "        return node.value if node else None\n",
    "    \n",
    "    def __iter__(self):\n",
    "        return (x for x in listAll(self.root))\n",
    "    \n",
    "    def __len__(self):\n",
    "        return treeSize(self.root)\n",
    "    \n",
    "    def display(self):\n",
    "        return displayKeys(self.root)"
   ]
  },
  {
   "cell_type": "code",
   "execution_count": null,
   "id": "ae9fa77e",
   "metadata": {},
   "outputs": [],
   "source": [
    "treemap = TreeMap()"
   ]
  },
  {
   "cell_type": "code",
   "execution_count": null,
   "id": "2a2b63e2",
   "metadata": {},
   "outputs": [],
   "source": [
    "treemap.display()"
   ]
  },
  {
   "cell_type": "code",
   "execution_count": null,
   "id": "52780a50",
   "metadata": {},
   "outputs": [],
   "source": [
    "treemap['aakash'] = aakash\n",
    "treemap['jadhesh'] = jadhesh\n",
    "treemap['sonaksh'] = sonaksh"
   ]
  },
  {
   "cell_type": "code",
   "execution_count": null,
   "id": "71b2c061",
   "metadata": {},
   "outputs": [],
   "source": [
    "treemap.display()"
   ]
  },
  {
   "cell_type": "code",
   "execution_count": null,
   "id": "9274bfb5",
   "metadata": {},
   "outputs": [],
   "source": [
    "treemap['jadhesh']"
   ]
  },
  {
   "cell_type": "code",
   "execution_count": null,
   "id": "5c78cd1d",
   "metadata": {},
   "outputs": [],
   "source": [
    "len(treemap)"
   ]
  },
  {
   "cell_type": "code",
   "execution_count": null,
   "id": "fa340a8a",
   "metadata": {},
   "outputs": [],
   "source": [
    "treemap['biraj'] = biraj\n",
    "treemap['hemanth'] = hemanth\n",
    "treemap['siddhant'] = siddhant\n",
    "treemap['vishal'] = vishal"
   ]
  },
  {
   "cell_type": "code",
   "execution_count": null,
   "id": "5989517f",
   "metadata": {},
   "outputs": [],
   "source": [
    "treemap.display()"
   ]
  },
  {
   "cell_type": "code",
   "execution_count": null,
   "id": "a2b5d96f",
   "metadata": {},
   "outputs": [],
   "source": [
    "for key, value in treemap:\n",
    "    print(key, value)"
   ]
  },
  {
   "cell_type": "code",
   "execution_count": null,
   "id": "07362587",
   "metadata": {},
   "outputs": [],
   "source": [
    "list(treemap)"
   ]
  },
  {
   "cell_type": "code",
   "execution_count": null,
   "id": "7832281f",
   "metadata": {},
   "outputs": [],
   "source": [
    "treemap['aakash'] = User(username='aakash', name='Aakash N S', email='aakashns@example.com')"
   ]
  },
  {
   "cell_type": "code",
   "execution_count": null,
   "id": "08173a20",
   "metadata": {},
   "outputs": [],
   "source": []
  },
  {
   "cell_type": "code",
   "execution_count": null,
   "id": "91012885",
   "metadata": {},
   "outputs": [],
   "source": []
  },
  {
   "cell_type": "code",
   "execution_count": null,
   "id": "6419bf62",
   "metadata": {},
   "outputs": [],
   "source": []
  },
  {
   "cell_type": "markdown",
   "id": "e2ddf116",
   "metadata": {},
   "source": [
    "## Self-Balancing Binary Trees and AVL Trees\n",
    "\n",
    "A *self-balancing binary tree* remains balanced after every insertion or deletion. Several decades of research has gone into creating self-balancing binary trees, and many approaches have been devised e.g. B-trees, Red Black Trees and  AVL (Adelson-Velsky Landis) trees.\n",
    "\n",
    "We'll take a brief look at AVL trees. Self-balancing in AVL trees is achieved by tracking the *balance factor* (difference between the height of the left subtree and the right subtree) for each node and *rotating* unbalanced subtrees along the path of insertion/deletion to balance them.\n",
    "\n",
    "![](https://upload.wikimedia.org/wikipedia/commons/f/fd/AVL_Tree_Example.gif)\n",
    "\n",
    "In a balanced BST, the balance factor of each node is either 0, -1, or 1. When we perform an insertion, then the balance factor of certain nodes along the path of insertion may change to 2 or -2. Those nodes can be \"rotated\" one-by-one to bring the balance factor back to 1, 0 or -1. \n",
    "\n",
    "There are 4 different scenarios for balancing, two of which require a single rotation, while the others require 2 rotations:\n",
    "\n",
    "\n",
    "![](https://s3.amazonaws.com/hr-challenge-images/0/1436854305-b167cc766c-AVL_Tree_Rebalancing.svg.png)\n",
    "\n",
    "Source: [HackerRank](https://www.hackerrank.com/challenges/self-balancing-tree/problem)\n",
    "\n",
    "Since each rotation takes constant time, and at most `log N` rotations may be required, this operation is far more efficient than creating a balanced binary tree from scratch, allowing insertion and deletion to be performed in `O (log N)` time. Here are some references for AVL Trees:\n",
    "\n",
    "* Explanation of the various cases: https://youtu.be/jDM6_TnYIqE?t=482\n",
    "* Implementation: https://www.geeksforgeeks.org/avl-tree-set-1-insertion/"
   ]
  },
  {
   "cell_type": "markdown",
   "id": "a293250a",
   "metadata": {},
   "source": [
    "## Summary and Exercises\n",
    "\n",
    "![](https://i.imgur.com/lVqP63n.png)\n",
    "\n",
    "Binary trees form the basis of many modern programming language features (e.g. maps in C++ and Java) and data storage systems (filesystem indexes, relational databases like MySQL). You might wonder if dictionaries in Python are also binary search trees. They're not. They're hash tables, which is a different but equally interesting and important data structure. We'll explore hash tables in a future tutorial.\n",
    "\n",
    "\n",
    "\n",
    "\n",
    "\n",
    "\n",
    "We've covered a lot of ground this in this tutorial, including several common interview questions. Here are a few more problems you can try out:\n",
    "\n",
    "1. Implement rotations and self-balancing insertion\n",
    "1. Implement deletion of a node from a binary search tree\n",
    "2. Implement deletion of a node from a BST (with balancing)\n",
    "3. Find the lowest common ancestor of two nodes in a tree (Hint: Use the `parent` property)\n",
    "4. Find the next node in lexicographic order for a given node\n",
    "5. Given a number k, find the k-th node in a BST.\n",
    "\n",
    "Try more questions here: \n",
    "\n",
    "* https://medium.com/techie-delight/binary-tree-interview-questions-and-practice-problems-439df7e5ea1f\n",
    "* https://leetcode.com/tag/tree/\n"
   ]
  },
  {
   "cell_type": "code",
   "execution_count": null,
   "id": "bfb70543",
   "metadata": {},
   "outputs": [],
   "source": []
  },
  {
   "cell_type": "code",
   "execution_count": null,
   "id": "6e7e6937",
   "metadata": {},
   "outputs": [],
   "source": []
  }
 ],
 "metadata": {
  "kernelspec": {
   "display_name": "Python 3 (ipykernel)",
   "language": "python",
   "name": "python3"
  },
  "language_info": {
   "codemirror_mode": {
    "name": "ipython",
    "version": 3
   },
   "file_extension": ".py",
   "mimetype": "text/x-python",
   "name": "python",
   "nbconvert_exporter": "python",
   "pygments_lexer": "ipython3",
   "version": "3.9.7"
  }
 },
 "nbformat": 4,
 "nbformat_minor": 5
}

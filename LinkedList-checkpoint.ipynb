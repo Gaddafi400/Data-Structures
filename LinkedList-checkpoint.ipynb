{
 "cells": [
  {
   "cell_type": "markdown",
   "id": "f3f48cd8",
   "metadata": {},
   "source": [
    "## Linked List\n",
    "\n",
    "A linked list is a _data structure_ used for storing a sequence of elements. It's data with some structure (the sequence).\n",
    "\n",
    "![](https://cdn.programiz.com/sites/tutorial2program/files/linked-list-concept_0.png)\n",
    "\n",
    "We'll implement linked lists which support the following operations:\n",
    "\n",
    "- Create a list with given elements\n",
    "- Display the elements in a list\n",
    "- Find the number of elements in a list\n",
    "- Retrieve the element at a given position\n",
    "- Add or remove element(s)\n",
    "- Remove at index\n",
    "- Reverse the list\n",
    "- Add at index\n",
    "- Add at the beginning\n",
    "- Sum all nodes"
   ]
  },
  {
   "cell_type": "code",
   "execution_count": 1,
   "id": "b75f9c91",
   "metadata": {},
   "outputs": [],
   "source": [
    "class Node:\n",
    "    def __init__(self, data=None, nextNode=None):\n",
    "        self.data = data\n",
    "        self.nextNode = nextNode\n",
    "    \n",
    "    def __repr__(self):\n",
    "        return f'{self.data} -> {self.nextNode}'\n",
    "    \n",
    "    def __str__(self):\n",
    "        return self.__repr__()"
   ]
  },
  {
   "cell_type": "code",
   "execution_count": null,
   "id": "43065c2e",
   "metadata": {},
   "outputs": [],
   "source": [
    "class LinkedList:\n",
    "    def __init__(self):\n",
    "        self.head = None\n",
    "\n",
    "    def __repr__(self):\n",
    "        return f'{self.head}'\n",
    "    def __str__(self):\n",
    "        return self.__repr__()"
   ]
  },
  {
   "cell_type": "code",
   "execution_count": null,
   "id": "d1790188",
   "metadata": {},
   "outputs": [],
   "source": [
    "list0 = LinkedList()"
   ]
  },
  {
   "cell_type": "code",
   "execution_count": null,
   "id": "7adc2710",
   "metadata": {},
   "outputs": [],
   "source": [
    "list0.head = Node(10)\n",
    "list0.head.nextNode = Node(9)"
   ]
  },
  {
   "cell_type": "code",
   "execution_count": null,
   "id": "36dbd1b5",
   "metadata": {},
   "outputs": [],
   "source": [
    "list0.head.data, list0.head.nextNode.data"
   ]
  },
  {
   "cell_type": "code",
   "execution_count": null,
   "id": "2e0ee724",
   "metadata": {},
   "outputs": [],
   "source": [
    "list0"
   ]
  },
  {
   "cell_type": "code",
   "execution_count": null,
   "id": "99f3613d",
   "metadata": {},
   "outputs": [],
   "source": []
  },
  {
   "cell_type": "code",
   "execution_count": 114,
   "id": "7989a8c0",
   "metadata": {},
   "outputs": [],
   "source": [
    "class LinkedList:\n",
    "    def __init__(self):\n",
    "        self.head = None\n",
    "        \n",
    "    def createNode(self, value):\n",
    "        if self.head is None:\n",
    "            self.head = Node(value)\n",
    "            \n",
    "            \n",
    "    def insertAtBeginnig(self, value):\n",
    "        if self.head is None:\n",
    "            self.head = Node(value, None)\n",
    "        self.head = Node(value, self.head)\n",
    "        \n",
    "    def insertAtIndex(self, index, value):\n",
    "        if index < 0 or index > self.getLength():\n",
    "                    raise Exception('List index does not exist or out of range')\n",
    "                \n",
    "        if index == 0:\n",
    "            return self.insertAtBeginnig(value)\n",
    "        \n",
    "        count = 0\n",
    "        currentNode = self.head\n",
    "        while currentNode is not None:\n",
    "            if count == index - 1:\n",
    "                node = Node(value, currentNode.nextNode) # snicking in btw the two element\n",
    "                currentNode.nextNode = node\n",
    "            currentNode = currentNode.nextNode\n",
    "            count += 1\n",
    "                 \n",
    "    def append(self, value):\n",
    "        if self.head is None:\n",
    "            self.createNode(value)\n",
    "        else:\n",
    "            currentNode = self.head\n",
    "            while currentNode.nextNode is not None:\n",
    "                currentNode = currentNode.nextNode\n",
    "            currentNode.nextNode = Node(value)\n",
    "     \n",
    "    \n",
    "    def display(self):\n",
    "        if self.head is None:\n",
    "            return \n",
    "        \n",
    "        currentNode = self.head\n",
    "        while currentNode is not None:\n",
    "            print(f'{currentNode.data} ->', end=' ')\n",
    "            currentNode = currentNode.nextNode\n",
    "        \n",
    "    def getLength(self):\n",
    "        if self.head is None:\n",
    "            return \n",
    "        \n",
    "        count = 0\n",
    "        currentNode = self.head\n",
    "        while currentNode is not None:\n",
    "            count += 1\n",
    "            currentNode = currentNode.nextNode\n",
    "        return count\n",
    "    \n",
    "    def find(self, index):\n",
    "        if self.head is None:\n",
    "            return \n",
    "        \n",
    "        currentNode = self.head\n",
    "        if index == 0:\n",
    "            return currentNode.data\n",
    "        count = 0\n",
    "        while currentNode is not None:\n",
    "            if count == index:\n",
    "                return currentNode.data\n",
    "            currentNode = currentNode.nextNode\n",
    "            count += 1\n",
    "        return None\n",
    "                \n",
    "    def removeValue(self, value):\n",
    "        \n",
    "        if self.head.data == value:\n",
    "            self.head = self.head.nextNode\n",
    "            \n",
    "        currentNode = self.head\n",
    "        while currentNode.nextNode is not None:\n",
    "            if currentNode.nextNode.data == value:\n",
    "                currentNode.nextNode = currentNode.nextNode.nextNode\n",
    "                break\n",
    "            currentNode = currentNode.nextNode\n",
    "            \n",
    "    \n",
    "    def removeByIndex(self, index):\n",
    "        if index < 0 or index > self.getLength():\n",
    "            raise Exception('List index does not exist or out of range')\n",
    "        \n",
    "        if index == 0:\n",
    "            self.head = self.head.nextNode\n",
    "            \n",
    "        count = 0\n",
    "        currentNode = self.head\n",
    "        while currentNode is not None:\n",
    "            if count == index -1:\n",
    "                currentNode.nextNode = currentNode.nextNode.nextNode\n",
    "                break\n",
    "            currentNode = currentNode.nextNode\n",
    "            count += 1\n",
    "            \n",
    "    def sumNode(self):\n",
    "        if self.head is None:\n",
    "            return\n",
    "        \n",
    "        total = 0\n",
    "        currentNode = self.head\n",
    "        while currentNode is not None:\n",
    "            total += currentNode.data\n",
    "            currentNode = currentNode.nextNode\n",
    "        return total\n",
    "            \n",
    "    def reverse(self):\n",
    "        if self.head is None:\n",
    "            return\n",
    "        \n",
    "        currentNode = self.head\n",
    "        prevNode = None \n",
    "        \n",
    "        while currentNode is not None:\n",
    "            holdNext = currentNode.nextNode\n",
    "            currentNode.nextNode = prevNode\n",
    "            \n",
    "            prevNode = currentNode\n",
    "            currentNode = holdNext\n",
    "            \n",
    "        self.head = prevNode\n",
    "\n",
    "\n",
    "    def __repr__(self):\n",
    "        return f'{self.head}'\n",
    "    \n",
    "    def __str__(self):\n",
    "        return self.__repr__()"
   ]
  },
  {
   "cell_type": "code",
   "execution_count": 110,
   "id": "11136afd",
   "metadata": {},
   "outputs": [],
   "source": [
    "list1 = LinkedList()"
   ]
  },
  {
   "cell_type": "code",
   "execution_count": 111,
   "id": "460efbec",
   "metadata": {},
   "outputs": [],
   "source": [
    "list1.append(11)\n",
    "list1.append(10)\n",
    "list1.append(9)\n",
    "list1.append(8)\n",
    "list1.append(7)\n",
    "list1.append(6)\n",
    "list1.append(5)"
   ]
  },
  {
   "cell_type": "code",
   "execution_count": 112,
   "id": "9a0d5da3",
   "metadata": {},
   "outputs": [],
   "source": [
    "list1.insertAtBeginnig(13)"
   ]
  },
  {
   "cell_type": "code",
   "execution_count": 113,
   "id": "118205d0",
   "metadata": {},
   "outputs": [
    {
     "data": {
      "text/plain": [
       "13 -> 11 -> 10 -> 9 -> 8 -> 7 -> 6 -> 5 -> None"
      ]
     },
     "execution_count": 113,
     "metadata": {},
     "output_type": "execute_result"
    }
   ],
   "source": [
    "list1"
   ]
  },
  {
   "cell_type": "code",
   "execution_count": 38,
   "id": "53128802",
   "metadata": {},
   "outputs": [],
   "source": [
    "def showElement(lst):\n",
    "    if lst.head is None:\n",
    "        return \n",
    "    else:\n",
    "        return lst.data + showElement(lst.nextNode)\n"
   ]
  },
  {
   "cell_type": "code",
   "execution_count": null,
   "id": "5830d828",
   "metadata": {},
   "outputs": [],
   "source": []
  },
  {
   "cell_type": "code",
   "execution_count": null,
   "id": "f144ac4c",
   "metadata": {},
   "outputs": [],
   "source": []
  },
  {
   "cell_type": "code",
   "execution_count": null,
   "id": "6770e167",
   "metadata": {},
   "outputs": [],
   "source": []
  },
  {
   "cell_type": "code",
   "execution_count": null,
   "id": "8ac6c23e",
   "metadata": {},
   "outputs": [],
   "source": []
  }
 ],
 "metadata": {
  "kernelspec": {
   "display_name": "Python 3 (ipykernel)",
   "language": "python",
   "name": "python3"
  },
  "language_info": {
   "codemirror_mode": {
    "name": "ipython",
    "version": 3
   },
   "file_extension": ".py",
   "mimetype": "text/x-python",
   "name": "python",
   "nbconvert_exporter": "python",
   "pygments_lexer": "ipython3",
   "version": "3.9.7"
  }
 },
 "nbformat": 4,
 "nbformat_minor": 5
}

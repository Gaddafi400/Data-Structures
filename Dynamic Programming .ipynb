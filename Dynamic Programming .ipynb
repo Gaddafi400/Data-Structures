{
 "cells": [
  {
   "cell_type": "markdown",
   "id": "bb7410bc",
   "metadata": {},
   "source": [
    "#### Solving fibbonaci seq using dynamic programming "
   ]
  },
  {
   "cell_type": "code",
   "execution_count": null,
   "id": "ce7c36bc",
   "metadata": {},
   "outputs": [],
   "source": [
    "def recursion(n):\n",
    "    \"\"\"recursion\"\"\"\n",
    "    if n <= 1:\n",
    "        return n\n",
    "    return recursion(n - 1) + recursion(n - 2)\n",
    "\n",
    "\n",
    "def memorisation(n, lookUp):\n",
    "    \"\"\"Memorisation\"\"\"\n",
    "    if n <= 1:\n",
    "        return n\n",
    "    if n in lookUp:\n",
    "        return lookUp[n]\n",
    "\n",
    "    fibonacci = memorisation(n - 1, lookUp) + memorisation(n - 2, lookUp)\n",
    "    lookUp[n] = fibonacci\n",
    "    return lookUp[n]\n",
    "\n",
    "\n",
    "def tabulation(n):\n",
    "    \"\"\"tabulation\"\"\"\n",
    "    table = [0] * (n + 1) # table Ui\n",
    "    table[0] = 0  # base case\n",
    "    table[1] = 1  # base case\n",
    "    for i in range(2, len(table)):\n",
    "        table[i] = table[i - 1] + table[i - 2]\n",
    "    return table[n]\n",
    "\n",
    "# optimise tabulation without using array to save space\n",
    "def optimiseTabulation(n):\n",
    "    \"\"\"tabulation\"\"\"\n",
    "    prev2 = 0\n",
    "    prev1 = 1\n",
    "    current = None\n",
    "    for i in range(2, n+1):\n",
    "        current = prev2 + prev1\n",
    "        prev2 = prev1\n",
    "        prev1 = current\n",
    "    return current"
   ]
  },
  {
   "cell_type": "code",
   "execution_count": 129,
   "id": "2f160e01",
   "metadata": {},
   "outputs": [],
   "source": [
    "n = 10\n",
    "lookUp = {}"
   ]
  },
  {
   "cell_type": "code",
   "execution_count": 130,
   "id": "c7d9828c",
   "metadata": {},
   "outputs": [
    {
     "name": "stdout",
     "output_type": "stream",
     "text": [
      "55\n",
      "55\n",
      "55\n",
      "55\n"
     ]
    }
   ],
   "source": [
    "print(recursion(n))\n",
    "print(memorisation(n, lookUp))\n",
    "print(tabulation(n))\n",
    "print(optimiseTabulation(n))"
   ]
  },
  {
   "cell_type": "code",
   "execution_count": null,
   "id": "0841aa00",
   "metadata": {},
   "outputs": [],
   "source": []
  },
  {
   "cell_type": "markdown",
   "id": "999b181f",
   "metadata": {},
   "source": [
    "#### You are climbing a staircase. It takes n steps to reach the top. Each time you can either climb 1 or 2 steps. In how many distinct ways can you climb to the top?\n",
    "\n",
    "We are using fibonacci approach to solve ths problem"
   ]
  },
  {
   "cell_type": "code",
   "execution_count": 131,
   "id": "59968505",
   "metadata": {},
   "outputs": [],
   "source": [
    "def climbingStairs(i, n):\n",
    "    if i == n:\n",
    "        return 1\n",
    "    if i > n:\n",
    "        return 0\n",
    "    left = climbingStairs(i + 1, n)\n",
    "    right = climbingStairs(i + 2, n)\n",
    "    return left + right"
   ]
  },
  {
   "cell_type": "code",
   "execution_count": 132,
   "id": "a358b8da",
   "metadata": {},
   "outputs": [
    {
     "name": "stdout",
     "output_type": "stream",
     "text": [
      "3\n"
     ]
    }
   ],
   "source": [
    "n_ = 3\n",
    "i_ = 0\n",
    "climbingStairs(i_, n_)"
   ]
  },
  {
   "cell_type": "code",
   "execution_count": null,
   "id": "e7da5f14",
   "metadata": {},
   "outputs": [],
   "source": []
  },
  {
   "cell_type": "markdown",
   "id": "041218be",
   "metadata": {},
   "source": [
    "Given a number of stairs and a frog, the frog wants to climb from the 0th stair to the (N-1)th stair. At a time the frog can climb either one or two steps. A height[N] array is also given. Whenever the frog jumps from a stair i to stair j, the energy consumed in the jump is abs(height[i]- height[j]), where abs() means the absolute difference. We need to return the minimum energy that can be used by the frog to jump from stair 0 to stair N-1.\n",
    "\n",
    "![](https://lh6.googleusercontent.com/WLjOydAbeRWkwdBlTeAYyk5CIRu6d9foliQ1qwvBvcI5HLKo-dcLDJ84wCz8c8ZwdlZstoJmuFmJu-HhQXJYjCo8Ekym-wzX4zRQlTV40zsWoEGZl4OVnJugNp5sMCn2odSl9yoF)"
   ]
  },
  {
   "cell_type": "code",
   "execution_count": 161,
   "id": "e6cc87d0",
   "metadata": {},
   "outputs": [
    {
     "name": "stdout",
     "output_type": "stream",
     "text": [
      "50\n",
      "50\n",
      "50\n"
     ]
    }
   ],
   "source": [
    "def frogJump(height, index):\n",
    "    \"\"\"Recursion\"\"\"\n",
    "    if index == 0 or index < 0:\n",
    "        return 0\n",
    "\n",
    "    left = frogJump(height, index - 1) + abs(height[index] - height[index - 1])\n",
    "    right = frogJump(height, index - 2) + abs(height[index] - height[index - 2])\n",
    "    return min(left, right)\n",
    "\n",
    "\n",
    "def mFrogJump(height, index, loopUp):\n",
    "    \"\"\"Memorisation\"\"\"\n",
    "    if index == 0 or index < 0:\n",
    "        return 0\n",
    "    if index in loopUp:\n",
    "        return loopUp[index]\n",
    "\n",
    "    left = mFrogJump(height, index - 1, loopUp) + abs(height[index] - height[index - 1])\n",
    "    right = mFrogJump(height, index - 2, loopUp) + abs(height[index] - height[index - 2])\n",
    "    loopUp[index] = min(left, right)\n",
    "    return loopUp[index]\n",
    "\n",
    "\n",
    "def tabulationFrogJump(height):\n",
    "    \"\"\"Tabulation\"\"\"\n",
    "    table = [0] * len(height)\n",
    "    table[0] = 0\n",
    "\n",
    "    for i in range(1, len(table)):\n",
    "        fs = table[i - 1] + abs(height[i] - height[i - 1])\n",
    "        ss = table[i - 2] + abs(height[i] - height[i - 2])\n",
    "        table[i] = min(fs, ss)\n",
    "\n",
    "    return table[len(table)-1]\n",
    "\n",
    "\n",
    "if __name__ == '__main__':\n",
    "    height_ = [10, 20, 30, 10, 40, 60]\n",
    "    index_ = len(height_) - 1\n",
    "    loopUp_ = {}\n",
    "    print(frogJump(height_, index_))\n",
    "    print(mFrogJump(height_, index_, loopUp_))\n",
    "    print(tabulationFrogJump(height_))"
   ]
  },
  {
   "cell_type": "code",
   "execution_count": null,
   "id": "10e39b99",
   "metadata": {},
   "outputs": [],
   "source": []
  },
  {
   "cell_type": "code",
   "execution_count": null,
   "id": "6f8ce04c",
   "metadata": {},
   "outputs": [],
   "source": []
  }
 ],
 "metadata": {
  "kernelspec": {
   "display_name": "Python 3 (ipykernel)",
   "language": "python",
   "name": "python3"
  },
  "language_info": {
   "codemirror_mode": {
    "name": "ipython",
    "version": 3
   },
   "file_extension": ".py",
   "mimetype": "text/x-python",
   "name": "python",
   "nbconvert_exporter": "python",
   "pygments_lexer": "ipython3",
   "version": "3.9.7"
  }
 },
 "nbformat": 4,
 "nbformat_minor": 5
}

{
 "cells": [
  {
   "cell_type": "markdown",
   "id": "8e9b4419",
   "metadata": {},
   "source": [
    "#### Solving fibbonaci seq using dynamic programming "
   ]
  },
  {
   "cell_type": "code",
   "execution_count": null,
   "id": "c91b3421",
   "metadata": {},
   "outputs": [],
   "source": [
    "def recursion(n):\n",
    "    \"\"\"recursion\"\"\"\n",
    "    if n <= 1:\n",
    "        return n\n",
    "    return recursion(n - 1) + recursion(n - 2)\n",
    "\n",
    "\n",
    "def memorisation(n, lookUp):\n",
    "    \"\"\"Memorisation\"\"\"\n",
    "    if n <= 1:\n",
    "        return n\n",
    "    if n in lookUp:\n",
    "        return lookUp[n]\n",
    "\n",
    "    fibonacci = memorisation(n - 1, lookUp) + memorisation(n - 2, lookUp)\n",
    "    lookUp[n] = fibonacci\n",
    "    return lookUp[n]\n",
    "\n",
    "\n",
    "def tabulation(n):\n",
    "    \"\"\"tabulation\"\"\"\n",
    "    table = [0] * (n + 1) # table Ui\n",
    "    table[0] = 0  # base case\n",
    "    table[1] = 1  # base case\n",
    "    for i in range(2, len(table)):\n",
    "        table[i] = table[i - 1] + table[i - 2]\n",
    "    return table[n]\n",
    "\n",
    "# optimise tabulation without using array to save space\n",
    "def optimiseTabulation(n):\n",
    "    \"\"\"tabulation\"\"\"\n",
    "    prev2 = 0\n",
    "    prev1 = 1\n",
    "    current = None\n",
    "    for i in range(2, n+1):\n",
    "        current = prev2 + prev1\n",
    "        prev2 = prev1\n",
    "        prev1 = current\n",
    "    return current"
   ]
  },
  {
   "cell_type": "code",
   "execution_count": 129,
   "id": "446e50af",
   "metadata": {},
   "outputs": [],
   "source": [
    "n = 10\n",
    "lookUp = {}"
   ]
  },
  {
   "cell_type": "code",
   "execution_count": 130,
   "id": "b161e19e",
   "metadata": {},
   "outputs": [
    {
     "name": "stdout",
     "output_type": "stream",
     "text": [
      "55\n",
      "55\n",
      "55\n",
      "55\n"
     ]
    }
   ],
   "source": [
    "print(recursion(n))\n",
    "print(memorisation(n, lookUp))\n",
    "print(tabulation(n))\n",
    "print(optimiseTabulation(n))"
   ]
  },
  {
   "cell_type": "code",
   "execution_count": null,
   "id": "c52e2ebc",
   "metadata": {},
   "outputs": [],
   "source": []
  },
  {
   "cell_type": "markdown",
   "id": "2e1c3707",
   "metadata": {},
   "source": [
    "#### You are climbing a staircase. It takes n steps to reach the top. Each time you can either climb 1 or 2 steps. In how many distinct ways can you climb to the top?\n",
    "\n",
    "We are using fibonacci approach to solve ths problem"
   ]
  },
  {
   "cell_type": "code",
   "execution_count": 131,
   "id": "9db8455c",
   "metadata": {},
   "outputs": [],
   "source": [
    "def climbingStairs(i, n):\n",
    "    if i == n:\n",
    "        return 1\n",
    "    if i > n:\n",
    "        return 0\n",
    "    left = climbingStairs(i + 1, n)\n",
    "    right = climbingStairs(i + 2, n)\n",
    "    return left + right"
   ]
  },
  {
   "cell_type": "code",
   "execution_count": 132,
   "id": "f2cc3501",
   "metadata": {},
   "outputs": [
    {
     "name": "stdout",
     "output_type": "stream",
     "text": [
      "3\n"
     ]
    }
   ],
   "source": [
    "n_ = 3\n",
    "i_ = 0\n",
    "climbingStairs(i_, n_)"
   ]
  },
  {
   "cell_type": "code",
   "execution_count": null,
   "id": "89ee822d",
   "metadata": {},
   "outputs": [],
   "source": []
  },
  {
   "cell_type": "markdown",
   "id": "377767ba",
   "metadata": {},
   "source": [
    "Given a number of stairs and a frog, the frog wants to climb from the 0th stair to the (N-1)th stair. At a time the frog can climb either one or two steps. A height[N] array is also given. Whenever the frog jumps from a stair i to stair j, the energy consumed in the jump is abs(height[i]- height[j]), where abs() means the absolute difference. We need to return the minimum energy that can be used by the frog to jump from stair 0 to stair N-1.\n",
    "\n",
    "![](https://lh6.googleusercontent.com/WLjOydAbeRWkwdBlTeAYyk5CIRu6d9foliQ1qwvBvcI5HLKo-dcLDJ84wCz8c8ZwdlZstoJmuFmJu-HhQXJYjCo8Ekym-wzX4zRQlTV40zsWoEGZl4OVnJugNp5sMCn2odSl9yoF)"
   ]
  },
  {
   "cell_type": "code",
   "execution_count": 162,
   "id": "b61329ed",
   "metadata": {},
   "outputs": [
    {
     "name": "stdout",
     "output_type": "stream",
     "text": [
      "50\n",
      "50\n",
      "50\n"
     ]
    }
   ],
   "source": [
    "def frogJump(height, index):\n",
    "    \"\"\"Recursion\"\"\"\n",
    "    if index == 0 or index < 0:\n",
    "        return 0\n",
    "\n",
    "    left = frogJump(height, index - 1) + abs(height[index] - height[index - 1])\n",
    "    right = frogJump(height, index - 2) + abs(height[index] - height[index - 2])\n",
    "    return min(left, right)\n",
    "\n",
    "\n",
    "def mFrogJump(height, index, loopUp):\n",
    "    \"\"\"Memorisation\"\"\"\n",
    "    if index == 0 or index < 0:\n",
    "        return 0\n",
    "    if index in loopUp:\n",
    "        return loopUp[index]\n",
    "\n",
    "    left = mFrogJump(height, index - 1, loopUp) + abs(height[index] - height[index - 1])\n",
    "    right = mFrogJump(height, index - 2, loopUp) + abs(height[index] - height[index - 2])\n",
    "    loopUp[index] = min(left, right)\n",
    "    return loopUp[index]\n",
    "\n",
    "\n",
    "def tabulationFrogJump(height):\n",
    "    \"\"\"Tabulation\"\"\"\n",
    "    table = [0] * len(height)\n",
    "    table[0] = 0\n",
    "\n",
    "    for i in range(1, len(table)):\n",
    "        fs = table[i - 1] + abs(height[i] - height[i - 1])\n",
    "        ss = table[i - 2] + abs(height[i] - height[i - 2])\n",
    "        table[i] = min(fs, ss)\n",
    "\n",
    "    return table[-1]\n",
    "\n",
    "\n",
    "if __name__ == '__main__':\n",
    "    height_ = [10, 20, 30, 10, 40, 60]\n",
    "    index_ = len(height_) - 1\n",
    "    loopUp_ = {}\n",
    "    print(frogJump(height_, index_))\n",
    "    print(mFrogJump(height_, index_, loopUp_))\n",
    "    print(tabulationFrogJump(height_))"
   ]
  },
  {
   "cell_type": "code",
   "execution_count": null,
   "id": "d51ae773",
   "metadata": {},
   "outputs": [],
   "source": []
  },
  {
   "cell_type": "markdown",
   "id": "0fdd40e6",
   "metadata": {},
   "source": [
    "__Finding kth jump__"
   ]
  },
  {
   "cell_type": "code",
   "execution_count": 208,
   "id": "73b9d972",
   "metadata": {},
   "outputs": [
    {
     "name": "stdout",
     "output_type": "stream",
     "text": [
      "40\n",
      "40\n"
     ]
    }
   ],
   "source": [
    "def kthJump(height, index, k):\n",
    "    \"\"\"finding the kth jump using recursion\"\"\"\n",
    "    if index == 0 or index < 0 or k == 0:\n",
    "        return 0\n",
    "    minSteps = float('inf')\n",
    "    for i in range(1, k + 1):\n",
    "        if index - i >= 0:\n",
    "            jump = kthJump(height, index - i, k) + abs(height[index] - height[index - i])\n",
    "            minSteps = min(minSteps, jump)\n",
    "    return minSteps\n",
    "\n",
    "\n",
    "\n",
    "\n",
    "def tKthJump(height, k):\n",
    "    \"\"\"finding the kth jump using tabulation\"\"\"\n",
    "    if k == 0:\n",
    "        return 0\n",
    "    table = [0] * (len(height))\n",
    "    table[0] = 0\n",
    "    for i in range(1, len(table)):\n",
    "        minSteps = float('inf')\n",
    "        for j in range(1, k + 1):\n",
    "            if i - j >= 0:\n",
    "                jump = table[i - j] + abs(height[i] - height[i - j])\n",
    "                minSteps = min(jump, minSteps)\n",
    "            else:\n",
    "                break\n",
    "        table[i] = minSteps\n",
    "    return table[-1]\n",
    "\n",
    "\n",
    "if __name__ == '__main__':\n",
    "    height_ = [30, 10, 60, 10, 60, 50]\n",
    "    index_ = len(height_) - 1\n",
    "    lookUp_ = {}\n",
    "    \n",
    "    print(kthJump(height_, index_, 2))\n",
    "    print(tKthJump(height_, 2))"
   ]
  },
  {
   "cell_type": "code",
   "execution_count": null,
   "id": "bef4ef55",
   "metadata": {},
   "outputs": [],
   "source": []
  },
  {
   "cell_type": "markdown",
   "id": "e23bd271",
   "metadata": {},
   "source": [
    "#### Maximum sum of non-adjacent elements\n",
    "\n",
    "`Problem Statement:`\n",
    "\n",
    "Given an array of ‘N’  positive integers, we need to return the maximum sum of the subsequence such that no two elements of the subsequence are adjacent elements in the array.\n",
    "\n",
    "`Note:` A subsequence of an array is a list with elements of the array where some elements are deleted ( or not deleted at all) and the elements should be in the same order in the subsequeExamples:n the array.\n",
    "\n",
    "`Examples:`\n",
    "\n",
    "![](https://lh6.googleusercontent.com/gQPoRaBGkwCKbJNy8cvXG2LBzD3khfxca938a6Zrph4HWQGLOxtVbDW3xO6WkDalQCBopYfBp5DX3oo_Drug3kRNBwhqDkYapMUu4LjwL_6_8dPot0h8ESZeMrbp1_3M_SW0zICR)"
   ]
  },
  {
   "cell_type": "code",
   "execution_count": 210,
   "id": "41c52ad3",
   "metadata": {},
   "outputs": [
    {
     "name": "stdout",
     "output_type": "stream",
     "text": [
      "24\n",
      "24\n",
      "24\n",
      "24\n"
     ]
    }
   ],
   "source": [
    "def maximumNonAdjacentSum(array, index):\n",
    "    \"\"\"Recursion\"\"\"\n",
    "    if index == 0:\n",
    "        return array[index]\n",
    "    if index < 0:\n",
    "        return 0\n",
    "    pick = maximumNonAdjacentSum(array, index - 2) + array[index]\n",
    "    notPick = maximumNonAdjacentSum(array, index - 1)\n",
    "    return max(pick, notPick)\n",
    "\n",
    "\n",
    "def mMaximumNonAdjacentSum(array, index, lookUp):\n",
    "    \"\"\"Memorisation\"\"\"\n",
    "    if index == 0:\n",
    "        return array[index]\n",
    "    if index < 0:\n",
    "        return 0\n",
    "    if index in lookUp:\n",
    "        return lookUp[index]\n",
    "\n",
    "    pick = mMaximumNonAdjacentSum(array, index - 2, lookUp) + array[index]\n",
    "    notPick = mMaximumNonAdjacentSum(array, index - 1, lookUp)\n",
    "    lookUp[index] = max(pick, notPick)\n",
    "    return lookUp[index]\n",
    "\n",
    "\n",
    "def tMaximumNonAdjacentSum(array):\n",
    "    \"\"\"Tabulation\"\"\"\n",
    "    table = [0] * len(array)\n",
    "    table[0] = array[0]\n",
    "    for i in range(1, len(table)):\n",
    "        pick = array[i]\n",
    "        if i > 1:\n",
    "            pick += table[i - 2]\n",
    "        notPick = 0 + table[i - 1]\n",
    "        table[i] = max(pick, notPick)\n",
    "    return table[-1]\n",
    "\n",
    "\n",
    "def sMaximumNonAdjacentSum(array):\n",
    "    \"\"\"Tabulation with space optimisation\"\"\"\n",
    "    prev1 = 0\n",
    "    prev = array[0]\n",
    "\n",
    "    for i in range(1, len(array)):\n",
    "        pick = array[i]\n",
    "        if i > 1:\n",
    "            pick += prev1\n",
    "        notPick = 0 + prev\n",
    "        current = max(pick, notPick)\n",
    "        prev1 = prev\n",
    "        prev = current\n",
    "    return prev\n",
    "\n",
    "\n",
    "if __name__ == '__main__':\n",
    "    array_ = [1, 2, 3, 1, 3, 5, 8, 1, 9]\n",
    "    index_ = len(array_) - 1\n",
    "    loopUp_ = {}\n",
    "    s_ = 0\n",
    "    print(maximumNonAdjacentSum(array_, index_))\n",
    "    print(mMaximumNonAdjacentSum(array_, index_, loopUp_))\n",
    "    print(tMaximumNonAdjacentSum(array_))\n",
    "    print(sMaximumNonAdjacentSum(array_))"
   ]
  },
  {
   "cell_type": "code",
   "execution_count": null,
   "id": "be0df253",
   "metadata": {},
   "outputs": [],
   "source": []
  },
  {
   "cell_type": "code",
   "execution_count": null,
   "id": "901cc143",
   "metadata": {},
   "outputs": [],
   "source": []
  }
 ],
 "metadata": {
  "kernelspec": {
   "display_name": "Python 3 (ipykernel)",
   "language": "python",
   "name": "python3"
  },
  "language_info": {
   "codemirror_mode": {
    "name": "ipython",
    "version": 3
   },
   "file_extension": ".py",
   "mimetype": "text/x-python",
   "name": "python",
   "nbconvert_exporter": "python",
   "pygments_lexer": "ipython3",
   "version": "3.9.7"
  }
 },
 "nbformat": 4,
 "nbformat_minor": 5
}

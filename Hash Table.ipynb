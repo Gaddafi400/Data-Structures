{
 "cells": [
  {
   "cell_type": "code",
   "execution_count": null,
   "id": "125a4faf",
   "metadata": {},
   "outputs": [],
   "source": [
    "stock = []\n",
    "with open('./files/stock_prices.csv') as file:\n",
    "    for line in file:\n",
    "        date, price = line.split(',')\n",
    "        stock.append([date, float(price)])\n"
   ]
  },
  {
   "cell_type": "code",
   "execution_count": null,
   "id": "78ff8b1c",
   "metadata": {},
   "outputs": [],
   "source": [
    "stock"
   ]
  },
  {
   "cell_type": "markdown",
   "id": "c90ec0a3",
   "metadata": {},
   "source": [
    "#### to find sales on march 9 using list which is not efficient O(n)\n",
    "\n",
    "* List is stored in a contigous memory"
   ]
  },
  {
   "cell_type": "code",
   "execution_count": null,
   "id": "99940aa6",
   "metadata": {},
   "outputs": [],
   "source": [
    "\n",
    "for element in stock:\n",
    "    if element[0] == 'march 9':\n",
    "        print(element[1])"
   ]
  },
  {
   "cell_type": "markdown",
   "id": "6dc0e1f8",
   "metadata": {},
   "source": [
    "#### Using dictionary"
   ]
  },
  {
   "cell_type": "code",
   "execution_count": null,
   "id": "838d43bc",
   "metadata": {},
   "outputs": [],
   "source": [
    "stock = {}\n",
    "with open('./files/stock_prices.csv') as file:\n",
    "    for line in file:\n",
    "        date, price = line.split(',')\n",
    "        stock[date] = float(price)"
   ]
  },
  {
   "cell_type": "code",
   "execution_count": null,
   "id": "314fa9fb",
   "metadata": {},
   "outputs": [],
   "source": [
    "stock"
   ]
  },
  {
   "cell_type": "markdown",
   "id": "045a99e3",
   "metadata": {},
   "source": [
    "#### to find sales on march 9 using dictionary O(1)"
   ]
  },
  {
   "cell_type": "code",
   "execution_count": null,
   "id": "e1f31278",
   "metadata": {},
   "outputs": [],
   "source": [
    "stock['march 9']"
   ]
  },
  {
   "cell_type": "markdown",
   "id": "a54e5711",
   "metadata": {},
   "source": [
    "The internal implimentation of a dictionary use __Hash Map__"
   ]
  },
  {
   "cell_type": "markdown",
   "id": "bdb373ed",
   "metadata": {},
   "source": [
    "Dictionaries in Python are implemented using a data structure called **hash table**. A hash table uses a list/array to store the key-value pairs, and uses a _hashing function_ to determine the index for storing or retrieving the data associated with a given key. \n",
    "\n",
    "Here's a visual representation of a hash table ([source](https://en.wikipedia.org/wiki/Hash_table)):\n",
    "\n",
    "<img src=\"https://i.imgur.com/5dPEmuY.png\" width=\"480\">\n",
    "\n",
    "Your objective in this assignment is to implement a `HashTable` class which supports the following operations:\n",
    "\n",
    "1. **Insert**: Insert a new key-value pair\n",
    "2. **Find**: Find the value associated with a key\n",
    "3. **Update**: Update the value associated with a key\n",
    "5. **List**: List all the keys stored in the hash table\n"
   ]
  },
  {
   "cell_type": "code",
   "execution_count": null,
   "id": "2e5e2f8c",
   "metadata": {},
   "outputs": [],
   "source": [
    "def getHash(word):\n",
    "    hash = 0\n",
    "    for wrd in word:\n",
    "        hash += ord(wrd)\n",
    "    return hash % 100"
   ]
  },
  {
   "cell_type": "code",
   "execution_count": null,
   "id": "f4082133",
   "metadata": {},
   "outputs": [],
   "source": [
    "getHash('hello')"
   ]
  },
  {
   "cell_type": "code",
   "execution_count": null,
   "id": "23bc8417",
   "metadata": {},
   "outputs": [],
   "source": [
    "from textwrap import indent\n",
    "\n",
    "class HashTable:\n",
    "    def __init__(self):\n",
    "        self.MAX = 10\n",
    "        self.buckets = [None] * self.MAX\n",
    "        \n",
    "        \n",
    "    def __str__(self):\n",
    "        return f'{self.MAX}'\n",
    "        \n",
    "    def getHash(self, word):\n",
    "        hash = 0\n",
    "        for wrd in word:\n",
    "            hash += ord(wrd)\n",
    "        return hash % self.MAX\n",
    "    \n",
    "    def __setitem__(self, key, value):\n",
    "        hash = self.getHash(key)\n",
    "        self.buckets[hash] = value\n",
    "    \n",
    "    def __getitem__(self, key):\n",
    "        hash = self.getHash(key)\n",
    "        return self.buckets[hash]\n",
    "    \n",
    "    def __delitem__(self, key):\n",
    "        hash = self.getHash(key)\n",
    "        self.buckets = None\n",
    "        \n",
    "    def __iter__(self):\n",
    "        return (x for x in self.buckets if x is not None)\n",
    "    "
   ]
  },
  {
   "cell_type": "markdown",
   "id": "53a55a59",
   "metadata": {},
   "source": [
    "__Collision Handling in Hash Table Using Linear probing__"
   ]
  },
  {
   "cell_type": "code",
   "execution_count": 14,
   "id": "7e18334c",
   "metadata": {},
   "outputs": [],
   "source": [
    "class HashTable:\n",
    "    def __init__(self):\n",
    "        self.MAX = 10\n",
    "        self.buckets = [None] * self.MAX\n",
    "        self.keys = [None] * self.MAX\n",
    "        \n",
    "        \n",
    "    def getHash(self, word):\n",
    "        hash = 0\n",
    "        for wrd in word:\n",
    "            hash += ord(wrd)\n",
    "        return hash % self.MAX\n",
    "    \n",
    "    def __setitem__(self, key, value):\n",
    "        hash = self.getHash(key)\n",
    "        \n",
    "        if None not in self.buckets:\n",
    "            return f'buckets is full'\n",
    "\n",
    "        while self.buckets[hash] is not None:\n",
    "            if self.buckets[hash] == key:\n",
    "                self.buckets[hash] == value\n",
    "                return\n",
    "            hash = (hash+1) % self.MAX\n",
    "        \n",
    "        self.buckets[hash] = value\n",
    "        self.keys[hash] = key\n",
    "\n",
    "                        \n",
    "    def __getitem__(self, key):\n",
    "        hash = self.getHash(key)\n",
    "        \n",
    "        while self.keys[hash] is not None:\n",
    "            if self.keys[hash] == key:\n",
    "                return self.buckets[hash]\n",
    "            \n",
    "            hash = (hash+1) % self.MAX\n",
    "            \n",
    "        return f'key error'"
   ]
  },
  {
   "cell_type": "code",
   "execution_count": 15,
   "id": "e0423504",
   "metadata": {},
   "outputs": [],
   "source": [
    "hash = HashTable()"
   ]
  },
  {
   "cell_type": "code",
   "execution_count": 16,
   "id": "e3aa56ee",
   "metadata": {},
   "outputs": [],
   "source": [
    "hash['march 6'] = 130\n",
    "hash['march 17'] = 150"
   ]
  },
  {
   "cell_type": "code",
   "execution_count": 17,
   "id": "9271cbc7",
   "metadata": {},
   "outputs": [],
   "source": [
    "hash['march 15'] = 1999"
   ]
  },
  {
   "cell_type": "code",
   "execution_count": 18,
   "id": "de2657af",
   "metadata": {},
   "outputs": [],
   "source": [
    "hash['march 90'] = 111"
   ]
  },
  {
   "cell_type": "code",
   "execution_count": 19,
   "id": "a4a2a4ba",
   "metadata": {},
   "outputs": [],
   "source": [
    "hash['march 7'] = 400"
   ]
  },
  {
   "cell_type": "code",
   "execution_count": 20,
   "id": "78bfb365",
   "metadata": {},
   "outputs": [],
   "source": [
    "hash['march 8'] = 100\n",
    "hash['march 26'] = 130\n",
    "hash['march 11'] = 457\n",
    "hash['march 19'] = 457"
   ]
  },
  {
   "cell_type": "code",
   "execution_count": 21,
   "id": "f0a1d471",
   "metadata": {},
   "outputs": [],
   "source": [
    "hash['march 27'] = 457"
   ]
  },
  {
   "cell_type": "code",
   "execution_count": 22,
   "id": "95ca3bf2",
   "metadata": {},
   "outputs": [
    {
     "data": {
      "text/plain": [
       "['march 17',\n",
       " 'march 90',\n",
       " 'march 7',\n",
       " 'march 8',\n",
       " 'march 26',\n",
       " 'march 11',\n",
       " 'march 19',\n",
       " 'march 15',\n",
       " 'march 27',\n",
       " 'march 6']"
      ]
     },
     "execution_count": 22,
     "metadata": {},
     "output_type": "execute_result"
    }
   ],
   "source": [
    "hash.keys"
   ]
  },
  {
   "cell_type": "code",
   "execution_count": 23,
   "id": "bc65b6fd",
   "metadata": {},
   "outputs": [
    {
     "data": {
      "text/plain": [
       "111"
      ]
     },
     "execution_count": 23,
     "metadata": {},
     "output_type": "execute_result"
    }
   ],
   "source": [
    "hash['march 90']"
   ]
  },
  {
   "cell_type": "code",
   "execution_count": null,
   "id": "3073e8e7",
   "metadata": {},
   "outputs": [],
   "source": []
  },
  {
   "cell_type": "markdown",
   "id": "68a2f38d",
   "metadata": {},
   "source": [
    "__Collision Handling in Hash Table Using Chaining__"
   ]
  },
  {
   "cell_type": "code",
   "execution_count": null,
   "id": "de9b4955",
   "metadata": {},
   "outputs": [],
   "source": [
    "Collision Handling in Hash Table Using Chaining"
   ]
  },
  {
   "cell_type": "code",
   "execution_count": null,
   "id": "53e9a84e",
   "metadata": {},
   "outputs": [],
   "source": [
    "class HashTable:\n",
    "    def __init__(self):\n",
    "        self.MAX = 10\n",
    "        self.buckets = [ [] for _ in range(self.MAX) ]\n",
    "        \n",
    "        \n",
    "    def getHash(self, word):\n",
    "        hash = 0\n",
    "        for wrd in word:\n",
    "            hash += ord(wrd)\n",
    "        return hash % self.MAX\n",
    "    \n",
    "    def __setitem__(self, key, value):\n",
    "        hash = self.getHash(key)\n",
    "        \n",
    "        found = False\n",
    "        for index, element in enumerate(self.buckets[hash]):\n",
    "            # tuple are unmutable\n",
    "            if len(element) == 2 and element[0] == key:\n",
    "                self.buckets[hash][index] = (key, value)\n",
    "                found = True\n",
    "                break \n",
    "        if not found:\n",
    "            self.buckets[hash].append((key, value))\n",
    "        \n",
    "    \n",
    "    def __getitem__(self, key):\n",
    "        hash = self.getHash(key)\n",
    "        for element in self.buckets[hash]:\n",
    "            if element[0] == key:\n",
    "                return element[1]\n",
    "        return f\"key doesn't exist\"\n"
   ]
  },
  {
   "cell_type": "code",
   "execution_count": null,
   "id": "5658deda",
   "metadata": {},
   "outputs": [],
   "source": [
    "hash = HashTable()"
   ]
  },
  {
   "cell_type": "code",
   "execution_count": null,
   "id": "b67ff6fb",
   "metadata": {},
   "outputs": [],
   "source": [
    "hash['march 6'] = 130\n",
    "hash['march 17'] = 20\n",
    "hash['march 17'] = 20"
   ]
  },
  {
   "cell_type": "code",
   "execution_count": null,
   "id": "58442240",
   "metadata": {},
   "outputs": [],
   "source": [
    "hash.buckets"
   ]
  },
  {
   "cell_type": "code",
   "execution_count": null,
   "id": "1ba850cb",
   "metadata": {},
   "outputs": [],
   "source": [
    "hash['march 30']"
   ]
  },
  {
   "cell_type": "code",
   "execution_count": null,
   "id": "fb003abf",
   "metadata": {},
   "outputs": [],
   "source": []
  },
  {
   "cell_type": "code",
   "execution_count": null,
   "id": "9ff04236",
   "metadata": {},
   "outputs": [],
   "source": []
  },
  {
   "cell_type": "code",
   "execution_count": null,
   "id": "891a8852",
   "metadata": {},
   "outputs": [],
   "source": []
  }
 ],
 "metadata": {
  "kernelspec": {
   "display_name": "Python 3 (ipykernel)",
   "language": "python",
   "name": "python3"
  },
  "language_info": {
   "codemirror_mode": {
    "name": "ipython",
    "version": 3
   },
   "file_extension": ".py",
   "mimetype": "text/x-python",
   "name": "python",
   "nbconvert_exporter": "python",
   "pygments_lexer": "ipython3",
   "version": "3.9.7"
  }
 },
 "nbformat": 4,
 "nbformat_minor": 5
}

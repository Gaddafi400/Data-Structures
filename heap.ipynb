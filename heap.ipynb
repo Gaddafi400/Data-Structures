{
 "cells": [
  {
   "cell_type": "code",
   "execution_count": 6,
   "id": "4d32d2ac",
   "metadata": {},
   "outputs": [],
   "source": [
    "class Heap:\n",
    "    def _maxHeap(self, array, length, root):\n",
    "        # largest to point to root\n",
    "        largest = root\n",
    "        left = (2 * root) + 1\n",
    "        right = (2 * root) + 2\n",
    "\n",
    "        # compare left and length to make sure we didn't go out of array index\n",
    "        # check the left node and compare it with the largest \n",
    "        # if left node is greater than largest make the largest make largest point to the left \n",
    "        if left < length and array[largest] < array[left]:\n",
    "            largest = left\n",
    "\n",
    "        # same thing apply to right node \n",
    "        if right < length and array[largest] < array[right]:\n",
    "            largest = right\n",
    "\n",
    "        # if largest is not equal to root we swap the values \n",
    "        # making root the largest \n",
    "        # we use recursion techinque to do for both left and right nodes\n",
    "        if largest != root:\n",
    "            array[root], array[largest] = array[largest], array[root]\n",
    "            self._maxHeap(array, length, largest)\n",
    "            \n",
    "    def _minHeap(self, array, length, root):\n",
    "        smallest = root\n",
    "        left = (2 * root) + 1\n",
    "        right = (2 * root) + 2\n",
    "\n",
    "        if left < length and array[smallest] > array[left]:\n",
    "            smallest = left\n",
    "\n",
    "        if right < length and array[smallest] > array[right]:\n",
    "            smallest = right\n",
    "\n",
    "        if smallest != root:\n",
    "            array[root], array[smallest] = array[smallest], array[root]\n",
    "            self._minHeap(array, length, smallest)\n",
    "            \n",
    "    def maxHeap(self, array):\n",
    "        length = len(array)\n",
    "        # formular for finding the root values is len(array) // 2 - 1\n",
    "        for root in range(length//2-1, -1, -1):\n",
    "            self._maxHeap(array, length, root)\n",
    "            \n",
    "    def minHeap(self, array):\n",
    "        length = len(array)\n",
    "        for root in range(length//2-1, -1, -1):\n",
    "            self._minHeap(array, length, root)"
   ]
  },
  {
   "cell_type": "code",
   "execution_count": 7,
   "id": "c8627c36",
   "metadata": {},
   "outputs": [],
   "source": [
    "array = [2, 66, 30, 5, 9, 10]\n",
    "heap = Heap()\n",
    "heap.maxHeap(array)"
   ]
  },
  {
   "cell_type": "code",
   "execution_count": 8,
   "id": "36e1ded0",
   "metadata": {},
   "outputs": [
    {
     "data": {
      "text/plain": [
       "[66, 9, 30, 5, 2, 10]"
      ]
     },
     "execution_count": 8,
     "metadata": {},
     "output_type": "execute_result"
    }
   ],
   "source": [
    "array"
   ]
  },
  {
   "cell_type": "code",
   "execution_count": 9,
   "id": "e0220805",
   "metadata": {},
   "outputs": [],
   "source": [
    "heap.minHeap(array)"
   ]
  },
  {
   "cell_type": "code",
   "execution_count": 10,
   "id": "d7c41795",
   "metadata": {},
   "outputs": [
    {
     "data": {
      "text/plain": [
       "[2, 5, 10, 66, 9, 30]"
      ]
     },
     "execution_count": 10,
     "metadata": {},
     "output_type": "execute_result"
    }
   ],
   "source": [
    "array"
   ]
  },
  {
   "cell_type": "code",
   "execution_count": null,
   "id": "8fdef156",
   "metadata": {},
   "outputs": [],
   "source": []
  }
 ],
 "metadata": {
  "kernelspec": {
   "display_name": "Python 3 (ipykernel)",
   "language": "python",
   "name": "python3"
  },
  "language_info": {
   "codemirror_mode": {
    "name": "ipython",
    "version": 3
   },
   "file_extension": ".py",
   "mimetype": "text/x-python",
   "name": "python",
   "nbconvert_exporter": "python",
   "pygments_lexer": "ipython3",
   "version": "3.9.7"
  }
 },
 "nbformat": 4,
 "nbformat_minor": 5
}

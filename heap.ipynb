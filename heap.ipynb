{
 "cells": [
  {
   "cell_type": "code",
   "execution_count": 1,
   "id": "9f5857a7",
   "metadata": {},
   "outputs": [],
   "source": [
    "class Heap:\n",
    "    def _maxHeapify(self, array, length, root): \n",
    "        # largest to point to root\n",
    "        largest = root\n",
    "        left = (2 * root) + 1\n",
    "        right = (2 * root) + 2\n",
    "\n",
    "        # compare left and length to make sure we didn't go out of array index\n",
    "        # check the left node and compare it with the largest \n",
    "        # if left node is greater than largest make the largest make largest point to the left \n",
    "        if left < length and array[largest] < array[left]:\n",
    "            largest = left\n",
    "\n",
    "        # same thing apply to right node \n",
    "        if right < length and array[largest] < array[right]:\n",
    "            largest = right\n",
    "\n",
    "        # if largest is not equal to root we swap the values \n",
    "        # making root the largest \n",
    "        # we use recursion techinque to do for both left and right nodes\n",
    "        if largest != root:\n",
    "            array[root], array[largest] = array[largest], array[root]\n",
    "            self._maxHeapify(array, length, largest)\n",
    "            \n",
    "    def _minHeapify(self, array, length, root):\n",
    "        smallest = root\n",
    "        left = (2 * root) + 1\n",
    "        right = (2 * root) + 2\n",
    "\n",
    "        if left < length and array[smallest] > array[left]:\n",
    "            smallest = left\n",
    "\n",
    "        if right < length and array[smallest] > array[right]:\n",
    "            smallest = right\n",
    "\n",
    "        if smallest != root:\n",
    "            array[root], array[smallest] = array[smallest], array[root]\n",
    "            self._minHeapify(array, length, smallest)\n",
    "            \n",
    "    def maxHeap(self, array):\n",
    "        length = len(array)\n",
    "        # formular for finding the root values is len(array) // 2 - 1\n",
    "        for root in range(length//2-1, -1, -1):\n",
    "            self._maxHeapify(array, length, root)\n",
    "            \n",
    "    def minHeap(self, array):\n",
    "        length = len(array)\n",
    "        for root in range(length//2-1, -1, -1):\n",
    "            self._minHeapify(array, length, root)\n",
    "            \n",
    "    def heapSort(self, array):\n",
    "        root = 0\n",
    "        length = len(array) - 1\n",
    "        # get the maxHeap of the array \n",
    "        self.maxHeap(array)\n",
    "\n",
    "        \"\"\"\n",
    "        • Swap the element at root(0) with the last element of the array\n",
    "        • Reduce the size of the array by one \n",
    "        • Perform MaxHeap on the new array to get the max element\n",
    "        • Start should be zero, length should be the new length of the array\n",
    "        • Repeat step 1 to 3 until length of the array is zero\n",
    "        \"\"\"\n",
    "        while root != length:\n",
    "            array[root], array[length] = array[length], array[root]\n",
    "            length -= 1\n",
    "            self._maxHeapify(array, length, root)"
   ]
  },
  {
   "cell_type": "code",
   "execution_count": null,
   "id": "dec9b00e",
   "metadata": {},
   "outputs": [],
   "source": []
  },
  {
   "cell_type": "markdown",
   "id": "9a797f27",
   "metadata": {},
   "source": [
    "### Heap Sort Analysis\n",
    "![](https://upload.wikimedia.org/wikipedia/commons/4/4d/Heapsort-example.gif)\n",
    "\n",
    "`Time complexity of heapSort`\n",
    "\n",
    "In the algorithm, we make use of max_heapify and create_heap which are the first part of the algorithm. When using create_heap, we need to understand how the max-heap structure, as shown below, works.\n",
    "\n",
    "\n",
    "<img src=\"https://upload.wikimedia.org/wikipedia/commons/thumb/c/c4/Max-Heap-new.svg/1000px-Max-Heap-new.svg.png\" width=\"480\">\n",
    "\n",
    "Because we make use of a binary tree, the bottom of the heap contains the maximum number of nodes. As we go up a level, the number of nodes decreases by half. Considering there are 'n' number of nodes, then the number of nodes starting from the bottom-most level would be-\n",
    "\n",
    "- n/2\n",
    "- n/4 (at the next level)\n",
    "- n/8\n",
    "- and so on\n",
    "\n",
    "\n",
    "`Complexity of inserting a new node`\n",
    "\n",
    "Therefore, when we insert a new value in the heap when making the heap, the max number of steps we would need to take comes out to be O(log(n)). As we use binary trees, we know that the max height of such a structure is always O(log(n)). When we insert a new value in the heap, we will swap it with a value greater than it, to maintain the max-heap property. The number of such swaps would be O(log(n)). Therefore, the insertion of a new value when building a max-heap would be O(log(n)).\n",
    "\n",
    "`Complexity of removing the max valued node from heap`\n",
    "\n",
    "Likewise, when we remove the max valued node from the heap, to add to the end of the list, the max number of steps required would also be O(log(n)). Since we swap the max valued node till it comes down to the bottom-most level, the max number of steps we'd need to take is the same as when inserting a new node, which is O(log(n)).\n",
    "\n",
    "Therefore, the total time complexity of the max_heapify function turns out to be O(log(n)).\n",
    "\n",
    "\n",
    "`Complexity of creating a heap`\n",
    "\n",
    "The time complexity of converting a list into a heap using the create_heap function is not O(log(n)). This is because when we create a heap, not all nodes will move down O(log(n)) times. It's only the root node that'll do so. The nodes at the bottom-most level (given by n/2) won't move down at all. The nodes at the second last level (n/4) would move down 1 time, as there is only one level below remaining to move down. The nodes at the third last level would move down 2 times, and so on. So if we multiply the number of moves we take for all nodes, mathematically, it would turn out like a geometric series, as explained below-\n",
    "\n",
    "(n/2 * 0) + (n/4 * 1) + (n/8 * 2) + (n/16 * 3) + ...h\n",
    "\n",
    "Here h represents the height of the max-heap structure.\n",
    "\n",
    "The summation of this series, upon calculation, gives a value of n/2 in the end. Therefore, the time complexity of create_heap turns out to be O(n).\n",
    "\n",
    "`Total time complexity`\n",
    "\n",
    "In the final function of heapsort, we make use of create_heap, which runs once to create a heap and has a runtime of O(n). Then using a for-loop, we call the max_heapify for each node, to maintain the max-heap property whenever we remove or insert a node in the heap. Since there are 'n' number of nodes, therefore, the total runtime of the algorithm turns out to be O(n(log(n)), and we use the max-heapify function for each node.\n",
    "Mathematically, we see that-\n",
    "\n",
    "The first remove of a node takes log(n) time\n",
    "The second remove takes log(n-1) time\n",
    "The third remove takes log(n-2) time\n",
    "and so on till the last node, which will take log(1) time\n",
    "So summing up all the terms, we get-\n",
    "\n",
    "time = (nlog n) + (nlog n) = 2n(log n)\n",
    "time = n(log n )\n",
    "> **Time complexity of heap sort algorithms is O(nlog n)**\n",
    "\n",
    "\n",
    "\n",
    "\n",
    "`Space Complexity of Heap Sort`\n",
    "Since heapsort is an in-place designed sorting algorithm, the space requirement is constant and therefore, O(1). This is because, in case of any input- We arrange all the list items in place using a heap structure We put the removed item at the end of the same list after removing the max node from the max-heap. Therefore, we don't use any extra space when implementing this algorithm. This gives the algorithm a space complexity of O(1)."
   ]
  },
  {
   "cell_type": "code",
   "execution_count": null,
   "id": "11f09e93",
   "metadata": {},
   "outputs": [],
   "source": []
  },
  {
   "cell_type": "code",
   "execution_count": 16,
   "id": "3b98f2d8",
   "metadata": {},
   "outputs": [],
   "source": [
    "array = [10, 20, 15, 39, 40, 66]"
   ]
  },
  {
   "cell_type": "code",
   "execution_count": 17,
   "id": "404eb5ce",
   "metadata": {},
   "outputs": [],
   "source": [
    "heap = Heap()\n",
    "heap.maxHeap(array)"
   ]
  },
  {
   "cell_type": "code",
   "execution_count": 18,
   "id": "43b90bfe",
   "metadata": {},
   "outputs": [
    {
     "data": {
      "text/plain": [
       "[66, 40, 15, 39, 20, 10]"
      ]
     },
     "execution_count": 18,
     "metadata": {},
     "output_type": "execute_result"
    }
   ],
   "source": [
    "array"
   ]
  },
  {
   "cell_type": "code",
   "execution_count": 19,
   "id": "52476e47",
   "metadata": {},
   "outputs": [],
   "source": [
    "heap.minHeap(array)"
   ]
  },
  {
   "cell_type": "code",
   "execution_count": 20,
   "id": "623aaa0a",
   "metadata": {},
   "outputs": [
    {
     "data": {
      "text/plain": [
       "[10, 20, 15, 39, 40, 66]"
      ]
     },
     "execution_count": 20,
     "metadata": {},
     "output_type": "execute_result"
    }
   ],
   "source": [
    "array"
   ]
  },
  {
   "cell_type": "code",
   "execution_count": 21,
   "id": "89bcb31d",
   "metadata": {},
   "outputs": [],
   "source": [
    "heap.heapSort(array)"
   ]
  },
  {
   "cell_type": "code",
   "execution_count": 22,
   "id": "d3123280",
   "metadata": {},
   "outputs": [
    {
     "data": {
      "text/plain": [
       "[10, 15, 20, 39, 40, 66]"
      ]
     },
     "execution_count": 22,
     "metadata": {},
     "output_type": "execute_result"
    }
   ],
   "source": [
    "array"
   ]
  },
  {
   "cell_type": "code",
   "execution_count": 28,
   "id": "50d406cc",
   "metadata": {},
   "outputs": [
    {
     "data": {
      "text/plain": [
       "10"
      ]
     },
     "execution_count": 28,
     "metadata": {},
     "output_type": "execute_result"
    }
   ],
   "source": [
    "array.pop()"
   ]
  },
  {
   "cell_type": "markdown",
   "id": "1fb77a68",
   "metadata": {},
   "source": [
    "### Priority Queue\n",
    "\n",
    "A priority queue is a special type of queue in which each element is associated with a priority value. And, elements are served on the basis of their priority. That is, higher priority elements are served first.\n",
    "\n",
    "However, if elements with the same priority occur, they are served according to their order in the queue.\n",
    "\n",
    "\n",
    "`Assigning Priority Value`\n",
    "\n",
    "Generally, the value of the element itself is considered for assigning the priority. For example,\n",
    "\n",
    "The element with the highest value is considered the highest priority element. However, in other cases, we can assume the element with the lowest value as the highest priority element. We can also set priorities according to our needs.\n",
    "\n",
    "\n",
    "`Difference between Priority Queue and Normal Queue`\n",
    "\n",
    "In a queue, the first-in-first-out rule is implemented whereas, in a priority queue, the values are removed on the basis of priority. The element with the highest priority is removed first.\n",
    "\n",
    "Implementation of Priority Queue\n",
    "Priority queue can be implemented using an array, a linked list, a heap data structure, or a binary search tree. Among these data structures, heap data structure provides an efficient implementation of priority queues.\n",
    "\n",
    "Hence, we will be using the heap data structure to implement the priority queue in this tutorial. A max-heap is implemented in the following operations. If you want to learn more about it, please visit max-heap and min-heap.\n",
    "\n",
    "A comparative analysis of different implementations of priority queue is given below\n",
    "\n",
    "                Operations\t          peek\tinsert\t   delete\n",
    "                Linked List\t         O(1)\tO(n)\t     O(1)\n",
    "                Binary Heap\t         O(1)\tO(log n)\t O(log n)\n",
    "                Binary Search Tree\t  O(1)\tO(log n)\t O(log n)\n",
    "\n",
    "`Priority Queue Operations`\n",
    "Basic operations of a priority queue are inserting, removing, and peeking elements.\n",
    "\n",
    "`Implementation`\n",
    "\n",
    "- If you have a smaller number higher priority then create a min heap \n",
    "- Larger number highest priority use max heap"
   ]
  },
  {
   "cell_type": "code",
   "execution_count": null,
   "id": "29db1296",
   "metadata": {},
   "outputs": [],
   "source": []
  }
 ],
 "metadata": {
  "kernelspec": {
   "display_name": "Python 3 (ipykernel)",
   "language": "python",
   "name": "python3"
  },
  "language_info": {
   "codemirror_mode": {
    "name": "ipython",
    "version": 3
   },
   "file_extension": ".py",
   "mimetype": "text/x-python",
   "name": "python",
   "nbconvert_exporter": "python",
   "pygments_lexer": "ipython3",
   "version": "3.9.7"
  }
 },
 "nbformat": 4,
 "nbformat_minor": 5
}

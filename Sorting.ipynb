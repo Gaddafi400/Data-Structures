{
 "cells": [
  {
   "cell_type": "markdown",
   "id": "50bd792a",
   "metadata": {},
   "source": [
    "**Bubble sort algorithms** "
   ]
  },
  {
   "cell_type": "code",
   "execution_count": null,
   "id": "79dcd0af",
   "metadata": {},
   "outputs": [],
   "source": [
    "from IPython.display import display, HTML\n",
    "display(HTML(\"<style>.container { width:100% !important; }</style>\"))"
   ]
  },
  {
   "cell_type": "code",
   "execution_count": 10,
   "id": "a0f79d88",
   "metadata": {},
   "outputs": [],
   "source": [
    "import random\n",
    "import time\n",
    "\n",
    "nums = [4, 2, 6, 3, 4, 6, 2, 1]\n",
    "input_numbers = list(range(10000))\n",
    "output_numbers = list(range(500))\n",
    "\n",
    "random.shuffle(input_numbers)\n"
   ]
  },
  {
   "cell_type": "code",
   "execution_count": null,
   "id": "f30e3291",
   "metadata": {},
   "outputs": [],
   "source": []
  },
  {
   "cell_type": "code",
   "execution_count": null,
   "id": "e283ff1e",
   "metadata": {},
   "outputs": [],
   "source": [
    "def bubbleSort(array):\n",
    "    for i in range(len(array)-1):\n",
    "        for j in range(len(array) -1):\n",
    "            if array[j] > array[j+1]:\n",
    "                array[j], array[j+1] = array[j+1], array[j]\n",
    "            \n",
    "    return array"
   ]
  },
  {
   "cell_type": "code",
   "execution_count": null,
   "id": "4e58881f",
   "metadata": {},
   "outputs": [],
   "source": [
    "nums = [4, 2, 6, 3, 4, 6, 2, 1]"
   ]
  },
  {
   "cell_type": "code",
   "execution_count": null,
   "id": "eda08ec8",
   "metadata": {},
   "outputs": [],
   "source": [
    "import time\n",
    "\n",
    "start_time = time.process_time()\n",
    "bubbleSort(nums)\n",
    "print(time.process_time() - start_time, \"seconds\")"
   ]
  },
  {
   "cell_type": "markdown",
   "id": "7b213f91",
   "metadata": {},
   "source": [
    "#### _Analyze the algorithm's complexity and identify inefficiencies_"
   ]
  },
  {
   "cell_type": "code",
   "execution_count": null,
   "id": "a1c90e80",
   "metadata": {},
   "outputs": [],
   "source": [
    "def bubbleSort(array):\n",
    "    for i in range(len(array)-1):\n",
    "        swapped = False\n",
    "        for j in range(len(array) -1 -i):\n",
    "            if array[j] > array[j+1]:\n",
    "                array[j], array[j+1] = array[j+1], array[j]\n",
    "                swapped = True\n",
    "        if not swapped:\n",
    "            break\n",
    "    return array"
   ]
  },
  {
   "cell_type": "code",
   "execution_count": null,
   "id": "205f9086",
   "metadata": {},
   "outputs": [],
   "source": []
  },
  {
   "cell_type": "code",
   "execution_count": null,
   "id": "b76c4a1f",
   "metadata": {},
   "outputs": [],
   "source": [
    "start_time = time.process_time()\n",
    "bubbleSort(input_numbers)\n",
    "print(time.process_time() - start_time, \"seconds\")"
   ]
  },
  {
   "cell_type": "code",
   "execution_count": null,
   "id": "4af0ac8f",
   "metadata": {},
   "outputs": [],
   "source": []
  },
  {
   "cell_type": "code",
   "execution_count": null,
   "id": "95876c8d",
   "metadata": {},
   "outputs": [],
   "source": []
  },
  {
   "cell_type": "markdown",
   "id": "f08c8f7e",
   "metadata": {},
   "source": [
    "Quicksort is an in-place sorting algorithm. Developed by British computer scientist Tony Hoare in 1959 and published in 1961, it is still a commonly used algorithm for sorting. When implemented well, it can be somewhat faster than merge sort and about two or three times faster than heapsort.\n",
    "\n",
    "Quicksort is a divide-and-conquer algorithm. It works by selecting a 'pivot' element from the array and partitioning the other elements into two sub-arrays, according to whether they are less than or greater than the pivot. For this reason, it is sometimes called partition-exchange sort.The sub-arrays are then sorted recursively. This can be done in-place, requiring small additional amounts of memory to perform the sorting.\n",
    "\n",
    "Quicksort is a comparison sort, meaning that it can sort items of any type for which a \"less-than\" relation (formally, a total order) is defined. Efficient implementations of Quicksort are not a stable sort, meaning that the relative order of equal sort items is not preserved.\n",
    "\n",
    "\n",
    "![](https://upload.wikimedia.org/wikipedia/commons/6/6a/Sorting_quicksort_anim.gif)\n",
    "\n",
    "> Quick sort works on the idea that an element is in sorted position if all the element on the left handside should be smaller than that element and all the element from the right are greater than that element then that element is in a sorted position rest of the element may or may not be sorted. \n",
    "\n",
    "`Time complexity`\n",
    "\n",
    "- O(nlog n) when partition always at the middle\n",
    "\n",
    "- O(n^2) when the list is sorted already\n",
    "\n",
    "`Space complexity`\n",
    "\n",
    "Quick sort uses stack and the size of the stack depend on the height of a tree  \n",
    "\n",
    "- Best-case O(log n )\n",
    "\n",
    "- Worst-case space complexity  O(n)\n",
    "\n",
    "#### Improving Quick Sort`\n",
    "- Always use the middle element as pivot\n",
    "- Select pivot at random"
   ]
  },
  {
   "cell_type": "markdown",
   "id": "e437a610",
   "metadata": {},
   "source": [
    " "
   ]
  },
  {
   "cell_type": "code",
   "execution_count": null,
   "id": "93b2ec8a",
   "metadata": {},
   "outputs": [],
   "source": []
  },
  {
   "cell_type": "code",
   "execution_count": 210,
   "id": "8192988d",
   "metadata": {},
   "outputs": [],
   "source": [
    "def swap(st, end, element):\n",
    "    if st != end:\n",
    "        element[st], element[end] = element[end], element[st]\n",
    "        \n",
    "# __Quick sort algorithms using Hoare partition technique__\n",
    "def partition(elements, start, end):\n",
    "    # keep track of your pivot index for swapping the pivot \n",
    "    pivotIndex = start # 0\n",
    "    # select the first element as your pivot\n",
    "    pivot = elements[start]\n",
    "    \n",
    "    # We keep comparing as long as start < end\n",
    "    while start < end:\n",
    "        \n",
    "        # Increament (start) until you find a element greater than (pivot)\n",
    "        while start < len(elements) and elements[start] <= pivot:\n",
    "            start += 1\n",
    "            \n",
    "        # Decrement (end) until you find element less than (pivot)\n",
    "        while elements[end] > pivot:\n",
    "            end -= 1\n",
    "            \n",
    "        # swap the element[start] with the element[end] as long as (start) and (end) didn't cross each other\n",
    "        if start < end:\n",
    "            swap(start, end, elements)\n",
    "            \n",
    "    # when (end) become greater than (start) then we swap our (pivot) to it's right position\n",
    "    swap(pivotIndex, end, elements)\n",
    "    return end # (end) is the new partion index\n",
    "\n",
    "def quickSort(elements, start, end):\n",
    "    if start < end:\n",
    "        partitionIndex = partition(elements, start, end)\n",
    "        quickSort(elements=elements, start=start, end=partitionIndex-1) # left\n",
    "        quickSort(elements=elements, start=partitionIndex+1, end=end)   # right\n",
    "    return elements"
   ]
  },
  {
   "cell_type": "code",
   "execution_count": 211,
   "id": "fd71768f",
   "metadata": {},
   "outputs": [],
   "source": [
    "nums = [11, 9, 29, 7]"
   ]
  },
  {
   "cell_type": "code",
   "execution_count": 212,
   "id": "8625a9a1",
   "metadata": {},
   "outputs": [
    {
     "data": {
      "text/plain": [
       "[7, 9, 11, 29]"
      ]
     },
     "execution_count": 212,
     "metadata": {},
     "output_type": "execute_result"
    }
   ],
   "source": [
    "quickSort(nums, 0, len(nums)-1)"
   ]
  },
  {
   "cell_type": "markdown",
   "id": "37d6fc0b",
   "metadata": {},
   "source": [
    "### __Quick sort algorithms using Lomuto partition technique__ \n",
    "\n",
    "`The way these algorithms works is as follows`\n",
    "\n",
    "- You pick your last element as your pivot you can take any element as well but we pick last element here.\n",
    "- Your partitionIndex must be your start becasue of recursion at the right handside\n",
    "- Get count that start at 0 and end at len(list)-1 you can use range for these in python  as it perform such for you automatically \n",
    "- If element[count] <= your (pivot)\n",
    "    - we swap the element at element[count] with element[partitionIndex]\n",
    "    - we increament our partionIndex by (1)\n",
    "    - we do these for our count from 0 to len(list)-1\n",
    "- We finally swap element at partitonIndex with our pivot index which is also the (end)\n",
    "- We return our partitonIndex"
   ]
  },
  {
   "cell_type": "code",
   "execution_count": 222,
   "id": "c539c173",
   "metadata": {},
   "outputs": [],
   "source": [
    "def swap(st, end, element):\n",
    "    if st != end:\n",
    "        element[st], element[end] = element[end], element[st]\n",
    "\n",
    "def partition(elements, start, end):\n",
    "    pivot = elements[end]\n",
    "    partitionIndex = start\n",
    "\n",
    "    for index in range(start, end):\n",
    "        if elements[index] <= pivot:\n",
    "            swap(index, partitionIndex, elements)\n",
    "            partitionIndex += 1\n",
    "\n",
    "    swap(partitionIndex, end, elements)\n",
    "    return partitionIndex\n",
    "\n",
    "\n",
    "def quickSort(elements, start, end):\n",
    "    if start < end:\n",
    "        pIndex = partition(elements, start, end)\n",
    "        quickSort(elements=elements, start=start, end=pIndex - 1)  # left\n",
    "        quickSort(elements=elements, start=pIndex + 1, end=end)  # right\n",
    "    return elements"
   ]
  },
  {
   "cell_type": "code",
   "execution_count": 223,
   "id": "d824aba3",
   "metadata": {},
   "outputs": [],
   "source": [
    "num = [11, 9, 29, 7, 2, 15, 28]"
   ]
  },
  {
   "cell_type": "code",
   "execution_count": 224,
   "id": "a67ea627",
   "metadata": {},
   "outputs": [
    {
     "data": {
      "text/plain": [
       "[2, 7, 9, 11, 15, 28, 29]"
      ]
     },
     "execution_count": 224,
     "metadata": {},
     "output_type": "execute_result"
    }
   ],
   "source": [
    "quickSort(elements=num, start=0, end=len(num)-1)"
   ]
  },
  {
   "cell_type": "code",
   "execution_count": null,
   "id": "4f4bae08",
   "metadata": {},
   "outputs": [],
   "source": []
  },
  {
   "cell_type": "code",
   "execution_count": null,
   "id": "d732e045",
   "metadata": {},
   "outputs": [],
   "source": []
  },
  {
   "cell_type": "markdown",
   "id": "be41c309",
   "metadata": {},
   "source": [
    "__Insertion sort is a simple sorting algorithm (Very few lines of code) that is best for small lists. If your array is very big insertion sort might not be the perfect choice as it performs in O(n^2) time complexity.__"
   ]
  },
  {
   "cell_type": "code",
   "execution_count": null,
   "id": "77c16b61",
   "metadata": {},
   "outputs": [],
   "source": [
    "def insertionSort(array):\n",
    "    for i in range(0, len(array)):\n",
    "        current = array[i]\n",
    "        j = i - 1\n",
    "        while j >= 0 and array[j] > current:\n",
    "            array[j + 1] = array[j]\n",
    "            j -= 1       \n",
    "        array[j+1] = current"
   ]
  },
  {
   "cell_type": "code",
   "execution_count": null,
   "id": "64118dc2",
   "metadata": {},
   "outputs": [],
   "source": [
    "insertionSort(input_numbers)"
   ]
  },
  {
   "cell_type": "code",
   "execution_count": null,
   "id": "63860bf1",
   "metadata": {},
   "outputs": [],
   "source": []
  },
  {
   "attachments": {},
   "cell_type": "markdown",
   "id": "546071de",
   "metadata": {},
   "source": [
    "### Merge sort algorithms\n",
    "\n",
    "Merge sort is one of the most efficient sorting algorithms. It is based on the divide-and-conquer strategy. Merge sort continuously cuts down a list into multiple sublists until each has only one item, then merges those sublists into a sorted list\n",
    "\n",
    "<img src=\"https://cdn.programiz.com/cdn/farfuture/PRTu8e23Uz212XPrrzN_uqXkVZVY_E0Ta8GZp61-zvw/mtime:1586425911/sites/tutorial2program/files/merge-sort-example_0.png\" width=\"480\">\n",
    "\n",
    "\n",
    "- Divide the unsorted list into n sublists, each containing one element (a list of one element is considered sorted).\n",
    "- Repeatedly merge sublists to produce new sorted sublists until there is only one sublist remaining. This will be the sorted list.\n",
    "\n",
    "![](https://upload.wikimedia.org/wikipedia/commons/c/cc/Merge-sort-example-300px.gif)\n",
    "\n",
    "\n",
    ">__Time Complexity__\n",
    "\n",
    "`Worst-case performance`\n",
    "\n",
    "__O(nlog n)__\n",
    "\n",
    "`Average performance`\t \n",
    "\n",
    "__O(nlog n)__\n",
    "\n",
    "`Worst-case space complexity`\n",
    "\n",
    "__O(n) total with O(n) auxiliary__\n",
    "\n",
    "__O(1) auxiliary with linked lists__"
   ]
  },
  {
   "cell_type": "code",
   "execution_count": 23,
   "id": "bfba6173",
   "metadata": {},
   "outputs": [],
   "source": [
    "# Algorithms for merging two sorted array or list \n",
    "def merge(a, b):\n",
    "    merged = []\n",
    "    i = j = 0\n",
    "    while i < len(a) and j < len(b):\n",
    "        if a[i] <= b[j]:\n",
    "            merged.append(a[i])\n",
    "            i += 1\n",
    "        else:\n",
    "            merged.append(b[j])\n",
    "            j += 1 \n",
    "    aTail = a[i:] # rest of the element from the left \n",
    "    bTail = b[j:] # rest of the element from the right \n",
    "    return merged + aTail + bTail       "
   ]
  },
  {
   "cell_type": "code",
   "execution_count": 24,
   "id": "c77f8e3a",
   "metadata": {},
   "outputs": [],
   "source": [
    "def mergeSort(array):\n",
    "    # base case if len of our array is one we stop and start comparing and merging\n",
    "    if len(array) <= 1:\n",
    "        return array\n",
    "    mid = len(array) // 2\n",
    "    # recursive call on both left and right of the array\n",
    "    return merge(mergeSort(array[:mid]), mergeSort(array[mid:]))"
   ]
  },
  {
   "cell_type": "code",
   "execution_count": null,
   "id": "841878b9",
   "metadata": {},
   "outputs": [],
   "source": [
    "numbers = [-74, 48, -20, 2, 10, -84, -5]\n",
    "mergeSort(numbers)"
   ]
  },
  {
   "cell_type": "code",
   "execution_count": null,
   "id": "5633bf42",
   "metadata": {},
   "outputs": [],
   "source": []
  },
  {
   "cell_type": "markdown",
   "id": "f9f82d62",
   "metadata": {},
   "source": [
    "Shell sort is a customization over insertion sort. Insertion sort requires many swaps and comparisons if heavy elements are located towards the end of an array. Shell sort will initially sort subarrays that are equal distance apart. The distance here is referred to as a gap. We will than keep on reducing the gap until it is 1. With gap=1 it becomes insertion sort but this time due to optimization we have performed earlier, sorting the array would require very less  comparisons and element swaps."
   ]
  },
  {
   "cell_type": "code",
   "execution_count": 58,
   "id": "50439300",
   "metadata": {},
   "outputs": [],
   "source": [
    "def shellSort(array):\n",
    "    size = len(array)\n",
    "    gab = size // 2\n",
    "\n",
    "    while gab > 0:\n",
    "        for i in range(gab, size):\n",
    "            current = array[i]\n",
    "            j = i\n",
    "\n",
    "            while j >= gab and array[j - gab] > current:\n",
    "                array[j] = array[j - gab]\n",
    "                j -= gab\n",
    "            array[j] = current\n",
    "            \n",
    "        gab = gab // 2"
   ]
  },
  {
   "cell_type": "code",
   "execution_count": 59,
   "id": "e7917d64",
   "metadata": {},
   "outputs": [
    {
     "data": {
      "text/plain": [
       "[1, 4, 7, 9, 11]"
      ]
     },
     "execution_count": 59,
     "metadata": {},
     "output_type": "execute_result"
    }
   ],
   "source": [
    "num = [7, 4, 1, 9, 11]\n",
    "shellSort(num)\n",
    "num"
   ]
  },
  {
   "cell_type": "markdown",
   "id": "8c2dcf61",
   "metadata": {},
   "source": [
    "Selection sort is a simple algorithm for sorting, it gives o(n^2) BIG O complexity. In this video we will go over some theory behind selection sort and implement in python. At the end of the video we will have an exercise for you to solve."
   ]
  },
  {
   "cell_type": "code",
   "execution_count": 93,
   "id": "61ab45b5",
   "metadata": {},
   "outputs": [],
   "source": [
    "def selectionSort(array):\n",
    "    size = len(array)\n",
    "\n",
    "    for i in range(size):\n",
    "        minIndex = i\n",
    "        for j in range(minIndex + 1, size):\n",
    "            if array[j] < array[minIndex]:\n",
    "                minIndex = j\n",
    "        array[i], array[minIndex] = array[minIndex], array[i]"
   ]
  },
  {
   "cell_type": "code",
   "execution_count": 94,
   "id": "f733ce43",
   "metadata": {},
   "outputs": [],
   "source": [
    "num = [7, 4, 1, 9, 11]\n",
    "selectionSort(num)"
   ]
  },
  {
   "cell_type": "code",
   "execution_count": 95,
   "id": "f0771657",
   "metadata": {},
   "outputs": [
    {
     "data": {
      "text/plain": [
       "[1, 4, 7, 9, 11]"
      ]
     },
     "execution_count": 95,
     "metadata": {},
     "output_type": "execute_result"
    }
   ],
   "source": [
    "num"
   ]
  },
  {
   "cell_type": "code",
   "execution_count": null,
   "id": "e1df1d2d",
   "metadata": {},
   "outputs": [],
   "source": []
  },
  {
   "cell_type": "code",
   "execution_count": null,
   "id": "08ed811f",
   "metadata": {},
   "outputs": [],
   "source": []
  }
 ],
 "metadata": {
  "kernelspec": {
   "display_name": "Python 3 (ipykernel)",
   "language": "python",
   "name": "python3"
  },
  "language_info": {
   "codemirror_mode": {
    "name": "ipython",
    "version": 3
   },
   "file_extension": ".py",
   "mimetype": "text/x-python",
   "name": "python",
   "nbconvert_exporter": "python",
   "pygments_lexer": "ipython3",
   "version": "3.9.7"
  }
 },
 "nbformat": 4,
 "nbformat_minor": 5
}

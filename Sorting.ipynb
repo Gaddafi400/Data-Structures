{
 "cells": [
  {
   "cell_type": "code",
   "execution_count": 50,
   "id": "a0f79d88",
   "metadata": {},
   "outputs": [],
   "source": [
    "import random\n",
    "import time\n",
    "\n",
    "nums = [4, 2, 6, 3, 4, 6, 2, 1]\n",
    "input_numbers = list(range(10000))\n",
    "output_numbers = list(range(500))\n",
    "\n",
    "random.shuffle(input_numbers)"
   ]
  },
  {
   "cell_type": "code",
   "execution_count": null,
   "id": "f30e3291",
   "metadata": {},
   "outputs": [],
   "source": []
  },
  {
   "cell_type": "markdown",
   "id": "85d7047d",
   "metadata": {},
   "source": [
    "### Bubble sort\n",
    "Bubble sort, sometimes referred to as sinking sort, is a simple sorting algorithm that repeatedly steps through the list, compares (adjacent elements) and swaps them if they are in the wrong order. The pass through the list is repeated until the list is sorted. The algorithm, which is a comparison sort, is named for the way smaller or larger elements \"bubble\" to the top of the list.\n",
    "\n",
    "This simple algorithm performs poorly in real world use and is used primarily as an educational tool. More efficient algorithms such as quicksort, timsort, or merge sort are used by the sorting libraries built into popular programming languages such as Python and Java\n",
    "\n",
    "![](https://upload.wikimedia.org/wikipedia/commons/c/c8/Bubble-sort-example-300px.gif)\n",
    "\n",
    "`Time compexity and space compexity`\n",
    "- Worst-case performance  O(n^2)\n",
    "\n",
    "- Best-case performance\tO(n) \n",
    "\n",
    "- Worst-case space complexity O(n)"
   ]
  },
  {
   "cell_type": "code",
   "execution_count": null,
   "id": "e283ff1e",
   "metadata": {},
   "outputs": [],
   "source": [
    "def bubbleSort(array):\n",
    "    lenght = len(array)-1\n",
    "    for _ in range(lenght):\n",
    "        for i in range(lenght):\n",
    "            if array[i] > array[i+1]:\n",
    "                # if array[i] > array[i+1] we swap the values \n",
    "                array[i], array[i+1] = array[i+1], array[i]\n",
    "    return array"
   ]
  },
  {
   "cell_type": "code",
   "execution_count": null,
   "id": "4e58881f",
   "metadata": {},
   "outputs": [],
   "source": [
    "nums = [4, -2, 6, 3, 4, 6, 12, 100]"
   ]
  },
  {
   "cell_type": "code",
   "execution_count": null,
   "id": "eda08ec8",
   "metadata": {},
   "outputs": [],
   "source": [
    "import time\n",
    "\n",
    "start_time = time.process_time()\n",
    "print(bubbleSort(nums))\n",
    "print(time.process_time() - start_time, \"seconds\")"
   ]
  },
  {
   "cell_type": "markdown",
   "id": "7b213f91",
   "metadata": {},
   "source": [
    "#### _Analyze the algorithm's complexity and identify inefficiencies_"
   ]
  },
  {
   "cell_type": "code",
   "execution_count": null,
   "id": "a1c90e80",
   "metadata": {},
   "outputs": [],
   "source": [
    "def bubbleSort(array):\n",
    "    for i in range(len(array)-1):\n",
    "        swapped = False\n",
    "        for j in range(len(array) -1 -i):\n",
    "            if array[j] > array[j+1]:\n",
    "                array[j], array[j+1] = array[j+1], array[j]\n",
    "                swapped = True\n",
    "        if not swapped:\n",
    "            break\n",
    "    return array"
   ]
  },
  {
   "cell_type": "code",
   "execution_count": null,
   "id": "205f9086",
   "metadata": {},
   "outputs": [],
   "source": []
  },
  {
   "cell_type": "code",
   "execution_count": null,
   "id": "b76c4a1f",
   "metadata": {},
   "outputs": [],
   "source": [
    "start_time = time.process_time()\n",
    "bubbleSort(input_numbers)\n",
    "print(time.process_time() - start_time, \"seconds\")"
   ]
  },
  {
   "cell_type": "code",
   "execution_count": null,
   "id": "17ec4994",
   "metadata": {},
   "outputs": [],
   "source": []
  },
  {
   "cell_type": "markdown",
   "id": "be41c309",
   "metadata": {},
   "source": [
    "### Insertion sort\n",
    "Insertion sort is a simple sorting algorithm that builds the final sorted array (or list) one item at a time. It is much less efficient on large lists than more advanced algorithms such as quicksort, heapsort, or merge sort. However, insertion sort provides several advantages:\n",
    "![](https://upload.wikimedia.org/wikipedia/commons/4/42/Insertion_sort.gif)\n",
    "\n",
    "- Simple implementation\n",
    "- Efficient for (quite) small data sets, much like other quadratic sorting algorithms\n",
    "- More efficient in practice than most other simple quadratic (i.e., O(n2)) algorithms such as selection sort or bubble sort\n",
    "- Adaptive, i.e., efficient for data sets that are already substantially sorted: the time complexity is O(kn) when each element in the input is no more than k places away from its sorted position\n",
    "- Stable; i.e., does not change the relative order of elements with equal keys\n",
    "- In-place; i.e., only requires a constant amount O(1) of additional memory space\n",
    "- Online; i.e., can sort a list as it receives it\n",
    "- When people manually sort cards in a bridge hand, most use a method that is similar to insertion sort\n",
    " "
   ]
  },
  {
   "cell_type": "code",
   "execution_count": 16,
   "id": "77c16b61",
   "metadata": {},
   "outputs": [],
   "source": [
    "\"\"\"\n",
    "- Assume first element is sorted  \n",
    "- Start with the second element \n",
    "- Take one element at a time\n",
    "- And try to put it in a sorted array on the left hand side in a right order\n",
    "- Current element should be your current index\n",
    "- Since we are going on left hand side\n",
    "- Left hand side should be element less than current index minus 1\n",
    "- Compare left element with current if is greater we swap it with the left element\n",
    "- Update left element with current element\n",
    "\"\"\"\n",
    "def insertionSort(array):\n",
    "    for index in range(1, len(array)):\n",
    "        current = array[index]\n",
    "        leftPosition = index - 1\n",
    "        while leftPosition >= 0 and array[leftPosition] > current:\n",
    "            array[leftPosition + 1] = array[leftPosition]\n",
    "            leftPosition -= 1\n",
    "        array[leftPosition + 1] = current"
   ]
  },
  {
   "cell_type": "code",
   "execution_count": 33,
   "id": "95876c8d",
   "metadata": {},
   "outputs": [],
   "source": [
    "nums = [99, 4, -2, 6, 3, 4, 6, 12, 100]\n",
    "insertionSort(nums)"
   ]
  },
  {
   "cell_type": "code",
   "execution_count": 22,
   "id": "3468ba2a",
   "metadata": {},
   "outputs": [
    {
     "data": {
      "text/plain": [
       "[99, 4, -2, 6, 3, 4, 6, 12, 100]"
      ]
     },
     "execution_count": 22,
     "metadata": {},
     "output_type": "execute_result"
    }
   ],
   "source": [
    "nums"
   ]
  },
  {
   "cell_type": "code",
   "execution_count": null,
   "id": "f3fed0d4",
   "metadata": {},
   "outputs": [],
   "source": []
  },
  {
   "cell_type": "markdown",
   "id": "f9f82d62",
   "metadata": {},
   "source": [
    "### Shell sort\n",
    "\n",
    "Shell sort algorithm is very similar to that of the Insertion sort algorithm. In case of Insertion sort, we move elements one position ahead to insert an element at its correct position. Whereas here, Shell sort starts by sorting pairs of elements far apart from each other, then progressively reducing the gap between elements to be compared. Starting with far apart elements, it can move some out-of-place elements into the position faster than a simple nearest-neighbor exchange.\n",
    "\n",
    "Shell sort is a highly efficient sorting algorithm. This algorithm avoids large shifts as in case of insertion sort, if the smaller value is to the far right and has to be moved to the far left\n",
    "\n",
    "<img src=\"https://i1.faceprep.in/fp/articles/img/86479_1580558341.png\" width=\"600\">"
   ]
  },
  {
   "cell_type": "code",
   "execution_count": 9,
   "id": "50439300",
   "metadata": {},
   "outputs": [],
   "source": [
    "def shellSort(array):\n",
    "    size = len(array)\n",
    "    gab = size // 2\n",
    "\n",
    "    while gab > 0:\n",
    "        for index in range(gab, size):\n",
    "            current = array[index]\n",
    "            leftPosition = index\n",
    "\n",
    "            while leftPosition >= gab and array[leftPosition - gab] > current:\n",
    "                array[leftPosition] = array[leftPosition - gab]\n",
    "                leftPosition -= gab\n",
    "            array[leftPosition] = current\n",
    "        gab = gab // 2"
   ]
  },
  {
   "cell_type": "code",
   "execution_count": 30,
   "id": "f77ec747",
   "metadata": {},
   "outputs": [],
   "source": [
    "num = [3, 4, 7, 1, 8, 5]\n",
    "shellSort(input_numbers)"
   ]
  },
  {
   "cell_type": "code",
   "execution_count": null,
   "id": "166c92ae",
   "metadata": {},
   "outputs": [],
   "source": []
  },
  {
   "cell_type": "markdown",
   "id": "1d8436a3",
   "metadata": {},
   "source": [
    "### Quicksort\n",
    "Quicksort is an in-place sorting algorithm. Developed by British computer scientist Tony Hoare in 1959 and published in 1961, it is still a commonly used algorithm for sorting. When implemented well, it can be somewhat faster than merge sort and about two or three times faster than heapsort.\n",
    "\n",
    "Quicksort is a divide-and-conquer algorithm. It works by selecting a 'pivot' element from the array and partitioning the other elements into two sub-arrays, according to whether they are less than or greater than the pivot. For this reason, it is sometimes called partition-exchange sort.The sub-arrays are then sorted recursively. This can be done in-place, requiring small additional amounts of memory to perform the sorting.\n",
    "\n",
    "Quicksort is a comparison sort, meaning that it can sort items of any type for which a \"less-than\" relation (formally, a total order) is defined. Efficient implementations of Quicksort are not a stable sort, meaning that the relative order of equal sort items is not preserved.\n",
    "\n",
    "\n",
    "![](https://upload.wikimedia.org/wikipedia/commons/6/6a/Sorting_quicksort_anim.gif)\n",
    "\n",
    "> Quick sort works on the idea that an element is in sorted position if all the element on the left handside should be smaller than that element and all the element from the right are greater than that element then that element is in a sorted position rest of the element may or may not be sorted. \n",
    "\n",
    "`Time complexity`\n",
    "\n",
    "- O(nlog n) when partition always at the middle\n",
    "\n",
    "- O(n^2) when the list is sorted already\n",
    "\n",
    "`Space complexity`\n",
    "\n",
    "Quick sort uses stack and the size of the stack depend on the height of a tree  \n",
    "\n",
    "- Best-case O(log n )\n",
    "\n",
    "- Worst-case space complexity  O(n)\n",
    "\n",
    "#### Improving Quick Sort`\n",
    "- Always use the middle element as pivot\n",
    "- Select pivot at random"
   ]
  },
  {
   "cell_type": "markdown",
   "id": "e437a610",
   "metadata": {},
   "source": [
    " "
   ]
  },
  {
   "cell_type": "code",
   "execution_count": null,
   "id": "ae0c5e6f",
   "metadata": {},
   "outputs": [],
   "source": []
  },
  {
   "cell_type": "code",
   "execution_count": 36,
   "id": "8192988d",
   "metadata": {},
   "outputs": [],
   "source": [
    "def swap(st, end, element):\n",
    "    if st != end:\n",
    "        element[st], element[end] = element[end], element[st]\n",
    "        \n",
    "# __Quick sort algorithms using Hoare partition technique__\n",
    "def partition(elements, start, end):\n",
    "    # keep track of your pivot index for swapping the pivot \n",
    "    pivotIndex = start # 0\n",
    "    # select the first element as your pivot\n",
    "    pivot = elements[start]\n",
    "    \n",
    "    # We keep comparing as long as start < end\n",
    "    while start < end:\n",
    "        \n",
    "        # Increament (start) until you find a element greater than (pivot)\n",
    "        while start < len(elements) and elements[start] <= pivot:\n",
    "            start += 1\n",
    "            \n",
    "        # Decrement (end) until you find element less than (pivot)\n",
    "        while elements[end] > pivot:\n",
    "            end -= 1\n",
    "            \n",
    "        # swap the element[start] with the element[end] as long as (start) and (end) didn't cross each other\n",
    "        if start < end:\n",
    "            swap(start, end, elements)\n",
    "            \n",
    "    # when (end) become greater than (start) then we swap our (pivot) to it's right position\n",
    "    swap(pivotIndex, end, elements)\n",
    "    return end # (end) is the new partion index\n",
    "\n",
    "def quickSort(elements, start, end):\n",
    "    if start < end:\n",
    "        partitionIndex = partition(elements, start, end)\n",
    "        quickSort(elements=elements, start=start, end=partitionIndex-1) # left\n",
    "        quickSort(elements=elements, start=partitionIndex+1, end=end)   # right\n",
    "    return elements"
   ]
  },
  {
   "cell_type": "code",
   "execution_count": 39,
   "id": "fd71768f",
   "metadata": {},
   "outputs": [],
   "source": [
    "nums = [11, 9, 29, 7]"
   ]
  },
  {
   "cell_type": "code",
   "execution_count": 40,
   "id": "8625a9a1",
   "metadata": {},
   "outputs": [
    {
     "data": {
      "text/plain": [
       "[7, 9, 11, 29]"
      ]
     },
     "execution_count": 40,
     "metadata": {},
     "output_type": "execute_result"
    }
   ],
   "source": [
    "quickSort(nums, 0, len(nums)-1)"
   ]
  },
  {
   "cell_type": "markdown",
   "id": "37d6fc0b",
   "metadata": {},
   "source": [
    "### __Quick sort algorithms using Lomuto partition technique__ \n",
    "\n",
    "`The way these algorithms works is as follows`\n",
    "\n",
    "- You pick your last element as your pivot you can take any element as well but we pick last element here.\n",
    "- Your partitionIndex must be your start becasue of recursion at the right handside\n",
    "- Get count that start at 0 and end at len(list)-1 you can use range for these in python  as it perform such for you automatically \n",
    "- Ignoring the last element as is your pivot\n",
    "- If element[count] <= your (pivot)\n",
    "    - we swap the element at element[count] with element[partitionIndex]\n",
    "    - we increament our partionIndex by (1)\n",
    "    - we do these for our count from 0 to len(list)-1\n",
    "- We finally swap element at partitonIndex with our pivot index which is also the (end)\n",
    "- We return our partitonIndex"
   ]
  },
  {
   "cell_type": "code",
   "execution_count": null,
   "id": "c539c173",
   "metadata": {},
   "outputs": [],
   "source": [
    "def swap(st, end, element):\n",
    "    if st != end:\n",
    "        element[st], element[end] = element[end], element[st]\n",
    "\n",
    "def partition(elements, start, end):\n",
    "    pivot = elements[end]\n",
    "    partitionIndex = start\n",
    "\n",
    "    for index in range(start, end):\n",
    "        if elements[index] <= pivot:\n",
    "            swap(index, partitionIndex, elements)\n",
    "            partitionIndex += 1\n",
    "\n",
    "    swap(partitionIndex, end, elements)\n",
    "    return partitionIndex\n",
    "\n",
    "\n",
    "def quickSort(elements, start, end):\n",
    "    if start < end:\n",
    "        pIndex = partition(elements, start, end)\n",
    "        quickSort(elements=elements, start=start, end=pIndex - 1)  # left\n",
    "        quickSort(elements=elements, start=pIndex + 1, end=end)  # right\n",
    "    return elements"
   ]
  },
  {
   "cell_type": "code",
   "execution_count": null,
   "id": "d824aba3",
   "metadata": {},
   "outputs": [],
   "source": [
    "num = [11, 9, 29, 7, 2, 15, 28]"
   ]
  },
  {
   "cell_type": "code",
   "execution_count": null,
   "id": "a67ea627",
   "metadata": {},
   "outputs": [],
   "source": [
    "quickSort(elements=num, start=0, end=len(num)-1)"
   ]
  },
  {
   "cell_type": "code",
   "execution_count": null,
   "id": "64118dc2",
   "metadata": {},
   "outputs": [],
   "source": []
  },
  {
   "attachments": {},
   "cell_type": "markdown",
   "id": "546071de",
   "metadata": {},
   "source": [
    "### Merge sort algorithms\n",
    "\n",
    "Merge sort is one of the most efficient sorting algorithms. It is based on the divide-and-conquer strategy. Merge sort continuously cuts down a list into multiple sublists until each has only one item, then merges those sublists into a sorted list\n",
    "\n",
    "<img src=\"https://cdn.programiz.com/cdn/farfuture/PRTu8e23Uz212XPrrzN_uqXkVZVY_E0Ta8GZp61-zvw/mtime:1586425911/sites/tutorial2program/files/merge-sort-example_0.png\" width=\"480\">\n",
    "\n",
    "\n",
    "- Divide the unsorted list into n sublists, each containing one element (a list of one element is considered sorted).\n",
    "- Repeatedly merge sublists to produce new sorted sublists until there is only one sublist remaining. This will be the sorted list.\n",
    "\n",
    "![](https://upload.wikimedia.org/wikipedia/commons/c/cc/Merge-sort-example-300px.gif)\n",
    "\n",
    "\n",
    ">__Time Complexity__\n",
    "\n",
    "`Worst-case performance`\n",
    "\n",
    "__O(nlog n)__\n",
    "\n",
    "`Average performance`\t \n",
    "\n",
    "__O(nlog n)__\n",
    "\n",
    "`Worst-case space complexity`\n",
    "\n",
    "__O(n) total with O(n) auxiliary__\n",
    "\n",
    "__O(1) auxiliary with linked lists__"
   ]
  },
  {
   "cell_type": "code",
   "execution_count": 42,
   "id": "bfba6173",
   "metadata": {},
   "outputs": [],
   "source": [
    "# Algorithms for merging two sorted array or list \n",
    "def merge(a, b):\n",
    "    merged = []\n",
    "    i = j = 0\n",
    "    while i < len(a) and j < len(b):\n",
    "        if a[i] <= b[j]:\n",
    "            merged.append(a[i])\n",
    "            i += 1\n",
    "        else:\n",
    "            merged.append(b[j])\n",
    "            j += 1 \n",
    "    aTail = a[i:] # rest of the element from the left \n",
    "    bTail = b[j:] # rest of the element from the right \n",
    "    return merged + aTail + bTail       "
   ]
  },
  {
   "cell_type": "code",
   "execution_count": 43,
   "id": "c77f8e3a",
   "metadata": {},
   "outputs": [],
   "source": [
    "def mergeSort(array):\n",
    "    # base case if len of our array is one we stop and start comparing and merging\n",
    "    if len(array) <= 1:\n",
    "        return array\n",
    "    mid = len(array) // 2\n",
    "    # recursive call on both left and right of the array\n",
    "    return merge(mergeSort(array[:mid]), mergeSort(array[mid:]))"
   ]
  },
  {
   "cell_type": "code",
   "execution_count": 49,
   "id": "841878b9",
   "metadata": {},
   "outputs": [
    {
     "data": {
      "text/plain": [
       "[-84, -74, -20, -5, 2, 10, 48]"
      ]
     },
     "execution_count": 49,
     "metadata": {},
     "output_type": "execute_result"
    }
   ],
   "source": [
    "numbers = [-74, 48, -20, 2, 10, -84, -5]\n",
    "mergeSort(numbers)"
   ]
  },
  {
   "cell_type": "code",
   "execution_count": null,
   "id": "5633bf42",
   "metadata": {},
   "outputs": [],
   "source": []
  },
  {
   "cell_type": "markdown",
   "id": "8c2dcf61",
   "metadata": {},
   "source": [
    "###  Selection Sort\n",
    "\n",
    "Selection sort is an in-place comparison sorting algorithm. It has an O(n2) time complexity, which makes it inefficient on large lists, and generally performs worse than the similar insertion sort. Selection sort is noted for its simplicity and has performance advantages over more complicated algorithms in certain situations, particularly where auxiliary memory is limited.\n",
    "\n",
    "![](https://upload.wikimedia.org/wikipedia/commons/9/94/Selection-Sort-Animation.gif)\n",
    "\n",
    "The algorithm divides the input list into two parts: a sorted sublist of items which is built up from left to right at the front (left) of the list and a sublist of the remaining unsorted items that occupy the rest of the list. Initially, the sorted sublist is empty and the unsorted sublist is the entire input list. The algorithm proceeds by finding the smallest (or largest, depending on sorting order) element in the unsorted sublist, exchanging (swapping) it with the leftmost unsorted element (putting it in sorted order), and moving the sublist boundaries one element to the right.\n",
    "\n",
    "The time efficiency of selection sort is quadratic, so there are a number of sorting techniques which have better time complexity than selection sort. One thing which distinguishes selection sort from other sorting algorithms is that it makes the minimum possible number of swaps, n − 1 in the worst case.\n",
    "\n",
    "<img src=\"https://miro.medium.com/max/1400/1*MJ1hJLG58QS8REhXkuo_Hg.jpeg\" width=500>"
   ]
  },
  {
   "cell_type": "code",
   "execution_count": 52,
   "id": "61ab45b5",
   "metadata": {},
   "outputs": [],
   "source": [
    "def selectionSort(array):\n",
    "    size = len(array)\n",
    "    for i in range(size):\n",
    "        minIndex = i\n",
    "        for j in range(minIndex + 1, size):\n",
    "            if array[j] < array[minIndex]:\n",
    "                minIndex = j\n",
    "        array[i], array[minIndex] = array[minIndex], array[i]"
   ]
  },
  {
   "cell_type": "code",
   "execution_count": 53,
   "id": "f733ce43",
   "metadata": {},
   "outputs": [],
   "source": [
    "num = [7, 4, 1, 9, 11]\n",
    "selectionSort(input_numbers)"
   ]
  },
  {
   "cell_type": "code",
   "execution_count": null,
   "id": "f0771657",
   "metadata": {},
   "outputs": [],
   "source": [
    "num"
   ]
  }
 ],
 "metadata": {
  "kernelspec": {
   "display_name": "Python 3 (ipykernel)",
   "language": "python",
   "name": "python3"
  },
  "language_info": {
   "codemirror_mode": {
    "name": "ipython",
    "version": 3
   },
   "file_extension": ".py",
   "mimetype": "text/x-python",
   "name": "python",
   "nbconvert_exporter": "python",
   "pygments_lexer": "ipython3",
   "version": "3.9.7"
  }
 },
 "nbformat": 4,
 "nbformat_minor": 5
}

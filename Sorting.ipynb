{
 "cells": [
  {
   "cell_type": "markdown",
   "id": "50bd792a",
   "metadata": {},
   "source": [
    "**Bubble sort algorithms** "
   ]
  },
  {
   "cell_type": "code",
   "execution_count": null,
   "id": "79dcd0af",
   "metadata": {},
   "outputs": [],
   "source": [
    "from IPython.display import display, HTML\n",
    "display(HTML(\"<style>.container { width:100% !important; }</style>\"))"
   ]
  },
  {
   "cell_type": "code",
   "execution_count": 10,
   "id": "a0f79d88",
   "metadata": {},
   "outputs": [],
   "source": [
    "import random\n",
    "import time\n",
    "\n",
    "nums = [4, 2, 6, 3, 4, 6, 2, 1]\n",
    "input_numbers = list(range(10000))\n",
    "output_numbers = list(range(500))\n",
    "\n",
    "random.shuffle(input_numbers)\n"
   ]
  },
  {
   "cell_type": "code",
   "execution_count": null,
   "id": "f30e3291",
   "metadata": {},
   "outputs": [],
   "source": [
    "tests = [\n",
    "    \n",
    "    # test0 List of numbers in random order \n",
    "    {\n",
    "        'input': {\n",
    "            'nums': [4, 2, 6, 3, 4, 6, 2, 1]\n",
    "        },\n",
    "        'output': [1, 2, 2, 3, 4, 4, 6, 6]\n",
    "    },\n",
    "    \n",
    "#     # test1 List of numbers in random order\n",
    "#     {\n",
    "#         'input': {\n",
    "#             'nums': [5, 2, 6, 1, 23, 7, -12, 12, -243, 0]\n",
    "#         },\n",
    "#         'output': [-243, -12, 0, 1, 2, 5, 6, 7, 12, 23]\n",
    "#     },\n",
    "    \n",
    "#     # test2 A list that's already sorted\n",
    "#     {\n",
    "#         'input': {\n",
    "#             'nums': [3, 5, 6, 8, 9, 10, 99]\n",
    "#         },\n",
    "#         'output': [3, 5, 6, 8, 9, 10, 99]\n",
    "#     },\n",
    "    \n",
    "#     # test3 A list that's sorted in descending order\n",
    "#     {\n",
    "#         'input': {\n",
    "#             'nums': [99, 10, 9, 8, 6, 5, 3]\n",
    "#         },\n",
    "#         'output': [3, 5, 6, 8, 9, 10, 99]\n",
    "#     },\n",
    "    \n",
    "#     # test4 A list containing repeating elements\n",
    "#     {\n",
    "#         'input': {\n",
    "#             'nums': [5, -12, 2, 6, 1, 23, 7, 7, -12, 6, 12, 1, -243, 1, 0]\n",
    "#         },\n",
    "#         'output': [-243, -12, -12, 0, 1, 1, 1, 2, 5, 6, 6, 7, 7, 12, 23]\n",
    "#     },\n",
    "\n",
    "#     # test5 A list containing just one element\n",
    "#     {\n",
    "#         'input': {\n",
    "#             'nums': []\n",
    "#         },\n",
    "#         'output': []\n",
    "#     },\n",
    "    \n",
    "#     # test6 A list containing just one element\n",
    "#     {\n",
    "#         'input': {\n",
    "#             'nums': [23]\n",
    "#         },\n",
    "#         'output': [23]\n",
    "#     },\n",
    "    \n",
    "#     # test7 A list containing one element repeated many times\n",
    "#     {\n",
    "#         'input': {\n",
    "#             'nums': [42, 42, 42, 42, 42, 42, 42]\n",
    "#         },\n",
    "#         'output': [42, 42, 42, 42, 42, 42, 42]\n",
    "#     },\n",
    "    \n",
    "#     # test8 To create the final test case (a really long list), we can start with a sorted list created using `range` and shuffle it to create the input.\n",
    "#     {\n",
    "#         'input': {\n",
    "#             'nums': input_numbers\n",
    "#         },\n",
    "#         'output': output_numbers\n",
    "#     }\n",
    "]"
   ]
  },
  {
   "cell_type": "code",
   "execution_count": null,
   "id": "56597ac8",
   "metadata": {},
   "outputs": [],
   "source": []
  },
  {
   "cell_type": "code",
   "execution_count": null,
   "id": "e283ff1e",
   "metadata": {},
   "outputs": [],
   "source": [
    "def bubbleSort(array):\n",
    "    for i in range(len(array)-1):\n",
    "        for j in range(len(array) -1):\n",
    "            if array[j] > array[j+1]:\n",
    "                array[j], array[j+1] = array[j+1], array[j]\n",
    "            \n",
    "    return array"
   ]
  },
  {
   "cell_type": "code",
   "execution_count": null,
   "id": "4e58881f",
   "metadata": {},
   "outputs": [],
   "source": [
    "nums = [4, 2, 6, 3, 4, 6, 2, 1]"
   ]
  },
  {
   "cell_type": "code",
   "execution_count": null,
   "id": "eda08ec8",
   "metadata": {},
   "outputs": [],
   "source": [
    "import time\n",
    "\n",
    "start_time = time.process_time()\n",
    "bubbleSort(nums)\n",
    "print(time.process_time() - start_time, \"seconds\")"
   ]
  },
  {
   "cell_type": "markdown",
   "id": "7b213f91",
   "metadata": {},
   "source": [
    "#### _Analyze the algorithm's complexity and identify inefficiencies_"
   ]
  },
  {
   "cell_type": "code",
   "execution_count": null,
   "id": "a1c90e80",
   "metadata": {},
   "outputs": [],
   "source": [
    "def bubbleSort(array):\n",
    "    for i in range(len(array)-1):\n",
    "        swapped = False\n",
    "        for j in range(len(array) -1 -i):\n",
    "            if array[j] > array[j+1]:\n",
    "                array[j], array[j+1] = array[j+1], array[j]\n",
    "                swapped = True\n",
    "        if not swapped:\n",
    "            break\n",
    "    return array"
   ]
  },
  {
   "cell_type": "code",
   "execution_count": null,
   "id": "205f9086",
   "metadata": {},
   "outputs": [],
   "source": []
  },
  {
   "cell_type": "code",
   "execution_count": null,
   "id": "b76c4a1f",
   "metadata": {},
   "outputs": [],
   "source": [
    "start_time = time.process_time()\n",
    "bubbleSort(input_numbers)\n",
    "print(time.process_time() - start_time, \"seconds\")"
   ]
  },
  {
   "cell_type": "code",
   "execution_count": null,
   "id": "95876c8d",
   "metadata": {},
   "outputs": [],
   "source": []
  },
  {
   "cell_type": "code",
   "execution_count": null,
   "id": "6bff9c3e",
   "metadata": {},
   "outputs": [],
   "source": []
  },
  {
   "cell_type": "markdown",
   "id": "e437a610",
   "metadata": {},
   "source": [
    "__Quick sort algorithms using Hoare partition technique__ "
   ]
  },
  {
   "cell_type": "code",
   "execution_count": null,
   "id": "8192988d",
   "metadata": {},
   "outputs": [],
   "source": [
    "def swap(st, end, element):\n",
    "    if st != end:\n",
    "        element[st], element[end] = element[end], element[st]\n",
    "        \n",
    "\n",
    "def partition(elements, start, end):\n",
    "    pivotIndex = start\n",
    "    pivot = elements[pivotIndex]\n",
    "    \n",
    "    \n",
    "    while start < end:\n",
    "        while start < len(elements) and elements[start] <= pivot:\n",
    "            start += 1\n",
    "\n",
    "        while elements[end] > pivot:\n",
    "            end -= 1\n",
    "        \n",
    "        if start < end:\n",
    "            swap(start, end, elements)\n",
    "            \n",
    "    swap(pivotIndex, end, elements)\n",
    "    \n",
    "    return end\n",
    "\n",
    "\n",
    "def quickSort(elements, start, end):\n",
    "    if start < end:\n",
    "        partitionIndex = partition(elements, start, end)\n",
    "        quickSort(elements, start, partitionIndex-1) # left\n",
    "        quickSort(elements, partitionIndex+1, end)   # right\n",
    "    return elements"
   ]
  },
  {
   "cell_type": "code",
   "execution_count": null,
   "id": "fd71768f",
   "metadata": {},
   "outputs": [],
   "source": [
    "nums = [11, 9, 29, 7, 2, 15, 28]"
   ]
  },
  {
   "cell_type": "code",
   "execution_count": null,
   "id": "f57de8d7",
   "metadata": {},
   "outputs": [],
   "source": [
    "result = partition(nums, 0, len(nums)-1)\n",
    "\n",
    "print(result)"
   ]
  },
  {
   "cell_type": "code",
   "execution_count": null,
   "id": "8625a9a1",
   "metadata": {},
   "outputs": [],
   "source": [
    "nums"
   ]
  },
  {
   "cell_type": "code",
   "execution_count": null,
   "id": "845f7a65",
   "metadata": {},
   "outputs": [],
   "source": [
    "for test in tests:\n",
    "    nums0, output0 = test['input']['nums'], test['output']\n",
    "    print('Input:', nums0)\n",
    "    print('Expected output:', output0)\n",
    "    result0 = quickSort(nums0, 0, len(nums0)-1)\n",
    "    \n",
    "    \n",
    "    start_time = time.process_time()\n",
    "    print('Actual output:', result0)\n",
    "    print('Execution Time:')\n",
    "    print(time.process_time() - start_time, \"seconds\")\n",
    "    \n",
    "#     print('Actual output:', result0)\n",
    "    print('Match:', result0 == output0)"
   ]
  },
  {
   "cell_type": "markdown",
   "id": "37d6fc0b",
   "metadata": {},
   "source": [
    "__Quick sort algorithms using Lomuto partition technique__ "
   ]
  },
  {
   "cell_type": "code",
   "execution_count": null,
   "id": "c539c173",
   "metadata": {},
   "outputs": [],
   "source": [
    "def swap(st, end, element):\n",
    "    if st != end:\n",
    "        element[st], element[end] = element[end], element[st]\n",
    "        \n",
    "        \n",
    "def partition(elements, start, end):\n",
    "    \n",
    "    pivot = elements[end]\n",
    "    pIndex = start\n",
    "    \n",
    "    for index in range(start, end): \n",
    "        if elements[index] <= pivot:\n",
    "            swap(index, pIndex, elements)\n",
    "            pIndex += 1\n",
    "            \n",
    "    swap(pIndex, end, elements)\n",
    "    \n",
    "    return pIndex\n",
    "\n",
    "\n",
    "def quickSort(elements, start, end):\n",
    "    if start < end:\n",
    "        partitionIndex = partition(elements, start, end)\n",
    "        quickSort(elements, start, partitionIndex-1) # left\n",
    "        quickSort(elements, partitionIndex+1, end)   # right\n",
    "    return elements"
   ]
  },
  {
   "cell_type": "code",
   "execution_count": null,
   "id": "d824aba3",
   "metadata": {},
   "outputs": [],
   "source": [
    "num = [11, 9, 29, 7, 2, 15, 28]"
   ]
  },
  {
   "cell_type": "code",
   "execution_count": null,
   "id": "a67ea627",
   "metadata": {},
   "outputs": [],
   "source": [
    "quickSort(elements=num, start=0, end=len(num)-1)"
   ]
  },
  {
   "cell_type": "markdown",
   "id": "be41c309",
   "metadata": {},
   "source": [
    "__Insertion sort is a simple sorting algorithm (Very few lines of code) that is best for small lists. If your array is very big insertion sort might not be the perfect choice as it performs in O(n^2) time complexity.__"
   ]
  },
  {
   "cell_type": "code",
   "execution_count": null,
   "id": "77c16b61",
   "metadata": {},
   "outputs": [],
   "source": [
    "def insertionSort(array):\n",
    "    for i in range(0, len(array)):\n",
    "        current = array[i]\n",
    "        j = i - 1\n",
    "        while j >= 0 and array[j] > current:\n",
    "            array[j + 1] = array[j]\n",
    "            j -= 1       \n",
    "        array[j+1] = current"
   ]
  },
  {
   "cell_type": "code",
   "execution_count": null,
   "id": "64118dc2",
   "metadata": {},
   "outputs": [],
   "source": [
    "insertionSort(input_numbers)"
   ]
  },
  {
   "cell_type": "code",
   "execution_count": null,
   "id": "63860bf1",
   "metadata": {},
   "outputs": [],
   "source": []
  },
  {
   "cell_type": "markdown",
   "id": "546071de",
   "metadata": {},
   "source": [
    "__Merge sort algorithms__"
   ]
  },
  {
   "cell_type": "code",
   "execution_count": 1,
   "id": "bfba6173",
   "metadata": {},
   "outputs": [],
   "source": [
    "def merge(a, b):\n",
    "    merged = []\n",
    "    i = j = 0\n",
    "    while i < len(a) and j < len(b):\n",
    "        if a[i] <= b[j]:\n",
    "            merged.append(a[i])\n",
    "            i += 1\n",
    "        else:\n",
    "            merged.append(b[j])\n",
    "            j += 1       \n",
    "    aTail = a[i:]\n",
    "    bTail = b[j:]\n",
    "    return merged + aTail + bTail       "
   ]
  },
  {
   "cell_type": "code",
   "execution_count": 15,
   "id": "c77f8e3a",
   "metadata": {},
   "outputs": [],
   "source": [
    "def mergeSort(array):\n",
    "    if len(array) <= 1:\n",
    "        return array\n",
    "    mid = len(array) // 2\n",
    "    \n",
    "    return merge(mergeSort(array[:mid]), mergeSort(array[mid:]))"
   ]
  },
  {
   "cell_type": "code",
   "execution_count": 16,
   "id": "841878b9",
   "metadata": {},
   "outputs": [
    {
     "data": {
      "text/plain": [
       "[-1, 0, 1, 2, 3, 4, 7, 8, 9, 11, 12]"
      ]
     },
     "execution_count": 16,
     "metadata": {},
     "output_type": "execute_result"
    }
   ],
   "source": [
    "numbers = [1, 4, 7, 9, 11, -1, 0, 2, 3, 8, 12]\n",
    "mergeSort(numbers)"
   ]
  },
  {
   "cell_type": "code",
   "execution_count": null,
   "id": "5633bf42",
   "metadata": {},
   "outputs": [],
   "source": []
  },
  {
   "cell_type": "markdown",
   "id": "f9f82d62",
   "metadata": {},
   "source": [
    "Shell sort is a customization over insertion sort. Insertion sort requires many swaps and comparisons if heavy elements are located towards the end of an array. Shell sort will initially sort subarrays that are equal distance apart. The distance here is referred to as a gap. We will than keep on reducing the gap until it is 1. With gap=1 it becomes insertion sort but this time due to optimization we have performed earlier, sorting the array would require very less  comparisons and element swaps."
   ]
  },
  {
   "cell_type": "code",
   "execution_count": 58,
   "id": "50439300",
   "metadata": {},
   "outputs": [],
   "source": [
    "def shellSort(array):\n",
    "    size = len(array)\n",
    "    gab = size // 2\n",
    "\n",
    "    while gab > 0:\n",
    "        for i in range(gab, size):\n",
    "            current = array[i]\n",
    "            j = i\n",
    "\n",
    "            while j >= gab and array[j - gab] > current:\n",
    "                array[j] = array[j - gab]\n",
    "                j -= gab\n",
    "            array[j] = current\n",
    "            \n",
    "        gab = gab // 2"
   ]
  },
  {
   "cell_type": "code",
   "execution_count": 59,
   "id": "e7917d64",
   "metadata": {},
   "outputs": [
    {
     "data": {
      "text/plain": [
       "[1, 4, 7, 9, 11]"
      ]
     },
     "execution_count": 59,
     "metadata": {},
     "output_type": "execute_result"
    }
   ],
   "source": [
    "num = [7, 4, 1, 9, 11]\n",
    "shellSort(num)\n",
    "num"
   ]
  },
  {
   "cell_type": "markdown",
   "id": "8c2dcf61",
   "metadata": {},
   "source": [
    "Selection sort is a simple algorithm for sorting, it gives o(n^2) BIG O complexity. In this video we will go over some theory behind selection sort and implement in python. At the end of the video we will have an exercise for you to solve."
   ]
  },
  {
   "cell_type": "code",
   "execution_count": 93,
   "id": "61ab45b5",
   "metadata": {},
   "outputs": [],
   "source": [
    "def selectionSort(array):\n",
    "    size = len(array)\n",
    "\n",
    "    for i in range(size):\n",
    "        minIndex = i\n",
    "        for j in range(minIndex + 1, size):\n",
    "            if array[j] < array[minIndex]:\n",
    "                minIndex = j\n",
    "        array[i], array[minIndex] = array[minIndex], array[i]"
   ]
  },
  {
   "cell_type": "code",
   "execution_count": 94,
   "id": "f733ce43",
   "metadata": {},
   "outputs": [],
   "source": [
    "num = [7, 4, 1, 9, 11]\n",
    "selectionSort(num)"
   ]
  },
  {
   "cell_type": "code",
   "execution_count": 95,
   "id": "f0771657",
   "metadata": {},
   "outputs": [
    {
     "data": {
      "text/plain": [
       "[1, 4, 7, 9, 11]"
      ]
     },
     "execution_count": 95,
     "metadata": {},
     "output_type": "execute_result"
    }
   ],
   "source": [
    "num"
   ]
  },
  {
   "cell_type": "code",
   "execution_count": null,
   "id": "e1df1d2d",
   "metadata": {},
   "outputs": [],
   "source": []
  }
 ],
 "metadata": {
  "kernelspec": {
   "display_name": "Python 3 (ipykernel)",
   "language": "python",
   "name": "python3"
  },
  "language_info": {
   "codemirror_mode": {
    "name": "ipython",
    "version": 3
   },
   "file_extension": ".py",
   "mimetype": "text/x-python",
   "name": "python",
   "nbconvert_exporter": "python",
   "pygments_lexer": "ipython3",
   "version": "3.9.7"
  }
 },
 "nbformat": 4,
 "nbformat_minor": 5
}
